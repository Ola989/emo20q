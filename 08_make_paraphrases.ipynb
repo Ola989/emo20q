{
  "nbformat": 4,
  "nbformat_minor": 5,
  "metadata": {
    "kernelspec": {
      "display_name": "Python 3",
      "language": "python",
      "name": "python3"
    },
    "language_info": {
      "codemirror_mode": {
        "name": "ipython",
        "version": 3
      },
      "file_extension": ".py",
      "mimetype": "text/x-python",
      "name": "python",
      "nbconvert_exporter": "python",
      "pygments_lexer": "ipython3",
      "version": "3.7.9"
    },
    "colab": {
      "name": "08_make_paraphrases.ipynb",
      "provenance": [],
      "include_colab_link": true
    },
    "accelerator": "GPU"
  },
  "cells": [
    {
      "cell_type": "markdown",
      "metadata": {
        "id": "view-in-github",
        "colab_type": "text"
      },
      "source": [
        "<a href=\"https://colab.research.google.com/github/abecode/emo20q/blob/main/08_make_paraphrases.ipynb\" target=\"_parent\"><img src=\"https://colab.research.google.com/assets/colab-badge.svg\" alt=\"Open In Colab\"/></a>"
      ]
    },
    {
      "cell_type": "markdown",
      "metadata": {
        "id": "9qgygfut5wXg"
      },
      "source": [
        "## check gpu"
      ],
      "id": "9qgygfut5wXg"
    },
    {
      "cell_type": "code",
      "metadata": {
        "colab": {
          "base_uri": "https://localhost:8080/"
        },
        "id": "21yDgFCC53Bw",
        "outputId": "6b84be1d-68b7-4995-eeb3-e668a0ea7184"
      },
      "source": [
        "gpu_info = !nvidia-smi\n",
        "gpu_info = '\\n'.join(gpu_info)\n",
        "if gpu_info.find('failed') >= 0:\n",
        "  print('Select the Runtime > \"Change runtime type\" menu to enable a GPU accelerator, ')\n",
        "  print('and then re-execute this cell.')\n",
        "else:\n",
        "  print(gpu_info)"
      ],
      "id": "21yDgFCC53Bw",
      "execution_count": 2,
      "outputs": [
        {
          "output_type": "stream",
          "text": [
            "Mon Apr 19 03:46:45 2021       \n",
            "+-----------------------------------------------------------------------------+\n",
            "| NVIDIA-SMI 460.67       Driver Version: 460.32.03    CUDA Version: 11.2     |\n",
            "|-------------------------------+----------------------+----------------------+\n",
            "| GPU  Name        Persistence-M| Bus-Id        Disp.A | Volatile Uncorr. ECC |\n",
            "| Fan  Temp  Perf  Pwr:Usage/Cap|         Memory-Usage | GPU-Util  Compute M. |\n",
            "|                               |                      |               MIG M. |\n",
            "|===============================+======================+======================|\n",
            "|   0  Tesla V100-SXM2...  Off  | 00000000:00:04.0 Off |                    0 |\n",
            "| N/A   37C    P0    23W / 300W |      0MiB / 16160MiB |      0%      Default |\n",
            "|                               |                      |                  N/A |\n",
            "+-------------------------------+----------------------+----------------------+\n",
            "                                                                               \n",
            "+-----------------------------------------------------------------------------+\n",
            "| Processes:                                                                  |\n",
            "|  GPU   GI   CI        PID   Type   Process name                  GPU Memory |\n",
            "|        ID   ID                                                   Usage      |\n",
            "|=============================================================================|\n",
            "|  No running processes found                                                 |\n",
            "+-----------------------------------------------------------------------------+\n"
          ],
          "name": "stdout"
        }
      ]
    },
    {
      "cell_type": "markdown",
      "metadata": {
        "id": "collect-saskatchewan"
      },
      "source": [
        "# Extract Paraphrases"
      ],
      "id": "collect-saskatchewan"
    },
    {
      "cell_type": "code",
      "metadata": {
        "colab": {
          "base_uri": "https://localhost:8080/"
        },
        "id": "m6ICo1ulMHDG",
        "outputId": "6243689e-e226-49c4-b3c8-5470dee126ed"
      },
      "source": [
        "# checkout git repo and switch to bert branch\n",
        "!git clone https://github.com/abecode/emo20q\n",
        "!cd emo20q && git checkout bert"
      ],
      "id": "m6ICo1ulMHDG",
      "execution_count": 3,
      "outputs": [
        {
          "output_type": "stream",
          "text": [
            "fatal: destination path 'emo20q' already exists and is not an empty directory.\n",
            "Already on 'bert'\n",
            "Your branch is up to date with 'origin/bert'.\n"
          ],
          "name": "stdout"
        }
      ]
    },
    {
      "cell_type": "code",
      "metadata": {
        "id": "Kk-MuFB1QfYi"
      },
      "source": [
        "#!cd emo20q && git pull --ff-only origin bert"
      ],
      "id": "Kk-MuFB1QfYi",
      "execution_count": 4,
      "outputs": []
    },
    {
      "cell_type": "code",
      "metadata": {
        "colab": {
          "base_uri": "https://localhost:8080/"
        },
        "id": "pBGUMyUuM-5e",
        "outputId": "9af358dc-40d9-40d1-ce61-2f8a8d98bfb2"
      },
      "source": [
        "!cd emo20q && ls"
      ],
      "id": "pBGUMyUuM-5e",
      "execution_count": 5,
      "outputs": [
        {
          "output_type": "stream",
          "text": [
            "01_examine_data.ipynb\t\t\t emo20q_demo_20210412.ipynb\n",
            "02_lexical_access.ipynb\t\t\t LICENSE\n",
            "03_nlp_helpers.ipynb\t\t\t Makefile\n",
            "04_semantic_knowledge.ipynb\t\t pre-commit\n",
            "05_episodic_buffer.ipynb\t\t README.md\n",
            "06_generalized_pushdown_automaton.ipynb  requirements.bert.txt\n",
            "07_gpdaquestioner.ipynb\t\t\t requirements.jupyter.txt\n",
            "08_make_paraphrases.ipynb\t\t requirements.pytest.txt\n",
            "emo20q\n"
          ],
          "name": "stdout"
        }
      ]
    },
    {
      "cell_type": "code",
      "metadata": {
        "colab": {
          "base_uri": "https://localhost:8080/"
        },
        "id": "JnF9YJvINqpS",
        "outputId": "40a58f56-be6b-4808-960b-66edc5df268a"
      },
      "source": [
        "# install requirements\n",
        "!pip install -r emo20q/requirements.bert.txt"
      ],
      "id": "JnF9YJvINqpS",
      "execution_count": 6,
      "outputs": [
        {
          "output_type": "stream",
          "text": [
            "Requirement already satisfied: absl-py==0.12.0 in /usr/local/lib/python3.7/dist-packages (from -r emo20q/requirements.bert.txt (line 1)) (0.12.0)\n",
            "Requirement already satisfied: appdirs==1.4.4 in /usr/local/lib/python3.7/dist-packages (from -r emo20q/requirements.bert.txt (line 2)) (1.4.4)\n",
            "Requirement already satisfied: appnope==0.1.2 in /usr/local/lib/python3.7/dist-packages (from -r emo20q/requirements.bert.txt (line 3)) (0.1.2)\n",
            "Requirement already satisfied: argon2-cffi==20.1.0 in /usr/local/lib/python3.7/dist-packages (from -r emo20q/requirements.bert.txt (line 4)) (20.1.0)\n",
            "Requirement already satisfied: astunparse==1.6.3 in /usr/local/lib/python3.7/dist-packages (from -r emo20q/requirements.bert.txt (line 5)) (1.6.3)\n",
            "Requirement already satisfied: async-generator==1.10 in /usr/local/lib/python3.7/dist-packages (from -r emo20q/requirements.bert.txt (line 6)) (1.10)\n",
            "Requirement already satisfied: attrs==20.3.0 in /usr/local/lib/python3.7/dist-packages (from -r emo20q/requirements.bert.txt (line 7)) (20.3.0)\n",
            "Requirement already satisfied: backcall==0.2.0 in /usr/local/lib/python3.7/dist-packages (from -r emo20q/requirements.bert.txt (line 8)) (0.2.0)\n",
            "Requirement already satisfied: bleach==3.3.0 in /usr/local/lib/python3.7/dist-packages (from -r emo20q/requirements.bert.txt (line 9)) (3.3.0)\n",
            "Requirement already satisfied: cachetools==4.2.1 in /usr/local/lib/python3.7/dist-packages (from -r emo20q/requirements.bert.txt (line 10)) (4.2.1)\n",
            "Requirement already satisfied: certifi==2020.12.5 in /usr/local/lib/python3.7/dist-packages (from -r emo20q/requirements.bert.txt (line 11)) (2020.12.5)\n",
            "Requirement already satisfied: cffi==1.14.5 in /usr/local/lib/python3.7/dist-packages (from -r emo20q/requirements.bert.txt (line 12)) (1.14.5)\n",
            "Requirement already satisfied: cfgv==3.2.0 in /usr/local/lib/python3.7/dist-packages (from -r emo20q/requirements.bert.txt (line 13)) (3.2.0)\n",
            "Requirement already satisfied: chardet==4.0.0 in /usr/local/lib/python3.7/dist-packages (from -r emo20q/requirements.bert.txt (line 14)) (4.0.0)\n",
            "Requirement already satisfied: click==7.1.2 in /usr/local/lib/python3.7/dist-packages (from -r emo20q/requirements.bert.txt (line 15)) (7.1.2)\n",
            "Requirement already satisfied: cycler==0.10.0 in /usr/local/lib/python3.7/dist-packages (from -r emo20q/requirements.bert.txt (line 16)) (0.10.0)\n",
            "Requirement already satisfied: Cython==0.29.23 in /usr/local/lib/python3.7/dist-packages (from -r emo20q/requirements.bert.txt (line 17)) (0.29.23)\n",
            "Requirement already satisfied: dataclasses==0.6 in /usr/local/lib/python3.7/dist-packages (from -r emo20q/requirements.bert.txt (line 18)) (0.6)\n",
            "Requirement already satisfied: decorator==4.4.2 in /usr/local/lib/python3.7/dist-packages (from -r emo20q/requirements.bert.txt (line 19)) (4.4.2)\n",
            "Requirement already satisfied: defusedxml==0.7.1 in /usr/local/lib/python3.7/dist-packages (from -r emo20q/requirements.bert.txt (line 20)) (0.7.1)\n",
            "Requirement already satisfied: dill==0.3.3 in /usr/local/lib/python3.7/dist-packages (from -r emo20q/requirements.bert.txt (line 21)) (0.3.3)\n",
            "Requirement already satisfied: distlib==0.3.1 in /usr/local/lib/python3.7/dist-packages (from -r emo20q/requirements.bert.txt (line 22)) (0.3.1)\n",
            "Requirement already satisfied: dm-tree==0.1.6 in /usr/local/lib/python3.7/dist-packages (from -r emo20q/requirements.bert.txt (line 23)) (0.1.6)\n",
            "Requirement already satisfied: entrypoints==0.3 in /usr/local/lib/python3.7/dist-packages (from -r emo20q/requirements.bert.txt (line 24)) (0.3)\n",
            "Requirement already satisfied: filelock==3.0.12 in /usr/local/lib/python3.7/dist-packages (from -r emo20q/requirements.bert.txt (line 25)) (3.0.12)\n",
            "Requirement already satisfied: flatbuffers==1.12 in /usr/local/lib/python3.7/dist-packages (from -r emo20q/requirements.bert.txt (line 26)) (1.12)\n",
            "Requirement already satisfied: future==0.18.2 in /usr/local/lib/python3.7/dist-packages (from -r emo20q/requirements.bert.txt (line 27)) (0.18.2)\n",
            "Requirement already satisfied: gast==0.3.3 in /usr/local/lib/python3.7/dist-packages (from -r emo20q/requirements.bert.txt (line 28)) (0.3.3)\n",
            "Requirement already satisfied: gin-config==0.4.0 in /usr/local/lib/python3.7/dist-packages (from -r emo20q/requirements.bert.txt (line 29)) (0.4.0)\n",
            "Requirement already satisfied: google-api-core==1.26.3 in /usr/local/lib/python3.7/dist-packages (from -r emo20q/requirements.bert.txt (line 30)) (1.26.3)\n",
            "Requirement already satisfied: google-api-python-client==2.2.0 in /usr/local/lib/python3.7/dist-packages (from -r emo20q/requirements.bert.txt (line 31)) (2.2.0)\n",
            "Requirement already satisfied: google-auth==1.29.0 in /usr/local/lib/python3.7/dist-packages (from -r emo20q/requirements.bert.txt (line 32)) (1.29.0)\n",
            "Requirement already satisfied: google-auth-httplib2==0.1.0 in /usr/local/lib/python3.7/dist-packages (from -r emo20q/requirements.bert.txt (line 33)) (0.1.0)\n",
            "Requirement already satisfied: google-auth-oauthlib==0.4.4 in /usr/local/lib/python3.7/dist-packages (from -r emo20q/requirements.bert.txt (line 34)) (0.4.4)\n",
            "Requirement already satisfied: google-cloud-bigquery==2.13.1 in /usr/local/lib/python3.7/dist-packages (from -r emo20q/requirements.bert.txt (line 35)) (2.13.1)\n",
            "Requirement already satisfied: google-cloud-core==1.6.0 in /usr/local/lib/python3.7/dist-packages (from -r emo20q/requirements.bert.txt (line 36)) (1.6.0)\n",
            "Requirement already satisfied: google-crc32c==1.1.2 in /usr/local/lib/python3.7/dist-packages (from -r emo20q/requirements.bert.txt (line 37)) (1.1.2)\n",
            "Requirement already satisfied: google-pasta==0.2.0 in /usr/local/lib/python3.7/dist-packages (from -r emo20q/requirements.bert.txt (line 38)) (0.2.0)\n",
            "Requirement already satisfied: google-resumable-media==1.2.0 in /usr/local/lib/python3.7/dist-packages (from -r emo20q/requirements.bert.txt (line 39)) (1.2.0)\n",
            "Requirement already satisfied: googleapis-common-protos==1.53.0 in /usr/local/lib/python3.7/dist-packages (from -r emo20q/requirements.bert.txt (line 40)) (1.53.0)\n",
            "Requirement already satisfied: grpcio==1.32.0 in /usr/local/lib/python3.7/dist-packages (from -r emo20q/requirements.bert.txt (line 41)) (1.32.0)\n",
            "Requirement already satisfied: h5py==2.10.0 in /usr/local/lib/python3.7/dist-packages (from -r emo20q/requirements.bert.txt (line 42)) (2.10.0)\n",
            "Requirement already satisfied: httplib2==0.19.1 in /usr/local/lib/python3.7/dist-packages (from -r emo20q/requirements.bert.txt (line 43)) (0.19.1)\n",
            "Requirement already satisfied: identify==2.2.0 in /usr/local/lib/python3.7/dist-packages (from -r emo20q/requirements.bert.txt (line 44)) (2.2.0)\n",
            "Requirement already satisfied: idna==2.10 in /usr/local/lib/python3.7/dist-packages (from -r emo20q/requirements.bert.txt (line 45)) (2.10)\n",
            "Requirement already satisfied: importlib-metadata==3.7.2 in /usr/local/lib/python3.7/dist-packages (from -r emo20q/requirements.bert.txt (line 46)) (3.7.2)\n",
            "Requirement already satisfied: importlib-resources==5.1.2 in /usr/local/lib/python3.7/dist-packages (from -r emo20q/requirements.bert.txt (line 47)) (5.1.2)\n",
            "Requirement already satisfied: ipykernel==5.5.0 in /usr/local/lib/python3.7/dist-packages (from -r emo20q/requirements.bert.txt (line 48)) (5.5.0)\n",
            "Requirement already satisfied: ipython==7.21.0 in /usr/local/lib/python3.7/dist-packages (from -r emo20q/requirements.bert.txt (line 49)) (7.21.0)\n",
            "Requirement already satisfied: ipython-genutils==0.2.0 in /usr/local/lib/python3.7/dist-packages (from -r emo20q/requirements.bert.txt (line 50)) (0.2.0)\n",
            "Requirement already satisfied: ipywidgets==7.6.3 in /usr/local/lib/python3.7/dist-packages (from -r emo20q/requirements.bert.txt (line 51)) (7.6.3)\n",
            "Requirement already satisfied: jedi==0.18.0 in /usr/local/lib/python3.7/dist-packages (from -r emo20q/requirements.bert.txt (line 52)) (0.18.0)\n",
            "Requirement already satisfied: Jinja2==2.11.3 in /usr/local/lib/python3.7/dist-packages (from -r emo20q/requirements.bert.txt (line 53)) (2.11.3)\n",
            "Requirement already satisfied: joblib==1.0.1 in /usr/local/lib/python3.7/dist-packages (from -r emo20q/requirements.bert.txt (line 54)) (1.0.1)\n",
            "Requirement already satisfied: jsonschema==3.2.0 in /usr/local/lib/python3.7/dist-packages (from -r emo20q/requirements.bert.txt (line 55)) (3.2.0)\n",
            "Requirement already satisfied: jupyter==1.0.0 in /usr/local/lib/python3.7/dist-packages (from -r emo20q/requirements.bert.txt (line 56)) (1.0.0)\n",
            "Requirement already satisfied: jupyter-client==6.1.11 in /usr/local/lib/python3.7/dist-packages (from -r emo20q/requirements.bert.txt (line 57)) (6.1.11)\n",
            "Requirement already satisfied: jupyter-console==6.2.0 in /usr/local/lib/python3.7/dist-packages (from -r emo20q/requirements.bert.txt (line 58)) (6.2.0)\n",
            "Requirement already satisfied: jupyter-core==4.7.1 in /usr/local/lib/python3.7/dist-packages (from -r emo20q/requirements.bert.txt (line 59)) (4.7.1)\n",
            "Requirement already satisfied: jupyterlab-pygments==0.1.2 in /usr/local/lib/python3.7/dist-packages (from -r emo20q/requirements.bert.txt (line 60)) (0.1.2)\n",
            "Requirement already satisfied: jupyterlab-widgets==1.0.0 in /usr/local/lib/python3.7/dist-packages (from -r emo20q/requirements.bert.txt (line 61)) (1.0.0)\n",
            "Requirement already satisfied: kaggle==1.5.12 in /usr/local/lib/python3.7/dist-packages (from -r emo20q/requirements.bert.txt (line 62)) (1.5.12)\n",
            "Requirement already satisfied: Keras-Preprocessing==1.1.2 in /usr/local/lib/python3.7/dist-packages (from -r emo20q/requirements.bert.txt (line 63)) (1.1.2)\n",
            "Requirement already satisfied: kiwisolver==1.3.1 in /usr/local/lib/python3.7/dist-packages (from -r emo20q/requirements.bert.txt (line 64)) (1.3.1)\n",
            "Requirement already satisfied: Markdown==3.3.4 in /usr/local/lib/python3.7/dist-packages (from -r emo20q/requirements.bert.txt (line 65)) (3.3.4)\n",
            "Requirement already satisfied: MarkupSafe==1.1.1 in /usr/local/lib/python3.7/dist-packages (from -r emo20q/requirements.bert.txt (line 66)) (1.1.1)\n",
            "Requirement already satisfied: matplotlib==3.1.3 in /usr/local/lib/python3.7/dist-packages (from -r emo20q/requirements.bert.txt (line 67)) (3.1.3)\n",
            "Requirement already satisfied: mistune==0.8.4 in /usr/local/lib/python3.7/dist-packages (from -r emo20q/requirements.bert.txt (line 68)) (0.8.4)\n",
            "Requirement already satisfied: nbclient==0.5.3 in /usr/local/lib/python3.7/dist-packages (from -r emo20q/requirements.bert.txt (line 69)) (0.5.3)\n",
            "Requirement already satisfied: nbconvert==6.0.7 in /usr/local/lib/python3.7/dist-packages (from -r emo20q/requirements.bert.txt (line 70)) (6.0.7)\n",
            "Requirement already satisfied: nbformat==5.1.2 in /usr/local/lib/python3.7/dist-packages (from -r emo20q/requirements.bert.txt (line 71)) (5.1.2)\n",
            "Requirement already satisfied: nbstripout==0.3.9 in /usr/local/lib/python3.7/dist-packages (from -r emo20q/requirements.bert.txt (line 72)) (0.3.9)\n",
            "Requirement already satisfied: nest-asyncio==1.5.1 in /usr/local/lib/python3.7/dist-packages (from -r emo20q/requirements.bert.txt (line 73)) (1.5.1)\n",
            "Requirement already satisfied: networkx==2.5 in /usr/local/lib/python3.7/dist-packages (from -r emo20q/requirements.bert.txt (line 74)) (2.5)\n",
            "Requirement already satisfied: nltk==3.5 in /usr/local/lib/python3.7/dist-packages (from -r emo20q/requirements.bert.txt (line 75)) (3.5)\n",
            "Requirement already satisfied: nodeenv==1.5.0 in /usr/local/lib/python3.7/dist-packages (from -r emo20q/requirements.bert.txt (line 76)) (1.5.0)\n",
            "Requirement already satisfied: notebook==6.2.0 in /usr/local/lib/python3.7/dist-packages (from -r emo20q/requirements.bert.txt (line 77)) (6.2.0)\n",
            "Requirement already satisfied: numpy==1.19.5 in /usr/local/lib/python3.7/dist-packages (from -r emo20q/requirements.bert.txt (line 78)) (1.19.5)\n",
            "Requirement already satisfied: oauth2client==4.1.3 in /usr/local/lib/python3.7/dist-packages (from -r emo20q/requirements.bert.txt (line 79)) (4.1.3)\n",
            "Requirement already satisfied: oauthlib==3.1.0 in /usr/local/lib/python3.7/dist-packages (from -r emo20q/requirements.bert.txt (line 80)) (3.1.0)\n",
            "Requirement already satisfied: opencv-python-headless==4.5.1.48 in /usr/local/lib/python3.7/dist-packages (from -r emo20q/requirements.bert.txt (line 81)) (4.5.1.48)\n",
            "Requirement already satisfied: opt-einsum==3.3.0 in /usr/local/lib/python3.7/dist-packages (from -r emo20q/requirements.bert.txt (line 82)) (3.3.0)\n",
            "Requirement already satisfied: packaging==20.9 in /usr/local/lib/python3.7/dist-packages (from -r emo20q/requirements.bert.txt (line 83)) (20.9)\n",
            "Requirement already satisfied: pandas==1.2.4 in /usr/local/lib/python3.7/dist-packages (from -r emo20q/requirements.bert.txt (line 84)) (1.2.4)\n",
            "Requirement already satisfied: pandocfilters==1.4.3 in /usr/local/lib/python3.7/dist-packages (from -r emo20q/requirements.bert.txt (line 85)) (1.4.3)\n",
            "Requirement already satisfied: parso==0.8.1 in /usr/local/lib/python3.7/dist-packages (from -r emo20q/requirements.bert.txt (line 86)) (0.8.1)\n",
            "Requirement already satisfied: pexpect==4.8.0 in /usr/local/lib/python3.7/dist-packages (from -r emo20q/requirements.bert.txt (line 87)) (4.8.0)\n",
            "Requirement already satisfied: pickleshare==0.7.5 in /usr/local/lib/python3.7/dist-packages (from -r emo20q/requirements.bert.txt (line 88)) (0.7.5)\n",
            "Requirement already satisfied: Pillow==8.2.0 in /usr/local/lib/python3.7/dist-packages (from -r emo20q/requirements.bert.txt (line 89)) (8.2.0)\n",
            "Requirement already satisfied: pre-commit==2.11.1 in /usr/local/lib/python3.7/dist-packages (from -r emo20q/requirements.bert.txt (line 90)) (2.11.1)\n",
            "Requirement already satisfied: prometheus-client==0.9.0 in /usr/local/lib/python3.7/dist-packages (from -r emo20q/requirements.bert.txt (line 91)) (0.9.0)\n",
            "Requirement already satisfied: promise==2.3 in /usr/local/lib/python3.7/dist-packages (from -r emo20q/requirements.bert.txt (line 92)) (2.3)\n",
            "Requirement already satisfied: prompt-toolkit==3.0.17 in /usr/local/lib/python3.7/dist-packages (from -r emo20q/requirements.bert.txt (line 93)) (3.0.17)\n",
            "Requirement already satisfied: proto-plus==1.18.1 in /usr/local/lib/python3.7/dist-packages (from -r emo20q/requirements.bert.txt (line 94)) (1.18.1)\n",
            "Requirement already satisfied: protobuf==3.15.8 in /usr/local/lib/python3.7/dist-packages (from -r emo20q/requirements.bert.txt (line 95)) (3.15.8)\n",
            "Requirement already satisfied: psutil==5.8.0 in /usr/local/lib/python3.7/dist-packages (from -r emo20q/requirements.bert.txt (line 96)) (5.8.0)\n",
            "Requirement already satisfied: ptyprocess==0.7.0 in /usr/local/lib/python3.7/dist-packages (from -r emo20q/requirements.bert.txt (line 97)) (0.7.0)\n",
            "Requirement already satisfied: py-cpuinfo==8.0.0 in /usr/local/lib/python3.7/dist-packages (from -r emo20q/requirements.bert.txt (line 98)) (8.0.0)\n",
            "Requirement already satisfied: pyasn1==0.4.8 in /usr/local/lib/python3.7/dist-packages (from -r emo20q/requirements.bert.txt (line 99)) (0.4.8)\n",
            "Requirement already satisfied: pyasn1-modules==0.2.8 in /usr/local/lib/python3.7/dist-packages (from -r emo20q/requirements.bert.txt (line 100)) (0.2.8)\n",
            "Requirement already satisfied: pycocotools==2.0.2 in /usr/local/lib/python3.7/dist-packages (from -r emo20q/requirements.bert.txt (line 101)) (2.0.2)\n",
            "Requirement already satisfied: pycparser==2.20 in /usr/local/lib/python3.7/dist-packages (from -r emo20q/requirements.bert.txt (line 102)) (2.20)\n",
            "Requirement already satisfied: pydot==1.4.2 in /usr/local/lib/python3.7/dist-packages (from -r emo20q/requirements.bert.txt (line 103)) (1.4.2)\n",
            "Requirement already satisfied: Pygments==2.8.1 in /usr/local/lib/python3.7/dist-packages (from -r emo20q/requirements.bert.txt (line 104)) (2.8.1)\n",
            "Requirement already satisfied: pyparsing==2.4.7 in /usr/local/lib/python3.7/dist-packages (from -r emo20q/requirements.bert.txt (line 105)) (2.4.7)\n",
            "Requirement already satisfied: pyrsistent==0.17.3 in /usr/local/lib/python3.7/dist-packages (from -r emo20q/requirements.bert.txt (line 106)) (0.17.3)\n",
            "Requirement already satisfied: python-dateutil==2.8.1 in /usr/local/lib/python3.7/dist-packages (from -r emo20q/requirements.bert.txt (line 107)) (2.8.1)\n",
            "Requirement already satisfied: python-slugify==4.0.1 in /usr/local/lib/python3.7/dist-packages (from -r emo20q/requirements.bert.txt (line 108)) (4.0.1)\n",
            "Requirement already satisfied: pytz==2021.1 in /usr/local/lib/python3.7/dist-packages (from -r emo20q/requirements.bert.txt (line 109)) (2021.1)\n",
            "Requirement already satisfied: PyYAML==5.4.1 in /usr/local/lib/python3.7/dist-packages (from -r emo20q/requirements.bert.txt (line 110)) (5.4.1)\n",
            "Requirement already satisfied: pyzmq==22.0.3 in /usr/local/lib/python3.7/dist-packages (from -r emo20q/requirements.bert.txt (line 111)) (22.0.3)\n",
            "Requirement already satisfied: qtconsole==5.0.2 in /usr/local/lib/python3.7/dist-packages (from -r emo20q/requirements.bert.txt (line 112)) (5.0.2)\n",
            "Requirement already satisfied: QtPy==1.9.0 in /usr/local/lib/python3.7/dist-packages (from -r emo20q/requirements.bert.txt (line 113)) (1.9.0)\n",
            "Requirement already satisfied: regex==2021.3.17 in /usr/local/lib/python3.7/dist-packages (from -r emo20q/requirements.bert.txt (line 114)) (2021.3.17)\n",
            "Requirement already satisfied: requests==2.25.1 in /usr/local/lib/python3.7/dist-packages (from -r emo20q/requirements.bert.txt (line 115)) (2.25.1)\n",
            "Requirement already satisfied: requests-oauthlib==1.3.0 in /usr/local/lib/python3.7/dist-packages (from -r emo20q/requirements.bert.txt (line 116)) (1.3.0)\n",
            "Requirement already satisfied: rsa==4.7.2 in /usr/local/lib/python3.7/dist-packages (from -r emo20q/requirements.bert.txt (line 117)) (4.7.2)\n",
            "Requirement already satisfied: scikit-learn==0.24.1 in /usr/local/lib/python3.7/dist-packages (from -r emo20q/requirements.bert.txt (line 118)) (0.24.1)\n",
            "Requirement already satisfied: scipy==1.6.2 in /usr/local/lib/python3.7/dist-packages (from -r emo20q/requirements.bert.txt (line 119)) (1.6.2)\n",
            "Requirement already satisfied: Send2Trash==1.5.0 in /usr/local/lib/python3.7/dist-packages (from -r emo20q/requirements.bert.txt (line 120)) (1.5.0)\n",
            "Requirement already satisfied: sentencepiece==0.1.95 in /usr/local/lib/python3.7/dist-packages (from -r emo20q/requirements.bert.txt (line 121)) (0.1.95)\n",
            "Requirement already satisfied: seqeval==1.2.2 in /usr/local/lib/python3.7/dist-packages (from -r emo20q/requirements.bert.txt (line 122)) (1.2.2)\n",
            "Requirement already satisfied: six==1.15.0 in /usr/local/lib/python3.7/dist-packages (from -r emo20q/requirements.bert.txt (line 123)) (1.15.0)\n",
            "Requirement already satisfied: tensorboard==2.4.1 in /usr/local/lib/python3.7/dist-packages (from -r emo20q/requirements.bert.txt (line 124)) (2.4.1)\n",
            "Requirement already satisfied: tensorboard-plugin-wit==1.8.0 in /usr/local/lib/python3.7/dist-packages (from -r emo20q/requirements.bert.txt (line 125)) (1.8.0)\n",
            "Requirement already satisfied: tensorflow==2.4.1 in /usr/local/lib/python3.7/dist-packages (from -r emo20q/requirements.bert.txt (line 126)) (2.4.1)\n",
            "Requirement already satisfied: tensorflow-addons==0.12.1 in /usr/local/lib/python3.7/dist-packages (from -r emo20q/requirements.bert.txt (line 127)) (0.12.1)\n",
            "Requirement already satisfied: tensorflow-datasets==4.2.0 in /usr/local/lib/python3.7/dist-packages (from -r emo20q/requirements.bert.txt (line 128)) (4.2.0)\n",
            "Requirement already satisfied: tensorflow-estimator==2.4.0 in /usr/local/lib/python3.7/dist-packages (from -r emo20q/requirements.bert.txt (line 129)) (2.4.0)\n",
            "Requirement already satisfied: tensorflow-hub==0.12.0 in /usr/local/lib/python3.7/dist-packages (from -r emo20q/requirements.bert.txt (line 130)) (0.12.0)\n",
            "Requirement already satisfied: tensorflow-metadata==0.29.0 in /usr/local/lib/python3.7/dist-packages (from -r emo20q/requirements.bert.txt (line 131)) (0.29.0)\n",
            "Requirement already satisfied: tensorflow-model-optimization==0.5.0 in /usr/local/lib/python3.7/dist-packages (from -r emo20q/requirements.bert.txt (line 132)) (0.5.0)\n",
            "Requirement already satisfied: termcolor==1.1.0 in /usr/local/lib/python3.7/dist-packages (from -r emo20q/requirements.bert.txt (line 133)) (1.1.0)\n",
            "Requirement already satisfied: terminado==0.9.2 in /usr/local/lib/python3.7/dist-packages (from -r emo20q/requirements.bert.txt (line 134)) (0.9.2)\n",
            "Requirement already satisfied: testpath==0.4.4 in /usr/local/lib/python3.7/dist-packages (from -r emo20q/requirements.bert.txt (line 135)) (0.4.4)\n",
            "Requirement already satisfied: text-unidecode==1.3 in /usr/local/lib/python3.7/dist-packages (from -r emo20q/requirements.bert.txt (line 136)) (1.3)\n",
            "Requirement already satisfied: tf-models-official==2.4.0 in /usr/local/lib/python3.7/dist-packages (from -r emo20q/requirements.bert.txt (line 137)) (2.4.0)\n",
            "Requirement already satisfied: tf-slim==1.1.0 in /usr/local/lib/python3.7/dist-packages (from -r emo20q/requirements.bert.txt (line 138)) (1.1.0)\n",
            "Requirement already satisfied: threadpoolctl==2.1.0 in /usr/local/lib/python3.7/dist-packages (from -r emo20q/requirements.bert.txt (line 139)) (2.1.0)\n",
            "Requirement already satisfied: toml==0.10.2 in /usr/local/lib/python3.7/dist-packages (from -r emo20q/requirements.bert.txt (line 140)) (0.10.2)\n",
            "Requirement already satisfied: tornado==6.1 in /usr/local/lib/python3.7/dist-packages (from -r emo20q/requirements.bert.txt (line 141)) (6.1)\n",
            "Requirement already satisfied: tqdm==4.59.0 in /usr/local/lib/python3.7/dist-packages (from -r emo20q/requirements.bert.txt (line 142)) (4.59.0)\n",
            "Requirement already satisfied: traitlets==5.0.5 in /usr/local/lib/python3.7/dist-packages (from -r emo20q/requirements.bert.txt (line 143)) (5.0.5)\n",
            "Requirement already satisfied: typeguard==2.12.0 in /usr/local/lib/python3.7/dist-packages (from -r emo20q/requirements.bert.txt (line 144)) (2.12.0)\n",
            "Requirement already satisfied: typing-extensions==3.7.4.3 in /usr/local/lib/python3.7/dist-packages (from -r emo20q/requirements.bert.txt (line 145)) (3.7.4.3)\n",
            "Requirement already satisfied: uritemplate==3.0.1 in /usr/local/lib/python3.7/dist-packages (from -r emo20q/requirements.bert.txt (line 146)) (3.0.1)\n",
            "Requirement already satisfied: urllib3==1.26.4 in /usr/local/lib/python3.7/dist-packages (from -r emo20q/requirements.bert.txt (line 147)) (1.26.4)\n",
            "Requirement already satisfied: virtualenv==20.4.3 in /usr/local/lib/python3.7/dist-packages (from -r emo20q/requirements.bert.txt (line 148)) (20.4.3)\n",
            "Requirement already satisfied: wcwidth==0.2.5 in /usr/local/lib/python3.7/dist-packages (from -r emo20q/requirements.bert.txt (line 149)) (0.2.5)\n",
            "Requirement already satisfied: webencodings==0.5.1 in /usr/local/lib/python3.7/dist-packages (from -r emo20q/requirements.bert.txt (line 150)) (0.5.1)\n",
            "Requirement already satisfied: Werkzeug==1.0.1 in /usr/local/lib/python3.7/dist-packages (from -r emo20q/requirements.bert.txt (line 151)) (1.0.1)\n",
            "Requirement already satisfied: widgetsnbextension==3.5.1 in /usr/local/lib/python3.7/dist-packages (from -r emo20q/requirements.bert.txt (line 152)) (3.5.1)\n",
            "Requirement already satisfied: wrapt==1.12.1 in /usr/local/lib/python3.7/dist-packages (from -r emo20q/requirements.bert.txt (line 153)) (1.12.1)\n",
            "Requirement already satisfied: zipp==3.4.1 in /usr/local/lib/python3.7/dist-packages (from -r emo20q/requirements.bert.txt (line 154)) (3.4.1)\n",
            "Requirement already satisfied: wheel<1.0,>=0.23.0 in /usr/local/lib/python3.7/dist-packages (from astunparse==1.6.3->-r emo20q/requirements.bert.txt (line 5)) (0.36.2)\n",
            "Requirement already satisfied: setuptools>=40.3.0 in /usr/local/lib/python3.7/dist-packages (from google-api-core==1.26.3->-r emo20q/requirements.bert.txt (line 30)) (54.2.0)\n"
          ],
          "name": "stdout"
        }
      ]
    },
    {
      "cell_type": "code",
      "metadata": {
        "id": "yrBeTvExN1EM"
      },
      "source": [
        "import sys\n",
        "sys.path.append(\"emo20q\") # put the library on the path"
      ],
      "id": "yrBeTvExN1EM",
      "execution_count": 7,
      "outputs": []
    },
    {
      "cell_type": "code",
      "metadata": {
        "id": "material-dance"
      },
      "source": [
        "from collections import defaultdict\n",
        "from emo20q.gamedata import HumanHumanTournament\n",
        "\n",
        "def collect_paraphrases(hht) -> dict:\n",
        "    \"\"\"returns a dict with gloss/semantic annotation as the key and a set\n",
        "    of examples as the values\n",
        "    \"\"\"\n",
        "    paraphrase_dict = defaultdict(set)\n",
        "    for m in hht.matches:\n",
        "        for t in m.turns:\n",
        "            paraphrase_dict[t.qgloss].add(t.q)\n",
        "\n",
        "    return paraphrase_dict"
      ],
      "id": "material-dance",
      "execution_count": 8,
      "outputs": []
    },
    {
      "cell_type": "code",
      "metadata": {
        "id": "ordinary-naples"
      },
      "source": [
        "pd = collect_paraphrases(HumanHumanTournament())"
      ],
      "id": "ordinary-naples",
      "execution_count": 9,
      "outputs": []
    },
    {
      "cell_type": "code",
      "metadata": {
        "colab": {
          "base_uri": "https://localhost:8080/"
        },
        "id": "broke-abuse",
        "outputId": "d4685e10-c48d-489d-c227-9d42bb65ec53"
      },
      "source": [
        "len(pd.keys())"
      ],
      "id": "broke-abuse",
      "execution_count": 10,
      "outputs": [
        {
          "output_type": "execute_result",
          "data": {
            "text/plain": [
              "700"
            ]
          },
          "metadata": {
            "tags": []
          },
          "execution_count": 10
        }
      ]
    },
    {
      "cell_type": "code",
      "metadata": {
        "id": "aerial-phone"
      },
      "source": [
        "# c.f. https://realpython.com/python-histograms/\n",
        "def count_elements(seq) -> dict:\n",
        "     \"\"\"Tally elements from `seq`.\"\"\"\n",
        "     hist = {}\n",
        "     for i in seq:\n",
        "         hist[i] = hist.get(i, 0) + 1\n",
        "     return hist\n",
        "\n",
        "def ascii_histogram(seq) -> None:\n",
        "    \"\"\"A horizontal frequency-table/histogram plot.\"\"\"\n",
        "    counted = count_elements(seq)\n",
        "    for k in sorted(counted):\n",
        "        print('{0:5d} {1}'.format(k, '+' * counted[k]), f\"({counted[k]})\")"
      ],
      "id": "aerial-phone",
      "execution_count": 11,
      "outputs": []
    },
    {
      "cell_type": "code",
      "metadata": {
        "colab": {
          "base_uri": "https://localhost:8080/"
        },
        "id": "empirical-jacksonville",
        "outputId": "12a52011-a6ba-4caa-f7f4-be3da3db1c16"
      },
      "source": [
        "ascii_histogram([len(pd[k]) for k in pd.keys()])"
      ],
      "id": "empirical-jacksonville",
      "execution_count": 12,
      "outputs": [
        {
          "output_type": "stream",
          "text": [
            "    1 +++++++++++++++++++++++++++++++++++++++++++++++++++++++++++++++++++++++++++++++++++++++++++++++++++++++++++++++++++++++++++++++++++++++++++++++++++++++++++++++++++++++++++++++++++++++++++++++++++++++++++++++++++++++++++++++++++++++++++++++++++++++++++++++++++++++++++++++++++++++++++++++++++++++++++++++++++++++++++++++++++++++++++++++++++++++++++++++++++++++++++++++++++++++++++++++++++++++++++++++++++++++++++++++++++++++++++++++++++++++++++++++++++++++++++++++++++++++++++++++++++++++++++++++++++++++++++++++++++++++++++++++++++++++++++++++++++++++++ (553)\n",
            "    2 +++++++++++++++++++++++++++++++++++++++++++++++++++++++++++++++++++++++++ (73)\n",
            "    3 +++++++++++++++++++++++++++++++++++++ (37)\n",
            "    4 +++++++++++ (11)\n",
            "    5 ++++++++++ (10)\n",
            "    6 ++++++ (6)\n",
            "    7 ++++ (4)\n",
            "   10 ++ (2)\n",
            "   11 + (1)\n",
            "   21 + (1)\n",
            "   35 + (1)\n",
            "   41 + (1)\n"
          ],
          "name": "stdout"
        }
      ]
    },
    {
      "cell_type": "code",
      "metadata": {
        "colab": {
          "base_uri": "https://localhost:8080/"
        },
        "id": "laughing-heavy",
        "outputId": "515f8705-6e77-405b-8030-e367946d72d3"
      },
      "source": [
        "len([len(pd[k]) for k in pd.keys() if len(pd[k])>1])"
      ],
      "id": "laughing-heavy",
      "execution_count": 13,
      "outputs": [
        {
          "output_type": "execute_result",
          "data": {
            "text/plain": [
              "147"
            ]
          },
          "metadata": {
            "tags": []
          },
          "execution_count": 13
        }
      ]
    },
    {
      "cell_type": "code",
      "metadata": {
        "colab": {
          "base_uri": "https://localhost:8080/"
        },
        "id": "varied-romance",
        "outputId": "a6c91964-9474-4a8e-e1cc-d84f4aa59d0c"
      },
      "source": [
        "# the previous is kind of ugly, try a different way\n",
        "count_non_hapax_glosses = 0\n",
        "for k in pd:\n",
        "    if len(pd[k]) > 1:\n",
        "        count_non_hapax_glosses += 1\n",
        "print(count_non_hapax_glosses)"
      ],
      "id": "varied-romance",
      "execution_count": 14,
      "outputs": [
        {
          "output_type": "stream",
          "text": [
            "147\n"
          ],
          "name": "stdout"
        }
      ]
    },
    {
      "cell_type": "code",
      "metadata": {
        "colab": {
          "base_uri": "https://localhost:8080/"
        },
        "id": "deadly-playback",
        "outputId": "b089d0bf-b473-45d7-9403-28859046443e"
      },
      "source": [
        "count_non_hapax_instances = 0\n",
        "for k in pd:\n",
        "    if len(pd[k]) > 1:\n",
        "        count_non_hapax_instances += len(pd[k])\n",
        "print(count_non_hapax_instances)"
      ],
      "id": "deadly-playback",
      "execution_count": 15,
      "outputs": [
        {
          "output_type": "stream",
          "text": [
            "543\n"
          ],
          "name": "stdout"
        }
      ]
    },
    {
      "cell_type": "markdown",
      "metadata": {
        "id": "colonial-produce"
      },
      "source": [
        "There are a lot of paraphrases with single examples, but a fair amount, 147, that have 2 or more examples for a given gloss, for a total of 543 different questions.\n",
        "\n",
        "For comparison, the Microsoft Research Paraphrase Corpus (MRPC) has the following size\n",
        "Size of training dataset: 3668.\n",
        "Size of evaluation dataset: 408.\n",
        "Maximum sequence length of training and evaluation dataset: 128\n",
        "\n",
        "The format of the BERT input for paraphrase data is class, sentA, sentB.  Assuming that order matters (permutation, not combination), this would be $nPr = \\frac{n!}{(n-r)!}$ or $\\frac{543!}{541!} = 543*542$"
      ],
      "id": "colonial-produce"
    },
    {
      "cell_type": "code",
      "metadata": {
        "colab": {
          "base_uri": "https://localhost:8080/"
        },
        "id": "informative-salon",
        "outputId": "d15ea50d-1e4c-4793-fc3f-cd96a3e8b1a1"
      },
      "source": [
        "543*542"
      ],
      "id": "informative-salon",
      "execution_count": 16,
      "outputs": [
        {
          "output_type": "execute_result",
          "data": {
            "text/plain": [
              "294306"
            ]
          },
          "metadata": {
            "tags": []
          },
          "execution_count": 16
        }
      ]
    },
    {
      "cell_type": "markdown",
      "metadata": {
        "id": "dental-interference"
      },
      "source": [
        "so actually a fair amount more data than MRPC (though I should read their paper to make sure I'm not missing something)\n",
        "\n",
        "This is also assuming we wouldn't include the same sentence as both sentA and sentB (of course then the total would be 543*543)"
      ],
      "id": "dental-interference"
    },
    {
      "cell_type": "code",
      "metadata": {
        "colab": {
          "base_uri": "https://localhost:8080/"
        },
        "id": "sitting-registration",
        "outputId": "f287ea48-0084-417f-9508-9e5d173fa7fa"
      },
      "source": [
        "num_positive_examples = 0\n",
        "for k in pd:\n",
        "    if len(pd[k]) > 1:\n",
        "        num_positive_examples += len(pd[k])*(len(pd[k])-1)\n",
        "print(num_positive_examples)"
      ],
      "id": "sitting-registration",
      "execution_count": 17,
      "outputs": [
        {
          "output_type": "stream",
          "text": [
            "4588\n"
          ],
          "name": "stdout"
        }
      ]
    },
    {
      "cell_type": "markdown",
      "metadata": {
        "id": "offshore-fireplace"
      },
      "source": [
        "so if we try to make it balanced in terms of number of positive and negative examples it might be closer to the size of the MRPC data (if we downsample the negative examples instead of upsampling the positive).\n",
        "\n",
        "Of course, if we include the hapaxes (glosses that were only seen once), then we could have a lot more negative examples\n",
        "\n",
        "In the MRPC data, the breakdown of positive (paraphrase) to negative (not paraphrase) is 2474 to 1194, i.e. twice as many positive examples as negative or 2/3rds positive."
      ],
      "id": "offshore-fireplace"
    },
    {
      "cell_type": "code",
      "metadata": {
        "colab": {
          "base_uri": "https://localhost:8080/"
        },
        "id": "personal-operation",
        "outputId": "63f3733c-f17c-4ac4-aedc-7b0aaa0e350d"
      },
      "source": [
        "2474/(3668-2474)"
      ],
      "id": "personal-operation",
      "execution_count": 18,
      "outputs": [
        {
          "output_type": "execute_result",
          "data": {
            "text/plain": [
              "2.0720268006700167"
            ]
          },
          "metadata": {
            "tags": []
          },
          "execution_count": 18
        }
      ]
    },
    {
      "cell_type": "code",
      "metadata": {
        "colab": {
          "base_uri": "https://localhost:8080/"
        },
        "id": "latter-alfred",
        "outputId": "0e9da61d-13f3-4874-88ed-3813198e3511"
      },
      "source": [
        "2474/3668"
      ],
      "id": "latter-alfred",
      "execution_count": 19,
      "outputs": [
        {
          "output_type": "execute_result",
          "data": {
            "text/plain": [
              "0.6744820065430752"
            ]
          },
          "metadata": {
            "tags": []
          },
          "execution_count": 19
        }
      ]
    },
    {
      "cell_type": "markdown",
      "metadata": {
        "id": "broke-superintendent"
      },
      "source": [
        "# create train/dev/test sets"
      ],
      "id": "broke-superintendent"
    },
    {
      "cell_type": "markdown",
      "metadata": {
        "id": "saving-lighting"
      },
      "source": [
        "Okay then, let's create our train/dev/test data...\n",
        "\n",
        "I think for publication, I should do something like holding out some of the glosses (doing the train/dev/test partition at the gloss level), however I feel like doing something easy to start."
      ],
      "id": "saving-lighting"
    },
    {
      "cell_type": "code",
      "metadata": {
        "colab": {
          "base_uri": "https://localhost:8080/"
        },
        "id": "boxed-shelf",
        "outputId": "dcddc657-91cb-49b4-b603-579219edb1d8"
      },
      "source": [
        "positive_examples = []\n",
        "negative_examples = []\n",
        "for k in pd:\n",
        "    if len(pd[k]) > 1:\n",
        "        for s1 in pd[k]:\n",
        "            for s2 in pd[k]:\n",
        "                if s1 != s2:\n",
        "                    positive_examples.append((s1, s2))\n",
        "                    \n",
        "print(len(positive_examples))\n",
        "\n",
        "for k1 in pd:\n",
        "    for k2 in pd:\n",
        "        if k1 != k2: # not paraphrases, i.e. they don't have the same gloss k1/k2\n",
        "            if len(pd[k1]) > 1 and len(pd[k2]) > 1: # remove this to keep the hapax glosses\n",
        "                for s1 in pd[k1]:\n",
        "                    for s2 in pd[k2]:\n",
        "                        negative_examples.append((s1, s2))\n",
        "\n",
        "print(len(negative_examples))\n",
        "print(len(positive_examples) + len(negative_examples))"
      ],
      "id": "boxed-shelf",
      "execution_count": 20,
      "outputs": [
        {
          "output_type": "stream",
          "text": [
            "4588\n",
            "289718\n",
            "294306\n"
          ],
          "name": "stdout"
        }
      ]
    },
    {
      "cell_type": "markdown",
      "metadata": {
        "id": "incredible-newton"
      },
      "source": [
        "good, the numbers match up to what we calculated earlier."
      ],
      "id": "incredible-newton"
    },
    {
      "cell_type": "code",
      "metadata": {
        "id": "imposed-playlist"
      },
      "source": [
        "import numpy as np\n",
        "import tensorflow as tf"
      ],
      "id": "imposed-playlist",
      "execution_count": 21,
      "outputs": []
    },
    {
      "cell_type": "code",
      "metadata": {
        "colab": {
          "base_uri": "https://localhost:8080/"
        },
        "id": "offensive-advertising",
        "outputId": "3c13e067-4464-48da-8c30-10a6ad4f1da4"
      },
      "source": [
        "data = positive_examples + negative_examples\n",
        "sentA, sentB = zip(*data)\n",
        "idx = np.array(range(0,len(data)))\n",
        "labels = np.concatenate([np.ones(len(positive_examples)), np.zeros(len(negative_examples))])\n",
        "\n",
        "# shuffle index\n",
        "np.random.seed(0)\n",
        "np.random.shuffle(idx)\n",
        "\n",
        "# convert to tensorflow and shuffle other data\n",
        "#print(tf.data.Dataset.from_tensor_slices(labels))\n",
        "idx = tf.constant(idx)\n",
        "print(idx)\n",
        "\n",
        "labels = tf.constant(labels)\n",
        "labels = tf.gather(labels, idx)\n",
        "print(labels)\n",
        "\n",
        "sentA = tf.constant(sentA)\n",
        "sentA = tf.gather(sentA, idx)\n",
        "print(sentA)\n",
        "\n",
        "sentB = tf.constant(sentB)\n",
        "sentB = tf.gather(sentB, idx)\n",
        "print(sentB)\n",
        "\n",
        "# sanity check: recover the positive examples\n",
        "positive_idx = np.where(labels==1)\n",
        "print(\"the next couple examples should match up as paraphrases\")\n",
        "print(tf.gather(sentA, positive_idx))\n",
        "print(tf.gather(sentB, positive_idx))"
      ],
      "id": "offensive-advertising",
      "execution_count": 22,
      "outputs": [
        {
          "output_type": "stream",
          "text": [
            "tf.Tensor([ 46758  98930  19086 ... 122579 152315 117952], shape=(294306,), dtype=int64)\n",
            "tf.Tensor([0. 0. 0. ... 0. 0. 0.], shape=(294306,), dtype=float64)\n",
            "tf.Tensor(\n",
            "[b'is it kinda like anger?' b'is it similar to excited?'\n",
            " b'is it a positive emotion?' ... b'calmm!\\nhaha ok\\nit was close'\n",
            " b'is it worried?' b'serene?'], shape=(294306,), dtype=string)\n",
            "tf.Tensor(\n",
            "[b'13) So is it closer to surprise?' b'does it vary in intensity'\n",
            " b'10)similar to disappointed?' ...\n",
            " b'1) does the emotion have negative connotations?'\n",
            " b'Is the emotion usually caused by certain situations (as opposed to just popping up in your mind)?'\n",
            " b'maybe affectionate?'], shape=(294306,), dtype=string)\n",
            "the next couple examples should match up as paraphrases\n",
            "tf.Tensor(\n",
            "[[b'ok is it positive/\\n?'\n",
            "  b'would you feel this in a helpless situation?'\n",
            "  b'ok is it a positive emotion?' ... b'is an intense emotion?'\n",
            "  b'can the emotion be directed at another person?'\n",
            "  b'would you feel it if you had a user13 the next day?']], shape=(1, 4588), dtype=string)\n",
            "tf.Tensor(\n",
            "[[b'ok, is it positive?' b'do people feel that when they are helpless'\n",
            "  b'ok is it (+)?' ... b'is it usually intense?'\n",
            "  b'is it towards some other person'\n",
            "  b'would you feel it if you had an exam the next day?']], shape=(1, 4588), dtype=string)\n"
          ],
          "name": "stdout"
        }
      ]
    },
    {
      "cell_type": "markdown",
      "metadata": {
        "id": "negative-maker"
      },
      "source": [
        "now to partition the data.  I'm going to use the format [here](https://github.com/tensorflow/models/blob/master/official/colab/fine_tuning_bert.ipynb).  \n",
        "\n",
        "Out of N=294306, I'll set $N_{train}=200000$ , $N_{validation}=14306$, and $N_{test}=80000$"
      ],
      "id": "negative-maker"
    },
    {
      "cell_type": "code",
      "metadata": {
        "id": "waiting-cleaner"
      },
      "source": [
        "emo20q_paraphrase = {}\n",
        "\n",
        "emo20q_paraphrase['train'] = {'sentence1': tf.slice(sentA, [0], [200000]),\n",
        "                              'sentence2': tf.slice(sentB, [0], [200000]),\n",
        "                              'idx': tf.slice(idx, [0], [200000]),\n",
        "                              'label': tf.slice(labels, [0], [200000])}\n",
        "\n",
        "emo20q_paraphrase['validation'] = {'sentence1': tf.slice(sentA, [200000], [14306]),\n",
        "                                   'sentence2': tf.slice(sentB, [200000], [14306]),\n",
        "                                   'idx': tf.slice(idx, [200000], [14306]),\n",
        "                                   'label': tf.slice(labels, [200000], [14306])}\n",
        "\n",
        "emo20q_paraphrase['test'] = {'sentence1': tf.slice(sentA, [214306], [80000]),\n",
        "                             'sentence2': tf.slice(sentB, [214306], [80000]),\n",
        "                             'idx': tf.slice(idx, [214306], [80000]),\n",
        "                             'label': tf.slice(labels, [214306], [80000])}"
      ],
      "id": "waiting-cleaner",
      "execution_count": 23,
      "outputs": []
    },
    {
      "cell_type": "markdown",
      "metadata": {
        "id": "portuguese-philosophy"
      },
      "source": [
        "# Get Bert Model "
      ],
      "id": "portuguese-philosophy"
    },
    {
      "cell_type": "markdown",
      "metadata": {
        "id": "acquired-fundamental"
      },
      "source": [
        "again, this is based on https://github.com/tensorflow/models/blob/master/official/colab/fine_tuning_bert.ipynb\n"
      ],
      "id": "acquired-fundamental"
    },
    {
      "cell_type": "code",
      "metadata": {
        "id": "first-trail"
      },
      "source": [
        "# get stable models garden\n",
        "!pip install -q tf-models-official==2.4.0"
      ],
      "id": "first-trail",
      "execution_count": 24,
      "outputs": []
    },
    {
      "cell_type": "code",
      "metadata": {
        "id": "hundred-bernard"
      },
      "source": [
        "import os\n",
        "\n",
        "import numpy as np\n",
        "import matplotlib.pyplot as plt\n",
        "\n",
        "import tensorflow as tf\n",
        "\n",
        "import tensorflow_hub as hub\n",
        "import tensorflow_datasets as tfds\n",
        "tfds.disable_progress_bar()\n",
        "\n",
        "from official.modeling import tf_utils\n",
        "from official import nlp\n",
        "from official.nlp import bert\n",
        "\n",
        "# Load the required submodules\n",
        "import official.nlp.optimization\n",
        "import official.nlp.bert.bert_models\n",
        "import official.nlp.bert.configs\n",
        "import official.nlp.bert.run_classifier\n",
        "import official.nlp.bert.tokenization\n",
        "import official.nlp.data.classifier_data_lib\n",
        "import official.nlp.modeling.losses\n",
        "import official.nlp.modeling.models\n",
        "import official.nlp.modeling.networks\n"
      ],
      "id": "hundred-bernard",
      "execution_count": 25,
      "outputs": []
    },
    {
      "cell_type": "code",
      "metadata": {
        "colab": {
          "base_uri": "https://localhost:8080/"
        },
        "id": "pleased-rocket",
        "outputId": "2c8205d0-7aa1-4d39-a238-d32767cdc853"
      },
      "source": [
        "gs_folder_bert = \"gs://cloud-tpu-checkpoints/bert/v3/uncased_L-12_H-768_A-12\"\n",
        "tf.io.gfile.listdir(gs_folder_bert)"
      ],
      "id": "pleased-rocket",
      "execution_count": 26,
      "outputs": [
        {
          "output_type": "execute_result",
          "data": {
            "text/plain": [
              "['bert_config.json',\n",
              " 'bert_model.ckpt.data-00000-of-00001',\n",
              " 'bert_model.ckpt.index',\n",
              " 'vocab.txt']"
            ]
          },
          "metadata": {
            "tags": []
          },
          "execution_count": 26
        }
      ]
    },
    {
      "cell_type": "code",
      "metadata": {
        "colab": {
          "base_uri": "https://localhost:8080/"
        },
        "id": "hazardous-credit",
        "outputId": "40577471-9414-4f91-d00b-353af987b969"
      },
      "source": [
        "# Set up tokenizer to generate Tensorflow dataset\n",
        "tokenizer = bert.tokenization.FullTokenizer(\n",
        "    vocab_file=os.path.join(gs_folder_bert, \"vocab.txt\"),\n",
        "     do_lower_case=True)\n",
        "\n",
        "print(\"Vocab size:\", len(tokenizer.vocab))"
      ],
      "id": "hazardous-credit",
      "execution_count": 27,
      "outputs": [
        {
          "output_type": "stream",
          "text": [
            "Vocab size: 30522\n"
          ],
          "name": "stdout"
        }
      ]
    },
    {
      "cell_type": "code",
      "metadata": {
        "colab": {
          "base_uri": "https://localhost:8080/"
        },
        "id": "collect-charter",
        "outputId": "80d5f75d-e6c4-4f41-a35d-f1653279b522"
      },
      "source": [
        "# more copy pasta\n",
        "tokens = tokenizer.tokenize(\"Hello TensorFlow!\")\n",
        "print(tokens)\n",
        "ids = tokenizer.convert_tokens_to_ids(tokens)\n",
        "print(ids)\n",
        "tokens = tokenizer.tokenize(\"subset(e,nightmare)\")\n",
        "print(tokens)\n",
        "ids = tokenizer.convert_tokens_to_ids(tokens)\n",
        "print(ids)\n"
      ],
      "id": "collect-charter",
      "execution_count": 28,
      "outputs": [
        {
          "output_type": "stream",
          "text": [
            "['hello', 'tensor', '##flow', '!']\n",
            "[7592, 23435, 12314, 999]\n",
            "['subset', '(', 'e', ',', 'nightmare', ')']\n",
            "[16745, 1006, 1041, 1010, 10103, 1007]\n"
          ],
          "name": "stdout"
        }
      ]
    },
    {
      "cell_type": "code",
      "metadata": {
        "colab": {
          "base_uri": "https://localhost:8080/"
        },
        "id": "dutch-instruction",
        "outputId": "c547776a-64fd-4bd3-a920-d89967634342"
      },
      "source": [
        "tokenizer.convert_tokens_to_ids(['[CLS]', '[SEP]'])"
      ],
      "id": "dutch-instruction",
      "execution_count": 29,
      "outputs": [
        {
          "output_type": "execute_result",
          "data": {
            "text/plain": [
              "[101, 102]"
            ]
          },
          "metadata": {
            "tags": []
          },
          "execution_count": 29
        }
      ]
    },
    {
      "cell_type": "code",
      "metadata": {
        "id": "appreciated-cowboy"
      },
      "source": [
        "# this is kind of slow (1-2 min on colab)n\n",
        "def encode_sentence(s):\n",
        "   tokens = list(tokenizer.tokenize(s.numpy()))\n",
        "   tokens.append('[SEP]')\n",
        "   return tokenizer.convert_tokens_to_ids(tokens)\n",
        "\n",
        "sentence1 = tf.ragged.constant([\n",
        "    encode_sentence(s) for s in emo20q_paraphrase['train'][\"sentence1\"]])\n",
        "sentence2 = tf.ragged.constant([\n",
        "    encode_sentence(s) for s in emo20q_paraphrase['train'][\"sentence2\"]])"
      ],
      "id": "appreciated-cowboy",
      "execution_count": 30,
      "outputs": []
    },
    {
      "cell_type": "code",
      "metadata": {
        "colab": {
          "base_uri": "https://localhost:8080/"
        },
        "id": "cheap-essence",
        "outputId": "20ff33de-de93-4cd0-e149-3dbd161067f2"
      },
      "source": [
        "print(\"Sentence1 shape:\", sentence1.shape.as_list())\n",
        "print(\"Sentence2 shape:\", sentence2.shape.as_list())"
      ],
      "id": "cheap-essence",
      "execution_count": 31,
      "outputs": [
        {
          "output_type": "stream",
          "text": [
            "Sentence1 shape: [200000, None]\n",
            "Sentence2 shape: [200000, None]\n"
          ],
          "name": "stdout"
        }
      ]
    },
    {
      "cell_type": "code",
      "metadata": {
        "colab": {
          "base_uri": "https://localhost:8080/",
          "height": 269
        },
        "id": "illegal-passion",
        "outputId": "5caaeb51-65e0-4f96-cef3-99e3902002c4"
      },
      "source": [
        "#!pip uninstall matplotlib\n",
        "#!pip install matplotlib==3.4.1\n",
        "cls = [tokenizer.convert_tokens_to_ids(['[CLS]'])]*sentence1.shape[0]\n",
        "input_word_ids = tf.concat([cls, sentence1, sentence2], axis=-1)\n",
        "_ = plt.pcolormesh(input_word_ids.to_tensor())"
      ],
      "id": "illegal-passion",
      "execution_count": 32,
      "outputs": [
        {
          "output_type": "display_data",
          "data": {
            "image/png": "[encoded data removed]",
            "text/plain": [
              "<Figure size 432x288 with 1 Axes>"
            ]
          },
          "metadata": {
            "tags": [],
            "needs_background": "light"
          }
        }
      ]
    },
    {
      "cell_type": "markdown",
      "metadata": {
        "id": "outdoor-mining"
      },
      "source": [
        "# imput mask and input type\n",
        "\n"
      ],
      "id": "outdoor-mining"
    },
    {
      "cell_type": "markdown",
      "metadata": {
        "id": "conservative-kidney"
      },
      "source": [
        "the next part is to distinguish the content and the padding"
      ],
      "id": "conservative-kidney"
    },
    {
      "cell_type": "code",
      "metadata": {
        "colab": {
          "base_uri": "https://localhost:8080/",
          "height": 286
        },
        "id": "young-destination",
        "outputId": "2f9c9537-8392-4fdc-82ca-29303e2096e7"
      },
      "source": [
        "input_mask = tf.ones_like(input_word_ids).to_tensor()\n",
        "\n",
        "plt.pcolormesh(input_mask)"
      ],
      "id": "young-destination",
      "execution_count": 33,
      "outputs": [
        {
          "output_type": "execute_result",
          "data": {
            "text/plain": [
              "<matplotlib.collections.QuadMesh at 0x7f69a9439dd0>"
            ]
          },
          "metadata": {
            "tags": []
          },
          "execution_count": 33
        },
        {
          "output_type": "display_data",
          "data": {
            "image/png": "[encoded data removed]",
            "text/plain": [
              "<Figure size 432x288 with 1 Axes>"
            ]
          },
          "metadata": {
            "tags": [],
            "needs_background": "light"
          }
        }
      ]
    },
    {
      "cell_type": "markdown",
      "metadata": {
        "id": "intellectual-plain"
      },
      "source": [
        "the next part distinguishes sentence 1 and 2"
      ],
      "id": "intellectual-plain"
    },
    {
      "cell_type": "code",
      "metadata": {
        "colab": {
          "base_uri": "https://localhost:8080/",
          "height": 286
        },
        "id": "directed-vanilla",
        "outputId": "44ea5f92-924c-43be-e1c4-9cece2ff1ad8"
      },
      "source": [
        "type_cls = tf.zeros_like(cls)\n",
        "type_s1 = tf.zeros_like(sentence1)\n",
        "type_s2 = tf.ones_like(sentence2)\n",
        "input_type_ids = tf.concat([type_cls, type_s1, type_s2], axis=-1).to_tensor()\n",
        "\n",
        "plt.pcolormesh(input_type_ids)"
      ],
      "id": "directed-vanilla",
      "execution_count": 34,
      "outputs": [
        {
          "output_type": "execute_result",
          "data": {
            "text/plain": [
              "<matplotlib.collections.QuadMesh at 0x7f69a8061950>"
            ]
          },
          "metadata": {
            "tags": []
          },
          "execution_count": 34
        },
        {
          "output_type": "display_data",
          "data": {
            "image/png": "[encoded data removed]",
            "text/plain": [
              "<Figure size 432x288 with 1 Axes>"
            ]
          },
          "metadata": {
            "tags": [],
            "needs_background": "light"
          }
        }
      ]
    },
    {
      "cell_type": "code",
      "metadata": {
        "id": "biological-audit"
      },
      "source": [
        "def encode_sentence(s, tokenizer):\n",
        "   tokens = list(tokenizer.tokenize(s))\n",
        "   tokens.append('[SEP]')\n",
        "   return tokenizer.convert_tokens_to_ids(tokens)\n",
        "\n",
        "def bert_encode(glue_dict, tokenizer):\n",
        "  num_examples = len(glue_dict[\"sentence1\"])\n",
        "  \n",
        "  sentence1 = tf.ragged.constant([\n",
        "      encode_sentence(s, tokenizer)\n",
        "      for s in np.array(glue_dict[\"sentence1\"])])\n",
        "  sentence2 = tf.ragged.constant([\n",
        "      encode_sentence(s, tokenizer)\n",
        "       for s in np.array(glue_dict[\"sentence2\"])])\n",
        "\n",
        "  cls = [tokenizer.convert_tokens_to_ids(['[CLS]'])]*sentence1.shape[0]\n",
        "  input_word_ids = tf.concat([cls, sentence1, sentence2], axis=-1)\n",
        "\n",
        "  input_mask = tf.ones_like(input_word_ids).to_tensor()\n",
        "\n",
        "  type_cls = tf.zeros_like(cls)\n",
        "  type_s1 = tf.zeros_like(sentence1)\n",
        "  type_s2 = tf.ones_like(sentence2)\n",
        "  input_type_ids = tf.concat(\n",
        "      [type_cls, type_s1, type_s2], axis=-1).to_tensor()\n",
        "\n",
        "  inputs = {\n",
        "      'input_word_ids': input_word_ids.to_tensor(),\n",
        "      'input_mask': input_mask,\n",
        "      'input_type_ids': input_type_ids}\n",
        "\n",
        "  return inputs"
      ],
      "id": "biological-audit",
      "execution_count": 35,
      "outputs": []
    },
    {
      "cell_type": "code",
      "metadata": {
        "id": "visible-blink"
      },
      "source": [
        "# I'm keeping the \"glue\" so that the parts of the example code still sticks together\n",
        "glue_train = bert_encode(emo20q_paraphrase['train'], tokenizer)\n",
        "glue_train_labels = emo20q_paraphrase['train']['label']\n",
        "\n",
        "glue_validation = bert_encode(emo20q_paraphrase['validation'], tokenizer)\n",
        "glue_validation_labels = emo20q_paraphrase['validation']['label']\n",
        "\n",
        "glue_test = bert_encode(emo20q_paraphrase['test'], tokenizer)\n",
        "glue_test_labels  = emo20q_paraphrase['test']['label']"
      ],
      "id": "visible-blink",
      "execution_count": 36,
      "outputs": []
    },
    {
      "cell_type": "code",
      "metadata": {
        "colab": {
          "base_uri": "https://localhost:8080/"
        },
        "id": "younger-humanitarian",
        "outputId": "8c5bfc09-5a84-4ad4-937c-3d6178bbf12f"
      },
      "source": [
        "for key, value in glue_train.items():\n",
        "  print(f'{key:15s} shape: {value.shape}')\n",
        "\n",
        "print(f'glue_train_labels shape: {glue_train_labels.shape}')"
      ],
      "id": "younger-humanitarian",
      "execution_count": 37,
      "outputs": [
        {
          "output_type": "stream",
          "text": [
            "input_word_ids  shape: (200000, 54)\n",
            "input_mask      shape: (200000, 54)\n",
            "input_type_ids  shape: (200000, 54)\n",
            "glue_train_labels shape: (200000,)\n"
          ],
          "name": "stdout"
        }
      ]
    },
    {
      "cell_type": "code",
      "metadata": {
        "colab": {
          "base_uri": "https://localhost:8080/"
        },
        "id": "original-paintball",
        "outputId": "c9715cce-f294-43de-8f11-39133c9f7103"
      },
      "source": [
        "import json\n",
        "\n",
        "bert_config_file = os.path.join(gs_folder_bert, \"bert_config.json\")\n",
        "config_dict = json.loads(tf.io.gfile.GFile(bert_config_file).read())\n",
        "\n",
        "bert_config = bert.configs.BertConfig.from_dict(config_dict)\n",
        "\n",
        "config_dict"
      ],
      "id": "original-paintball",
      "execution_count": 38,
      "outputs": [
        {
          "output_type": "execute_result",
          "data": {
            "text/plain": [
              "{'attention_probs_dropout_prob': 0.1,\n",
              " 'hidden_act': 'gelu',\n",
              " 'hidden_dropout_prob': 0.1,\n",
              " 'hidden_size': 768,\n",
              " 'initializer_range': 0.02,\n",
              " 'intermediate_size': 3072,\n",
              " 'max_position_embeddings': 512,\n",
              " 'num_attention_heads': 12,\n",
              " 'num_hidden_layers': 12,\n",
              " 'type_vocab_size': 2,\n",
              " 'vocab_size': 30522}"
            ]
          },
          "metadata": {
            "tags": []
          },
          "execution_count": 38
        }
      ]
    },
    {
      "cell_type": "code",
      "metadata": {
        "id": "banner-berkeley"
      },
      "source": [
        "bert_classifier, bert_encoder = bert.bert_models.classifier_model(\n",
        "    bert_config, num_labels=2)"
      ],
      "id": "banner-berkeley",
      "execution_count": 39,
      "outputs": []
    },
    {
      "cell_type": "code",
      "metadata": {
        "id": "encouraging-toilet"
      },
      "source": [
        "# this might not be required (covered in requirements.bert.txt)\n",
        "#!pip install pydot\n",
        "#!pip install pydotplus\n",
        "#!pip install graphviz"
      ],
      "id": "encouraging-toilet",
      "execution_count": 40,
      "outputs": []
    },
    {
      "cell_type": "code",
      "metadata": {
        "colab": {
          "base_uri": "https://localhost:8080/",
          "height": 220
        },
        "id": "private-musical",
        "outputId": "dbdec9ca-97b3-4cb4-9295-840a5dfd701d"
      },
      "source": [
        "# this wasn't working for my on my laptop, googling says to restart kernel but I don't want to restart everything\n",
        "tf.keras.utils.plot_model(bert_classifier, show_shapes=True, dpi=48)"
      ],
      "id": "private-musical",
      "execution_count": 41,
      "outputs": [
        {
          "output_type": "execute_result",
          "data": {
            "image/png": "[encoded data removed]",
            "text/plain": [
              "<IPython.core.display.Image object>"
            ]
          },
          "metadata": {
            "tags": []
          },
          "execution_count": 41
        }
      ]
    },
    {
      "cell_type": "code",
      "metadata": {
        "colab": {
          "base_uri": "https://localhost:8080/"
        },
        "id": "further-marsh",
        "outputId": "3ae42f88-b11e-4271-9226-50a80a20af02"
      },
      "source": [
        "glue_batch = {key: val[:10] for key, val in glue_train.items()}\n",
        "\n",
        "bert_classifier(\n",
        "    glue_batch, training=True\n",
        ").numpy()\n"
      ],
      "id": "further-marsh",
      "execution_count": 42,
      "outputs": [
        {
          "output_type": "execute_result",
          "data": {
            "text/plain": [
              "array([[-0.11204854,  0.02218709],\n",
              "       [-0.13241266, -0.07040627],\n",
              "       [-0.03161751,  0.05546998],\n",
              "       [-0.11097726,  0.02461124],\n",
              "       [-0.14369121,  0.11840807],\n",
              "       [-0.16614653,  0.208224  ],\n",
              "       [-0.19299391,  0.05507278],\n",
              "       [-0.20869431,  0.13659626],\n",
              "       [-0.05726639,  0.03042152],\n",
              "       [-0.10240032,  0.09245633]], dtype=float32)"
            ]
          },
          "metadata": {
            "tags": []
          },
          "execution_count": 42
        }
      ]
    },
    {
      "cell_type": "code",
      "metadata": {
        "colab": {
          "base_uri": "https://localhost:8080/",
          "height": 1000
        },
        "id": "ideal-healthcare",
        "outputId": "f4edd329-8439-46db-dd71-7ffda8135a64"
      },
      "source": [
        "tf.keras.utils.plot_model(bert_encoder, show_shapes=True, dpi=48)"
      ],
      "id": "ideal-healthcare",
      "execution_count": 43,
      "outputs": [
        {
          "output_type": "execute_result",
          "data": {
            "image/png": "[encoded data removed]",
            "text/plain": [
              "<IPython.core.display.Image object>"
            ]
          },
          "metadata": {
            "tags": []
          },
          "execution_count": 43
        }
      ]
    },
    {
      "cell_type": "markdown",
      "metadata": {
        "id": "obvious-jefferson"
      },
      "source": [
        "restore encoder weights"
      ],
      "id": "obvious-jefferson"
    },
    {
      "cell_type": "code",
      "metadata": {
        "colab": {
          "base_uri": "https://localhost:8080/"
        },
        "id": "vulnerable-defendant",
        "outputId": "29219e9c-9135-414e-b208-946d12e12d74"
      },
      "source": [
        "checkpoint = tf.train.Checkpoint(encoder=bert_encoder)\n",
        "checkpoint.read(\n",
        "    os.path.join(gs_folder_bert, 'bert_model.ckpt')).assert_consumed()"
      ],
      "id": "vulnerable-defendant",
      "execution_count": 44,
      "outputs": [
        {
          "output_type": "execute_result",
          "data": {
            "text/plain": [
              "<tensorflow.python.training.tracking.util.CheckpointLoadStatus at 0x7f69a86bdf90>"
            ]
          },
          "metadata": {
            "tags": []
          },
          "execution_count": 44
        }
      ]
    },
    {
      "cell_type": "markdown",
      "metadata": {
        "id": "national-hungary"
      },
      "source": [
        "setup optimizer"
      ],
      "id": "national-hungary"
    },
    {
      "cell_type": "code",
      "metadata": {
        "id": "proprietary-entertainment"
      },
      "source": [
        "# Set up epochs and steps\n",
        "epochs = 3\n",
        "batch_size = 32\n",
        "eval_batch_size = 32\n",
        "\n",
        "train_data_size = len(glue_train_labels)\n",
        "steps_per_epoch = int(train_data_size / batch_size)\n",
        "num_train_steps = steps_per_epoch * epochs\n",
        "warmup_steps = int(epochs * train_data_size * 0.1 / batch_size)\n",
        "\n",
        "# creates an optimizer with learning rate schedule\n",
        "optimizer = nlp.optimization.create_optimizer(\n",
        "    2e-5, num_train_steps=num_train_steps, num_warmup_steps=warmup_steps)"
      ],
      "id": "proprietary-entertainment",
      "execution_count": 48,
      "outputs": []
    },
    {
      "cell_type": "code",
      "metadata": {
        "colab": {
          "base_uri": "https://localhost:8080/"
        },
        "id": "confident-controversy",
        "outputId": "060ef331-3877-4a7d-a4f8-cc79373d8585"
      },
      "source": [
        "type(optimizer)"
      ],
      "id": "confident-controversy",
      "execution_count": 45,
      "outputs": [
        {
          "output_type": "execute_result",
          "data": {
            "text/plain": [
              "official.nlp.optimization.AdamWeightDecay"
            ]
          },
          "metadata": {
            "tags": []
          },
          "execution_count": 45
        }
      ]
    },
    {
      "cell_type": "markdown",
      "metadata": {
        "id": "stopped-scroll"
      },
      "source": [
        "# train the model"
      ],
      "id": "stopped-scroll"
    },
    {
      "cell_type": "code",
      "metadata": {
        "colab": {
          "base_uri": "https://localhost:8080/"
        },
        "id": "major-identification",
        "outputId": "8936c970-5ae7-4774-b647-9f45fee74696"
      },
      "source": [
        "metrics = [tf.keras.metrics.SparseCategoricalAccuracy('accuracy', dtype=tf.float32)]\n",
        "loss = tf.keras.losses.SparseCategoricalCrossentropy(from_logits=True)\n",
        "\n",
        "bert_classifier.compile(\n",
        "    optimizer=optimizer,\n",
        "    loss=loss,\n",
        "    metrics=metrics)\n",
        "\n",
        "bert_classifier.fit(\n",
        "      glue_train, glue_train_labels,\n",
        "      validation_data=(glue_validation, glue_validation_labels),\n",
        "      batch_size=32,\n",
        "      epochs=epochs)"
      ],
      "id": "major-identification",
      "execution_count": 49,
      "outputs": [
        {
          "output_type": "stream",
          "text": [
            "Epoch 1/3\n",
            "6250/6250 [==============================] - 801s 127ms/step - loss: 0.1129 - accuracy: 0.9330 - val_loss: 0.0052 - val_accuracy: 0.9991\n",
            "Epoch 2/3\n",
            "6250/6250 [==============================] - 790s 126ms/step - loss: 0.0039 - accuracy: 0.9992 - val_loss: 0.0027 - val_accuracy: 0.9995\n",
            "Epoch 3/3\n",
            "6250/6250 [==============================] - 793s 127ms/step - loss: 0.0011 - accuracy: 0.9997 - val_loss: 0.0029 - val_accuracy: 0.9996\n"
          ],
          "name": "stdout"
        },
        {
          "output_type": "execute_result",
          "data": {
            "text/plain": [
              "<tensorflow.python.keras.callbacks.History at 0x7f695c717090>"
            ]
          },
          "metadata": {
            "tags": []
          },
          "execution_count": 49
        }
      ]
    },
    {
      "cell_type": "markdown",
      "metadata": {
        "id": "under-roots"
      },
      "source": [
        "now try the fine-tuned model on example sentences"
      ],
      "id": "under-roots"
    },
    {
      "cell_type": "code",
      "metadata": {
        "colab": {
          "base_uri": "https://localhost:8080/"
        },
        "id": "brave-tomato",
        "outputId": "1196d36f-f52f-4fd2-e88c-69d3ed03819f"
      },
      "source": [
        "my_examples = bert_encode(\n",
        "    glue_dict = {\n",
        "        'sentence1':[\n",
        "            'The rain in Spain falls mainly on the plain.',\n",
        "            'Look I fine tuned BERT.'],\n",
        "        'sentence2':[\n",
        "            'It mostly rains on the flat lands of Spain.',\n",
        "            'Is it working? This does not match.']\n",
        "    },\n",
        "    tokenizer=tokenizer)\n",
        "my_examples"
      ],
      "id": "brave-tomato",
      "execution_count": 77,
      "outputs": [
        {
          "output_type": "execute_result",
          "data": {
            "text/plain": [
              "{'input_word_ids': <tf.Tensor: shape=(2, 23), dtype=int32, numpy=\n",
              " array([[  101,  1996,  4542,  1999,  3577,  4212,  3701,  2006,  1996,\n",
              "          5810,  1012,   102,  2009,  3262, 15811,  2006,  1996,  4257,\n",
              "          4915,  1997,  3577,  1012,   102],\n",
              "        [  101,  2298,  1045,  2986, 15757, 14324,  1012,   102,  2003,\n",
              "          2009,  2551,  1029,  2023,  2515,  2025,  2674,  1012,   102,\n",
              "             0,     0,     0,     0,     0]], dtype=int32)>,\n",
              " 'input_mask': <tf.Tensor: shape=(2, 23), dtype=int32, numpy=\n",
              " array([[1, 1, 1, 1, 1, 1, 1, 1, 1, 1, 1, 1, 1, 1, 1, 1, 1, 1, 1, 1, 1, 1,\n",
              "         1],\n",
              "        [1, 1, 1, 1, 1, 1, 1, 1, 1, 1, 1, 1, 1, 1, 1, 1, 1, 1, 0, 0, 0, 0,\n",
              "         0]], dtype=int32)>,\n",
              " 'input_type_ids': <tf.Tensor: shape=(2, 23), dtype=int32, numpy=\n",
              " array([[0, 0, 0, 0, 0, 0, 0, 0, 0, 0, 0, 0, 1, 1, 1, 1, 1, 1, 1, 1, 1, 1,\n",
              "         1],\n",
              "        [0, 0, 0, 0, 0, 0, 0, 0, 1, 1, 1, 1, 1, 1, 1, 1, 1, 1, 0, 0, 0, 0,\n",
              "         0]], dtype=int32)>}"
            ]
          },
          "metadata": {
            "tags": []
          },
          "execution_count": 77
        }
      ]
    },
    {
      "cell_type": "markdown",
      "metadata": {
        "id": "offensive-premium"
      },
      "source": [
        "the model should report 1 for match and 0 for not"
      ],
      "id": "offensive-premium"
    },
    {
      "cell_type": "code",
      "metadata": {
        "colab": {
          "base_uri": "https://localhost:8080/"
        },
        "id": "south-crown",
        "outputId": "c5c4fa65-33dc-4573-fd09-81ef851f231e"
      },
      "source": [
        "result = bert_classifier(my_examples, training=False)\n",
        "\n",
        "result = tf.argmax(result).numpy()\n",
        "result"
      ],
      "id": "south-crown",
      "execution_count": 89,
      "outputs": [
        {
          "output_type": "execute_result",
          "data": {
            "text/plain": [
              "array([1, 0])"
            ]
          },
          "metadata": {
            "tags": []
          },
          "execution_count": 89
        }
      ]
    },
    {
      "cell_type": "markdown",
      "metadata": {
        "id": "NUIAT4GTHMiD"
      },
      "source": [
        "# validation set results"
      ],
      "id": "NUIAT4GTHMiD"
    },
    {
      "cell_type": "code",
      "metadata": {
        "colab": {
          "base_uri": "https://localhost:8080/"
        },
        "id": "amateur-journalist",
        "outputId": "40205abf-0960-4a3b-c4e8-a83f09caebd8"
      },
      "source": [
        "val_word_ids = glue_validation['input_word_ids']\n",
        "val_input_mask = glue_validation['input_mask']\n",
        "val_input_type_ids = glue_validation['input_type_ids']\n",
        "#val_word_ids, val_input_mask, val_input_type_ids\n",
        "n_val = val_word_ids.shape[0]\n",
        "n_correct = 0\n",
        "for i in range(0, n_val, 32): # batch size 32\n",
        "  example = {'input_word_ids': val_word_ids[i:i+32],\n",
        "             'input_mask': val_input_mask[i:i+32],\n",
        "             'input_type_ids': val_input_type_ids[i:i+32]\n",
        "             }\n",
        "\n",
        "  res = bert_classifier(example, training=False)\n",
        "  res = tf.argmax(res, axis=1).numpy()\n",
        "  n_correct += np.count_nonzero(glue_validation_labels[i:i+32]==res)\n",
        "\n",
        "print(n_correct/n_val)\n",
        "\n"
      ],
      "id": "amateur-journalist",
      "execution_count": 102,
      "outputs": [
        {
          "output_type": "stream",
          "text": [
            "0.9995805955543129\n"
          ],
          "name": "stdout"
        }
      ]
    },
    {
      "cell_type": "markdown",
      "metadata": {
        "id": "T0U-NX7prLcu"
      },
      "source": [
        "# test set results"
      ],
      "id": "T0U-NX7prLcu"
    },
    {
      "cell_type": "code",
      "metadata": {
        "colab": {
          "base_uri": "https://localhost:8080/"
        },
        "id": "if6-E18OrOXW",
        "outputId": "d609caf9-f148-4398-9656-c7aa8180add6"
      },
      "source": [
        "test_word_ids = glue_test['input_word_ids']\n",
        "test_input_mask = glue_test['input_mask']\n",
        "test_input_type_ids = glue_test['input_type_ids']\n",
        "#test_word_ids, test_input_mask, test_input_type_ids\n",
        "n_test = test_word_ids.shape[0]\n",
        "n_correct = 0\n",
        "for i in range(0, n_test, 32): # batch size 32\n",
        "  example = {'input_word_ids': test_word_ids[i:i+32],\n",
        "             'input_mask': test_input_mask[i:i+32],\n",
        "             'input_type_ids': test_input_type_ids[i:i+32]\n",
        "             }\n",
        "\n",
        "  res = bert_classifier(example, training=False)\n",
        "  res = tf.argmax(res, axis=1).numpy()\n",
        "  n_correct += np.count_nonzero(glue_test_labels[i:i+32]==res)\n",
        "\n",
        "print(n_correct/n_test)\n"
      ],
      "id": "if6-E18OrOXW",
      "execution_count": 104,
      "outputs": [
        {
          "output_type": "stream",
          "text": [
            "0.9997\n"
          ],
          "name": "stdout"
        }
      ]
    },
    {
      "cell_type": "markdown",
      "metadata": {
        "id": "endangered-variation"
      },
      "source": [
        "# save the model"
      ],
      "id": "endangered-variation"
    },
    {
      "cell_type": "code",
      "metadata": {
        "colab": {
          "base_uri": "https://localhost:8080/"
        },
        "id": "competent-bobby",
        "outputId": "4cfc6489-e291-44f7-9b00-789c876f398d"
      },
      "source": [
        "export_dir='./saved_model'\n",
        "tf.saved_model.save(bert_classifier, export_dir=export_dir)"
      ],
      "id": "competent-bobby",
      "execution_count": 57,
      "outputs": [
        {
          "output_type": "stream",
          "text": [
            "WARNING:absl:Found untraced functions such as self_attention_layer_call_fn, self_attention_layer_call_and_return_conditional_losses, dropout_layer_call_fn, dropout_layer_call_and_return_conditional_losses, self_attention_layer_norm_layer_call_fn while saving (showing 5 of 900). These functions will not be directly callable after loading.\n",
            "WARNING:absl:Found untraced functions such as self_attention_layer_call_fn, self_attention_layer_call_and_return_conditional_losses, dropout_layer_call_fn, dropout_layer_call_and_return_conditional_losses, self_attention_layer_norm_layer_call_fn while saving (showing 5 of 900). These functions will not be directly callable after loading.\n"
          ],
          "name": "stderr"
        },
        {
          "output_type": "stream",
          "text": [
            "INFO:tensorflow:Assets written to: ./saved_model/assets\n"
          ],
          "name": "stdout"
        },
        {
          "output_type": "stream",
          "text": [
            "INFO:tensorflow:Assets written to: ./saved_model/assets\n"
          ],
          "name": "stderr"
        }
      ]
    },
    {
      "cell_type": "markdown",
      "metadata": {
        "id": "romance-palestinian"
      },
      "source": [
        "check to make sure that the saved model has the same results"
      ],
      "id": "romance-palestinian"
    },
    {
      "cell_type": "code",
      "metadata": {
        "colab": {
          "base_uri": "https://localhost:8080/"
        },
        "id": "moving-bidding",
        "outputId": "62fff46f-a670-44f7-f172-cde73bf9a8fc"
      },
      "source": [
        "reloaded = tf.saved_model.load(export_dir)\n",
        "reloaded_result = reloaded([my_examples['input_word_ids'],\n",
        "                            my_examples['input_mask'],\n",
        "                            my_examples['input_type_ids']], training=False)\n",
        "\n",
        "original_result = bert_classifier(my_examples, training=False)\n",
        "\n",
        "# The results are (nearly) identical:\n",
        "print(original_result.numpy())\n",
        "print()\n",
        "print(reloaded_result.numpy())"
      ],
      "id": "moving-bidding",
      "execution_count": 58,
      "outputs": [
        {
          "output_type": "stream",
          "text": [
            "[[-4.8310814  4.729859 ]\n",
            " [ 5.2653875 -4.7759013]]\n",
            "\n",
            "[[-4.8310814  4.729859 ]\n",
            " [ 5.265388  -4.775901 ]]\n"
          ],
          "name": "stdout"
        }
      ]
    },
    {
      "cell_type": "markdown",
      "metadata": {
        "id": "capable-situation"
      },
      "source": [
        "# appendix"
      ],
      "id": "capable-situation"
    },
    {
      "cell_type": "code",
      "metadata": {
        "colab": {
          "base_uri": "https://localhost:8080/"
        },
        "id": "incorporate-circular",
        "outputId": "4e635585-a2b6-4fa2-c7c3-e71ede6db618"
      },
      "source": [
        "!tar -czvf saved_model.tar.gz saved_model/"
      ],
      "id": "incorporate-circular",
      "execution_count": 60,
      "outputs": [
        {
          "output_type": "stream",
          "text": [
            "saved_model/\n",
            "saved_model/.ipynb_checkpoints/\n",
            "saved_model/variables.index/\n",
            "saved_model/variables.index/variables.index\n",
            "saved_model/assets/\n",
            "saved_model/variables/\n",
            "saved_model/variables/variables.data-00000-of-00001\n",
            "saved_model/variables/variables.index\n",
            "saved_model/saved_model.pb\n"
          ],
          "name": "stdout"
        }
      ]
    }
  ]
}