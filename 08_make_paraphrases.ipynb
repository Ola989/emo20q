{
  "nbformat": 4,
  "nbformat_minor": 5,
  "metadata": {
    "kernelspec": {
      "display_name": "Python 3",
      "language": "python",
      "name": "python3"
    },
    "language_info": {
      "codemirror_mode": {
        "name": "ipython",
        "version": 3
      },
      "file_extension": ".py",
      "mimetype": "text/x-python",
      "name": "python",
      "nbconvert_exporter": "python",
      "pygments_lexer": "ipython3",
      "version": "3.7.9"
    },
    "colab": {
      "name": "08_make_paraphrases.ipynb",
      "provenance": [],
      "toc_visible": true,
      "include_colab_link": true
    },
    "accelerator": "GPU"
  },
  "cells": [
    {
      "cell_type": "markdown",
      "metadata": {
        "id": "view-in-github",
        "colab_type": "text"
      },
      "source": [
        "<a href=\"https://colab.research.google.com/github/abecode/emo20q/blob/bert/08_make_paraphrases.ipynb\" target=\"_parent\"><img src=\"https://colab.research.google.com/assets/colab-badge.svg\" alt=\"Open In Colab\"/></a>"
      ]
    },
    {
      "cell_type": "markdown",
      "metadata": {
        "id": "collect-saskatchewan"
      },
      "source": [
        "# Extract Paraphrases"
      ],
      "id": "collect-saskatchewan"
    },
    {
      "cell_type": "code",
      "metadata": {
        "id": "m6ICo1ulMHDG",
        "outputId": "d0b511a7-6653-4265-c4fb-6f327c7444f5",
        "colab": {
          "base_uri": "https://localhost:8080/"
        }
      },
      "source": [
        "# checkout git repo and switch to bert branch\n",
        "!git clone https://github.com/abecode/emo20q\n",
        "!cd emo20q && git checkout bert"
      ],
      "id": "m6ICo1ulMHDG",
      "execution_count": 1,
      "outputs": [
        {
          "output_type": "stream",
          "text": [
            "Cloning into 'emo20q'...\n",
            "remote: Enumerating objects: 113, done.\u001b[K\n",
            "remote: Counting objects: 100% (113/113), done.\u001b[K\n",
            "remote: Compressing objects: 100% (82/82), done.\u001b[K\n",
            "remote: Total 113 (delta 50), reused 83 (delta 26), pack-reused 0\u001b[K\n",
            "Receiving objects: 100% (113/113), 1.19 MiB | 6.77 MiB/s, done.\n",
            "Resolving deltas: 100% (50/50), done.\n",
            "Branch 'bert' set up to track remote branch 'bert' from 'origin'.\n",
            "Switched to a new branch 'bert'\n"
          ],
          "name": "stdout"
        }
      ]
    },
    {
      "cell_type": "code",
      "metadata": {
        "id": "Kk-MuFB1QfYi"
      },
      "source": [
        "#!cd emo20q && git pull --ff-only origin bert"
      ],
      "id": "Kk-MuFB1QfYi",
      "execution_count": 2,
      "outputs": []
    },
    {
      "cell_type": "code",
      "metadata": {
        "id": "pBGUMyUuM-5e",
        "outputId": "bfbe3f37-30fe-400b-c006-ec2cbd776036",
        "colab": {
          "base_uri": "https://localhost:8080/"
        }
      },
      "source": [
        "!cd emo20q && ls"
      ],
      "id": "pBGUMyUuM-5e",
      "execution_count": 3,
      "outputs": [
        {
          "output_type": "stream",
          "text": [
            "01_examine_data.ipynb\t\t\t emo20q_demo_20210412.ipynb\n",
            "02_lexical_access.ipynb\t\t\t LICENSE\n",
            "03_nlp_helpers.ipynb\t\t\t Makefile\n",
            "04_semantic_knowledge.ipynb\t\t pre-commit\n",
            "05_episodic_buffer.ipynb\t\t README.md\n",
            "06_generalized_pushdown_automaton.ipynb  requirements.bert.txt\n",
            "07_gpdaquestioner.ipynb\t\t\t requirements.jupyter.txt\n",
            "08_make_paraphrases.ipynb\t\t requirements.pytest.txt\n",
            "emo20q\n"
          ],
          "name": "stdout"
        }
      ]
    },
    {
      "cell_type": "code",
      "metadata": {
        "id": "JnF9YJvINqpS",
        "outputId": "f3ec0fee-c591-4ae3-ce57-9a5d298d0c49",
        "colab": {
          "base_uri": "https://localhost:8080/",
          "height": 1000
        }
      },
      "source": [
        "# install requirements\n",
        "!pip install -r emo20q/requirements.bert.txt"
      ],
      "id": "JnF9YJvINqpS",
      "execution_count": 4,
      "outputs": [
        {
          "output_type": "stream",
          "text": [
            "Requirement already satisfied: absl-py==0.12.0 in /usr/local/lib/python3.7/dist-packages (from -r emo20q/requirements.bert.txt (line 1)) (0.12.0)\n",
            "Requirement already satisfied: appdirs==1.4.4 in /usr/local/lib/python3.7/dist-packages (from -r emo20q/requirements.bert.txt (line 2)) (1.4.4)\n",
            "Collecting appnope==0.1.2\n",
            "  Downloading https://files.pythonhosted.org/packages/e4/fa/0c6c9786aa6927d12d100d322588e125e6ed466ab0a3d2d509ea18aeb56d/appnope-0.1.2-py2.py3-none-any.whl\n",
            "Requirement already satisfied: argon2-cffi==20.1.0 in /usr/local/lib/python3.7/dist-packages (from -r emo20q/requirements.bert.txt (line 4)) (20.1.0)\n",
            "Requirement already satisfied: astunparse==1.6.3 in /usr/local/lib/python3.7/dist-packages (from -r emo20q/requirements.bert.txt (line 5)) (1.6.3)\n",
            "Requirement already satisfied: async-generator==1.10 in /usr/local/lib/python3.7/dist-packages (from -r emo20q/requirements.bert.txt (line 6)) (1.10)\n",
            "Requirement already satisfied: attrs==20.3.0 in /usr/local/lib/python3.7/dist-packages (from -r emo20q/requirements.bert.txt (line 7)) (20.3.0)\n",
            "Requirement already satisfied: backcall==0.2.0 in /usr/local/lib/python3.7/dist-packages (from -r emo20q/requirements.bert.txt (line 8)) (0.2.0)\n",
            "Requirement already satisfied: bleach==3.3.0 in /usr/local/lib/python3.7/dist-packages (from -r emo20q/requirements.bert.txt (line 9)) (3.3.0)\n",
            "Requirement already satisfied: cachetools==4.2.1 in /usr/local/lib/python3.7/dist-packages (from -r emo20q/requirements.bert.txt (line 10)) (4.2.1)\n",
            "Requirement already satisfied: certifi==2020.12.5 in /usr/local/lib/python3.7/dist-packages (from -r emo20q/requirements.bert.txt (line 11)) (2020.12.5)\n",
            "Requirement already satisfied: cffi==1.14.5 in /usr/local/lib/python3.7/dist-packages (from -r emo20q/requirements.bert.txt (line 12)) (1.14.5)\n",
            "Collecting cfgv==3.2.0\n",
            "  Downloading https://files.pythonhosted.org/packages/45/cd/3878c9248e59e5e2ebd0dc741ab984b18d86e7283ae9b127b05fc287d239/cfgv-3.2.0-py2.py3-none-any.whl\n",
            "Collecting chardet==4.0.0\n",
            "\u001b[?25l  Downloading https://files.pythonhosted.org/packages/19/c7/fa589626997dd07bd87d9269342ccb74b1720384a4d739a1872bd84fbe68/chardet-4.0.0-py2.py3-none-any.whl (178kB)\n",
            "\u001b[K     |████████████████████████████████| 184kB 27.5MB/s \n",
            "\u001b[?25hRequirement already satisfied: click==7.1.2 in /usr/local/lib/python3.7/dist-packages (from -r emo20q/requirements.bert.txt (line 15)) (7.1.2)\n",
            "Requirement already satisfied: cycler==0.10.0 in /usr/local/lib/python3.7/dist-packages (from -r emo20q/requirements.bert.txt (line 16)) (0.10.0)\n",
            "Collecting Cython==0.29.23\n",
            "\u001b[?25l  Downloading https://files.pythonhosted.org/packages/0c/15/cca3ac44776df9ee27286941315dd8b14a598e8d80970200d05f720b9274/Cython-0.29.23-cp37-cp37m-manylinux1_x86_64.whl (2.0MB)\n",
            "\u001b[K     |████████████████████████████████| 2.0MB 45.0MB/s \n",
            "\u001b[?25hCollecting dataclasses==0.6\n",
            "  Downloading https://files.pythonhosted.org/packages/26/2f/1095cdc2868052dd1e64520f7c0d5c8c550ad297e944e641dbf1ffbb9a5d/dataclasses-0.6-py3-none-any.whl\n",
            "Requirement already satisfied: decorator==4.4.2 in /usr/local/lib/python3.7/dist-packages (from -r emo20q/requirements.bert.txt (line 19)) (4.4.2)\n",
            "Requirement already satisfied: defusedxml==0.7.1 in /usr/local/lib/python3.7/dist-packages (from -r emo20q/requirements.bert.txt (line 20)) (0.7.1)\n",
            "Requirement already satisfied: dill==0.3.3 in /usr/local/lib/python3.7/dist-packages (from -r emo20q/requirements.bert.txt (line 21)) (0.3.3)\n",
            "Collecting distlib==0.3.1\n",
            "\u001b[?25l  Downloading https://files.pythonhosted.org/packages/f5/0a/490fa011d699bb5a5f3a0cf57de82237f52a6db9d40f33c53b2736c9a1f9/distlib-0.3.1-py2.py3-none-any.whl (335kB)\n",
            "\u001b[K     |████████████████████████████████| 337kB 36.7MB/s \n",
            "\u001b[?25hRequirement already satisfied: dm-tree==0.1.6 in /usr/local/lib/python3.7/dist-packages (from -r emo20q/requirements.bert.txt (line 23)) (0.1.6)\n",
            "Requirement already satisfied: entrypoints==0.3 in /usr/local/lib/python3.7/dist-packages (from -r emo20q/requirements.bert.txt (line 24)) (0.3)\n",
            "Requirement already satisfied: filelock==3.0.12 in /usr/local/lib/python3.7/dist-packages (from -r emo20q/requirements.bert.txt (line 25)) (3.0.12)\n",
            "Requirement already satisfied: flatbuffers==1.12 in /usr/local/lib/python3.7/dist-packages (from -r emo20q/requirements.bert.txt (line 26)) (1.12)\n",
            "Collecting future==0.18.2\n",
            "\u001b[?25l  Downloading https://files.pythonhosted.org/packages/45/0b/38b06fd9b92dc2b68d58b75f900e97884c45bedd2ff83203d933cf5851c9/future-0.18.2.tar.gz (829kB)\n",
            "\u001b[K     |████████████████████████████████| 829kB 55.3MB/s \n",
            "\u001b[?25hRequirement already satisfied: gast==0.3.3 in /usr/local/lib/python3.7/dist-packages (from -r emo20q/requirements.bert.txt (line 28)) (0.3.3)\n",
            "Requirement already satisfied: gin-config==0.4.0 in /usr/local/lib/python3.7/dist-packages (from -r emo20q/requirements.bert.txt (line 29)) (0.4.0)\n",
            "Requirement already satisfied: google-api-core==1.26.3 in /usr/local/lib/python3.7/dist-packages (from -r emo20q/requirements.bert.txt (line 30)) (1.26.3)\n",
            "Collecting google-api-python-client==2.2.0\n",
            "\u001b[?25l  Downloading https://files.pythonhosted.org/packages/5f/02/ae0c3aa746e2f9574727875e5110700a51f2aa1877c98b78433ad76630aa/google_api_python_client-2.2.0-py2.py3-none-any.whl (7.0MB)\n",
            "\u001b[K     |████████████████████████████████| 7.0MB 46.3MB/s \n",
            "\u001b[?25hCollecting google-auth==1.29.0\n",
            "\u001b[?25l  Downloading https://files.pythonhosted.org/packages/81/1d/8ac595f03e32b18fc32a245f7d0f96a6864b9a3678660af868fcc73167e5/google_auth-1.29.0-py2.py3-none-any.whl (142kB)\n",
            "\u001b[K     |████████████████████████████████| 143kB 61.5MB/s \n",
            "\u001b[?25hCollecting google-auth-httplib2==0.1.0\n",
            "  Downloading https://files.pythonhosted.org/packages/ba/db/721e2f3f32339080153995d16e46edc3a7657251f167ddcb9327e632783b/google_auth_httplib2-0.1.0-py2.py3-none-any.whl\n",
            "Requirement already satisfied: google-auth-oauthlib==0.4.4 in /usr/local/lib/python3.7/dist-packages (from -r emo20q/requirements.bert.txt (line 34)) (0.4.4)\n",
            "Collecting google-cloud-bigquery==2.13.1\n",
            "\u001b[?25l  Downloading https://files.pythonhosted.org/packages/f7/c1/510fbde69f8ca9d0253326230fe1c36819f94099532312f1174e870f1112/google_cloud_bigquery-2.13.1-py2.py3-none-any.whl (216kB)\n",
            "\u001b[K     |████████████████████████████████| 225kB 59.9MB/s \n",
            "\u001b[?25hCollecting google-cloud-core==1.6.0\n",
            "  Downloading https://files.pythonhosted.org/packages/ad/fc/6e8c449185cb8862af353c1164100ff75e32d55ba1de3baf9eaa01b7d2a9/google_cloud_core-1.6.0-py2.py3-none-any.whl\n",
            "Collecting google-crc32c==1.1.2\n",
            "  Downloading https://files.pythonhosted.org/packages/fc/ae/b6efa1019e18c6c791f0f5cd93b2ff40f8f06696dbf04db39ec0f5591b1e/google_crc32c-1.1.2-cp37-cp37m-manylinux2014_x86_64.whl\n",
            "Requirement already satisfied: google-pasta==0.2.0 in /usr/local/lib/python3.7/dist-packages (from -r emo20q/requirements.bert.txt (line 38)) (0.2.0)\n",
            "Collecting google-resumable-media==1.2.0\n",
            "\u001b[?25l  Downloading https://files.pythonhosted.org/packages/22/52/4b086e0d15245b648e2b6d408fb2f2974a3a5a405de5d7fae25cd085a3fa/google_resumable_media-1.2.0-py2.py3-none-any.whl (75kB)\n",
            "\u001b[K     |████████████████████████████████| 81kB 12.8MB/s \n",
            "\u001b[?25hRequirement already satisfied: googleapis-common-protos==1.53.0 in /usr/local/lib/python3.7/dist-packages (from -r emo20q/requirements.bert.txt (line 40)) (1.53.0)\n",
            "Requirement already satisfied: grpcio==1.32.0 in /usr/local/lib/python3.7/dist-packages (from -r emo20q/requirements.bert.txt (line 41)) (1.32.0)\n",
            "Requirement already satisfied: h5py==2.10.0 in /usr/local/lib/python3.7/dist-packages (from -r emo20q/requirements.bert.txt (line 42)) (2.10.0)\n",
            "Collecting httplib2==0.19.1\n",
            "\u001b[?25l  Downloading https://files.pythonhosted.org/packages/15/dc/d14bce03f4bfd0214b90a3f556d7c96f75bb94ad597c816a641b962f22e9/httplib2-0.19.1-py3-none-any.whl (95kB)\n",
            "\u001b[K     |████████████████████████████████| 102kB 13.1MB/s \n",
            "\u001b[?25hCollecting identify==2.2.0\n",
            "\u001b[?25l  Downloading https://files.pythonhosted.org/packages/fc/c0/3e344bbf7fdf396e7e636eb9de74c87945f0835fa5da966a6bc2f02906e3/identify-2.2.0-py2.py3-none-any.whl (98kB)\n",
            "\u001b[K     |████████████████████████████████| 102kB 14.2MB/s \n",
            "\u001b[?25hRequirement already satisfied: idna==2.10 in /usr/local/lib/python3.7/dist-packages (from -r emo20q/requirements.bert.txt (line 45)) (2.10)\n",
            "Collecting importlib-metadata==3.7.2\n",
            "  Downloading https://files.pythonhosted.org/packages/34/7c/15499080be7cbb30579630238c6472c7c3529deca03bfab7bdead6419cd1/importlib_metadata-3.7.2-py3-none-any.whl\n",
            "Requirement already satisfied: importlib-resources==5.1.2 in /usr/local/lib/python3.7/dist-packages (from -r emo20q/requirements.bert.txt (line 47)) (5.1.2)\n",
            "Collecting ipykernel==5.5.0\n",
            "\u001b[?25l  Downloading https://files.pythonhosted.org/packages/56/95/3a670c8b2c2370bd8631c313f42e60983b3113ffec4035940592252bd6d5/ipykernel-5.5.0-py3-none-any.whl (120kB)\n",
            "\u001b[K     |████████████████████████████████| 122kB 62.0MB/s \n",
            "\u001b[?25hCollecting ipython==7.21.0\n",
            "\u001b[?25l  Downloading https://files.pythonhosted.org/packages/3b/43/6dbd0610550708fc418ad027fda97b5f415da9053749641654fdacfec93f/ipython-7.21.0-py3-none-any.whl (784kB)\n",
            "\u001b[K     |████████████████████████████████| 788kB 52.0MB/s \n",
            "\u001b[?25hRequirement already satisfied: ipython-genutils==0.2.0 in /usr/local/lib/python3.7/dist-packages (from -r emo20q/requirements.bert.txt (line 50)) (0.2.0)\n",
            "Requirement already satisfied: ipywidgets==7.6.3 in /usr/local/lib/python3.7/dist-packages (from -r emo20q/requirements.bert.txt (line 51)) (7.6.3)\n",
            "Requirement already satisfied: jedi==0.18.0 in /usr/local/lib/python3.7/dist-packages (from -r emo20q/requirements.bert.txt (line 52)) (0.18.0)\n",
            "Requirement already satisfied: Jinja2==2.11.3 in /usr/local/lib/python3.7/dist-packages (from -r emo20q/requirements.bert.txt (line 53)) (2.11.3)\n",
            "Requirement already satisfied: joblib==1.0.1 in /usr/local/lib/python3.7/dist-packages (from -r emo20q/requirements.bert.txt (line 54)) (1.0.1)\n",
            "Collecting jsonschema==3.2.0\n",
            "\u001b[?25l  Downloading https://files.pythonhosted.org/packages/c5/8f/51e89ce52a085483359217bc72cdbf6e75ee595d5b1d4b5ade40c7e018b8/jsonschema-3.2.0-py2.py3-none-any.whl (56kB)\n",
            "\u001b[K     |████████████████████████████████| 61kB 9.6MB/s \n",
            "\u001b[?25hRequirement already satisfied: jupyter==1.0.0 in /usr/local/lib/python3.7/dist-packages (from -r emo20q/requirements.bert.txt (line 56)) (1.0.0)\n",
            "Collecting jupyter-client==6.1.11\n",
            "\u001b[?25l  Downloading https://files.pythonhosted.org/packages/83/d6/30aed7ef13ff3f359e99626c1b0a32ebbc3bf9b9d5616ec46e9e245d5fa9/jupyter_client-6.1.11-py3-none-any.whl (108kB)\n",
            "\u001b[K     |████████████████████████████████| 112kB 61.0MB/s \n",
            "\u001b[?25hCollecting jupyter-console==6.2.0\n",
            "  Downloading https://files.pythonhosted.org/packages/65/de/8f9491c4b7e660a75a4eb54694292d918d2d29321936d26bad28cc0530a4/jupyter_console-6.2.0-py3-none-any.whl\n",
            "Requirement already satisfied: jupyter-core==4.7.1 in /usr/local/lib/python3.7/dist-packages (from -r emo20q/requirements.bert.txt (line 59)) (4.7.1)\n",
            "Requirement already satisfied: jupyterlab-pygments==0.1.2 in /usr/local/lib/python3.7/dist-packages (from -r emo20q/requirements.bert.txt (line 60)) (0.1.2)\n",
            "Requirement already satisfied: jupyterlab-widgets==1.0.0 in /usr/local/lib/python3.7/dist-packages (from -r emo20q/requirements.bert.txt (line 61)) (1.0.0)\n",
            "Requirement already satisfied: kaggle==1.5.12 in /usr/local/lib/python3.7/dist-packages (from -r emo20q/requirements.bert.txt (line 62)) (1.5.12)\n",
            "Requirement already satisfied: Keras-Preprocessing==1.1.2 in /usr/local/lib/python3.7/dist-packages (from -r emo20q/requirements.bert.txt (line 63)) (1.1.2)\n",
            "Requirement already satisfied: kiwisolver==1.3.1 in /usr/local/lib/python3.7/dist-packages (from -r emo20q/requirements.bert.txt (line 64)) (1.3.1)\n",
            "Requirement already satisfied: Markdown==3.3.4 in /usr/local/lib/python3.7/dist-packages (from -r emo20q/requirements.bert.txt (line 65)) (3.3.4)\n",
            "Requirement already satisfied: MarkupSafe==1.1.1 in /usr/local/lib/python3.7/dist-packages (from -r emo20q/requirements.bert.txt (line 66)) (1.1.1)\n",
            "Collecting matplotlib==3.1.3\n",
            "\u001b[?25l  Downloading https://files.pythonhosted.org/packages/4c/9b/35ab3469fd1509f7636a344940569ebfd33239673fd2318e80b4700a257c/matplotlib-3.1.3-cp37-cp37m-manylinux1_x86_64.whl (13.1MB)\n",
            "\u001b[K     |████████████████████████████████| 13.1MB 221kB/s \n",
            "\u001b[?25hRequirement already satisfied: mistune==0.8.4 in /usr/local/lib/python3.7/dist-packages (from -r emo20q/requirements.bert.txt (line 68)) (0.8.4)\n",
            "Requirement already satisfied: nbclient==0.5.3 in /usr/local/lib/python3.7/dist-packages (from -r emo20q/requirements.bert.txt (line 69)) (0.5.3)\n",
            "Collecting nbconvert==6.0.7\n",
            "\u001b[?25l  Downloading https://files.pythonhosted.org/packages/13/2f/acbe7006548f3914456ee47f97a2033b1b2f3daf921b12ac94105d87c163/nbconvert-6.0.7-py3-none-any.whl (552kB)\n",
            "\u001b[K     |████████████████████████████████| 552kB 49.4MB/s \n",
            "\u001b[33mWARNING: The candidate selected for download or install is a yanked version: 'nbformat' candidate (version 5.1.2 at https://files.pythonhosted.org/packages/13/1d/59cbc5a6b627ba3b4c0ec5ccc82a9002e58b324e2620a4929b81f1f8d309/nbformat-5.1.2-py3-none-any.whl#sha256=3949fdc8f5fa0b1afca16fb307546e78494fa7a7bceff880df8168eafda0e7ac (from https://pypi.org/simple/nbformat/) (requires-python:>=3.5))\n",
            "Reason for being yanked: Name generation process created inappropriate id values\u001b[0m\n",
            "\u001b[?25hCollecting nbformat==5.1.2\n",
            "\u001b[?25l  Downloading https://files.pythonhosted.org/packages/13/1d/59cbc5a6b627ba3b4c0ec5ccc82a9002e58b324e2620a4929b81f1f8d309/nbformat-5.1.2-py3-none-any.whl (113kB)\n",
            "\u001b[K     |████████████████████████████████| 122kB 61.8MB/s \n",
            "\u001b[?25hCollecting nbstripout==0.3.9\n",
            "  Downloading https://files.pythonhosted.org/packages/e9/01/762e0daa1765358ca2a7e2176c7470d7a01c4a7b35bbd6a3d391ef019cd8/nbstripout-0.3.9-py2.py3-none-any.whl\n",
            "Requirement already satisfied: nest-asyncio==1.5.1 in /usr/local/lib/python3.7/dist-packages (from -r emo20q/requirements.bert.txt (line 73)) (1.5.1)\n",
            "Collecting networkx==2.5\n",
            "\u001b[?25l  Downloading https://files.pythonhosted.org/packages/9b/cd/dc52755d30ba41c60243235460961fc28022e5b6731f16c268667625baea/networkx-2.5-py3-none-any.whl (1.6MB)\n",
            "\u001b[K     |████████████████████████████████| 1.6MB 50.0MB/s \n",
            "\u001b[?25hCollecting nltk==3.5\n",
            "\u001b[?25l  Downloading https://files.pythonhosted.org/packages/92/75/ce35194d8e3022203cca0d2f896dbb88689f9b3fce8e9f9cff942913519d/nltk-3.5.zip (1.4MB)\n",
            "\u001b[K     |████████████████████████████████| 1.4MB 43.1MB/s \n",
            "\u001b[?25hCollecting nodeenv==1.5.0\n",
            "  Downloading https://files.pythonhosted.org/packages/ae/d0/efdf54539948315cc76e5a66b709212963101d002822c3b54369dbf9b5e0/nodeenv-1.5.0-py2.py3-none-any.whl\n",
            "Collecting notebook==6.2.0\n",
            "\u001b[?25l  Downloading https://files.pythonhosted.org/packages/74/19/50cd38acf22e33370d01fef764355f1e3517f6e12b4fceb8d434ece4f8fd/notebook-6.2.0-py3-none-any.whl (9.5MB)\n",
            "\u001b[K     |████████████████████████████████| 9.5MB 28.5MB/s \n",
            "\u001b[?25hRequirement already satisfied: numpy==1.19.5 in /usr/local/lib/python3.7/dist-packages (from -r emo20q/requirements.bert.txt (line 78)) (1.19.5)\n",
            "Requirement already satisfied: oauth2client==4.1.3 in /usr/local/lib/python3.7/dist-packages (from -r emo20q/requirements.bert.txt (line 79)) (4.1.3)\n",
            "Requirement already satisfied: oauthlib==3.1.0 in /usr/local/lib/python3.7/dist-packages (from -r emo20q/requirements.bert.txt (line 80)) (3.1.0)\n",
            "Collecting opencv-python-headless==4.5.1.48\n",
            "\u001b[?25l  Downloading https://files.pythonhosted.org/packages/6d/6d/92f377bece9b0ec9c893081dbe073a65b38d7ac12ef572b8f70554d08760/opencv_python_headless-4.5.1.48-cp37-cp37m-manylinux2014_x86_64.whl (37.6MB)\n",
            "\u001b[K     |████████████████████████████████| 37.6MB 73kB/s \n",
            "\u001b[?25hRequirement already satisfied: opt-einsum==3.3.0 in /usr/local/lib/python3.7/dist-packages (from -r emo20q/requirements.bert.txt (line 82)) (3.3.0)\n",
            "Requirement already satisfied: packaging==20.9 in /usr/local/lib/python3.7/dist-packages (from -r emo20q/requirements.bert.txt (line 83)) (20.9)\n",
            "Collecting pandas==1.2.4\n",
            "\u001b[?25l  Downloading https://files.pythonhosted.org/packages/51/51/48f3fc47c4e2144da2806dfb6629c4dd1fa3d5a143f9652b141e979a8ca9/pandas-1.2.4-cp37-cp37m-manylinux1_x86_64.whl (9.9MB)\n",
            "\u001b[K     |████████████████████████████████| 9.9MB 44.8MB/s \n",
            "\u001b[?25hRequirement already satisfied: pandocfilters==1.4.3 in /usr/local/lib/python3.7/dist-packages (from -r emo20q/requirements.bert.txt (line 85)) (1.4.3)\n",
            "Collecting parso==0.8.1\n",
            "\u001b[?25l  Downloading https://files.pythonhosted.org/packages/ad/f0/ef6bdb1eba2dbfda60c985cd8d7b47b6ed8c6a1f5d212f39ff50b64f172c/parso-0.8.1-py2.py3-none-any.whl (93kB)\n",
            "\u001b[K     |████████████████████████████████| 102kB 14.5MB/s \n",
            "\u001b[?25hRequirement already satisfied: pexpect==4.8.0 in /usr/local/lib/python3.7/dist-packages (from -r emo20q/requirements.bert.txt (line 87)) (4.8.0)\n",
            "Requirement already satisfied: pickleshare==0.7.5 in /usr/local/lib/python3.7/dist-packages (from -r emo20q/requirements.bert.txt (line 88)) (0.7.5)\n",
            "Collecting Pillow==8.2.0\n",
            "\u001b[?25l  Downloading https://files.pythonhosted.org/packages/33/34/542152297dcc6c47a9dcb0685eac6d652d878ed3cea83bf2b23cb988e857/Pillow-8.2.0-cp37-cp37m-manylinux1_x86_64.whl (3.0MB)\n",
            "\u001b[K     |████████████████████████████████| 3.0MB 46.4MB/s \n",
            "\u001b[?25hCollecting pre-commit==2.11.1\n",
            "\u001b[?25l  Downloading https://files.pythonhosted.org/packages/e4/ef/a3889a07344c047ed011ea198805bd3377f22675c20df944152e466e7fdc/pre_commit-2.11.1-py2.py3-none-any.whl (187kB)\n",
            "\u001b[K     |████████████████████████████████| 194kB 58.3MB/s \n",
            "\u001b[?25hCollecting prometheus-client==0.9.0\n",
            "\u001b[?25l  Downloading https://files.pythonhosted.org/packages/f4/7e/ef341c67ed43ad2e39633a35c28b77bc555f9572f4df4fee11c2b467db00/prometheus_client-0.9.0-py2.py3-none-any.whl (53kB)\n",
            "\u001b[K     |████████████████████████████████| 61kB 10.2MB/s \n",
            "\u001b[?25hRequirement already satisfied: promise==2.3 in /usr/local/lib/python3.7/dist-packages (from -r emo20q/requirements.bert.txt (line 92)) (2.3)\n",
            "Collecting prompt-toolkit==3.0.17\n",
            "\u001b[?25l  Downloading https://files.pythonhosted.org/packages/ce/ee/08ceeb759c570bf96b4c636582ebf18c14c3c844a601b2e77b17f462aa6b/prompt_toolkit-3.0.17-py3-none-any.whl (367kB)\n",
            "\u001b[K     |████████████████████████████████| 368kB 59.1MB/s \n",
            "\u001b[?25hCollecting proto-plus==1.18.1\n",
            "\u001b[?25l  Downloading https://files.pythonhosted.org/packages/b4/8a/61c5a9b9b6288f9b060b6e3d88374fc083953a29aeac7206616c2d3c9c8e/proto_plus-1.18.1-py3-none-any.whl (42kB)\n",
            "\u001b[K     |████████████████████████████████| 51kB 8.5MB/s \n",
            "\u001b[?25hCollecting protobuf==3.15.8\n",
            "\u001b[?25l  Downloading https://files.pythonhosted.org/packages/51/4e/de63de3cd9a83d3c1753a4566b11fc9d90b845f2448a132cfd36d3cb3cd1/protobuf-3.15.8-cp37-cp37m-manylinux1_x86_64.whl (1.0MB)\n",
            "\u001b[K     |████████████████████████████████| 1.0MB 48.4MB/s \n",
            "\u001b[?25hCollecting psutil==5.8.0\n",
            "\u001b[?25l  Downloading https://files.pythonhosted.org/packages/84/da/f7efdcf012b51506938553dbe302aecc22f3f43abd5cffa8320e8e0588d5/psutil-5.8.0-cp37-cp37m-manylinux2010_x86_64.whl (296kB)\n",
            "\u001b[K     |████████████████████████████████| 296kB 61.5MB/s \n",
            "\u001b[?25hRequirement already satisfied: ptyprocess==0.7.0 in /usr/local/lib/python3.7/dist-packages (from -r emo20q/requirements.bert.txt (line 97)) (0.7.0)\n",
            "Collecting py-cpuinfo==8.0.0\n",
            "\u001b[?25l  Downloading https://files.pythonhosted.org/packages/e6/ba/77120e44cbe9719152415b97d5bfb29f4053ee987d6cb63f55ce7d50fadc/py-cpuinfo-8.0.0.tar.gz (99kB)\n",
            "\u001b[K     |████████████████████████████████| 102kB 13.8MB/s \n",
            "\u001b[?25hRequirement already satisfied: pyasn1==0.4.8 in /usr/local/lib/python3.7/dist-packages (from -r emo20q/requirements.bert.txt (line 99)) (0.4.8)\n",
            "Requirement already satisfied: pyasn1-modules==0.2.8 in /usr/local/lib/python3.7/dist-packages (from -r emo20q/requirements.bert.txt (line 100)) (0.2.8)\n",
            "Requirement already satisfied: pycocotools==2.0.2 in /usr/local/lib/python3.7/dist-packages (from -r emo20q/requirements.bert.txt (line 101)) (2.0.2)\n",
            "Requirement already satisfied: pycparser==2.20 in /usr/local/lib/python3.7/dist-packages (from -r emo20q/requirements.bert.txt (line 102)) (2.20)\n",
            "Collecting pydot==1.4.2\n",
            "  Downloading https://files.pythonhosted.org/packages/ea/76/75b1bb82e9bad3e3d656556eaa353d8cd17c4254393b08ec9786ac8ed273/pydot-1.4.2-py2.py3-none-any.whl\n",
            "Collecting Pygments==2.8.1\n",
            "\u001b[?25l  Downloading https://files.pythonhosted.org/packages/3a/80/a52c0a7c5939737c6dca75a831e89658ecb6f590fb7752ac777d221937b9/Pygments-2.8.1-py3-none-any.whl (983kB)\n",
            "\u001b[K     |████████████████████████████████| 993kB 47.6MB/s \n",
            "\u001b[?25hRequirement already satisfied: pyparsing==2.4.7 in /usr/local/lib/python3.7/dist-packages (from -r emo20q/requirements.bert.txt (line 105)) (2.4.7)\n",
            "Requirement already satisfied: pyrsistent==0.17.3 in /usr/local/lib/python3.7/dist-packages (from -r emo20q/requirements.bert.txt (line 106)) (0.17.3)\n",
            "Requirement already satisfied: python-dateutil==2.8.1 in /usr/local/lib/python3.7/dist-packages (from -r emo20q/requirements.bert.txt (line 107)) (2.8.1)\n",
            "Requirement already satisfied: python-slugify==4.0.1 in /usr/local/lib/python3.7/dist-packages (from -r emo20q/requirements.bert.txt (line 108)) (4.0.1)\n",
            "Collecting pytz==2021.1\n",
            "\u001b[?25l  Downloading https://files.pythonhosted.org/packages/70/94/784178ca5dd892a98f113cdd923372024dc04b8d40abe77ca76b5fb90ca6/pytz-2021.1-py2.py3-none-any.whl (510kB)\n",
            "\u001b[K     |████████████████████████████████| 512kB 56.5MB/s \n",
            "\u001b[?25hCollecting PyYAML==5.4.1\n",
            "\u001b[?25l  Downloading https://files.pythonhosted.org/packages/7a/a5/393c087efdc78091afa2af9f1378762f9821c9c1d7a22c5753fb5ac5f97a/PyYAML-5.4.1-cp37-cp37m-manylinux1_x86_64.whl (636kB)\n",
            "\u001b[K     |████████████████████████████████| 645kB 54.1MB/s \n",
            "\u001b[?25hRequirement already satisfied: pyzmq==22.0.3 in /usr/local/lib/python3.7/dist-packages (from -r emo20q/requirements.bert.txt (line 111)) (22.0.3)\n",
            "Collecting qtconsole==5.0.2\n",
            "\u001b[?25l  Downloading https://files.pythonhosted.org/packages/1f/01/c12a917730123d83be66a4dbab7b890fd7f4e31f10e75021bf89c3f954ff/qtconsole-5.0.2-py3-none-any.whl (119kB)\n",
            "\u001b[K     |████████████████████████████████| 122kB 43.8MB/s \n",
            "\u001b[?25hRequirement already satisfied: QtPy==1.9.0 in /usr/local/lib/python3.7/dist-packages (from -r emo20q/requirements.bert.txt (line 113)) (1.9.0)\n",
            "Collecting regex==2021.3.17\n",
            "\u001b[?25l  Downloading https://files.pythonhosted.org/packages/84/7f/cf29aa66bd1846df3fc0e494cc8eedfefb9328ad68798dc8be0dbcfc165b/regex-2021.3.17-cp37-cp37m-manylinux2014_x86_64.whl (721kB)\n",
            "\u001b[K     |████████████████████████████████| 727kB 48.5MB/s \n",
            "\u001b[?25hCollecting requests==2.25.1\n",
            "\u001b[?25l  Downloading https://files.pythonhosted.org/packages/29/c1/24814557f1d22c56d50280771a17307e6bf87b70727d975fd6b2ce6b014a/requests-2.25.1-py2.py3-none-any.whl (61kB)\n",
            "\u001b[K     |████████████████████████████████| 61kB 9.4MB/s \n",
            "\u001b[?25hRequirement already satisfied: requests-oauthlib==1.3.0 in /usr/local/lib/python3.7/dist-packages (from -r emo20q/requirements.bert.txt (line 116)) (1.3.0)\n",
            "Requirement already satisfied: rsa==4.7.2 in /usr/local/lib/python3.7/dist-packages (from -r emo20q/requirements.bert.txt (line 117)) (4.7.2)\n",
            "Collecting scikit-learn==0.24.1\n",
            "\u001b[?25l  Downloading https://files.pythonhosted.org/packages/f3/74/eb899f41d55f957e2591cde5528e75871f817d9fb46d4732423ecaca736d/scikit_learn-0.24.1-cp37-cp37m-manylinux2010_x86_64.whl (22.3MB)\n",
            "\u001b[K     |████████████████████████████████| 22.3MB 1.8MB/s \n",
            "\u001b[?25hCollecting scipy==1.6.2\n",
            "\u001b[?25l  Downloading https://files.pythonhosted.org/packages/75/91/ee427c42957f8c4cbe477bf4f8b7f608e003a17941e509d1777e58648cb3/scipy-1.6.2-cp37-cp37m-manylinux1_x86_64.whl (27.4MB)\n",
            "\u001b[K     |████████████████████████████████| 27.4MB 1.4MB/s \n",
            "\u001b[?25hRequirement already satisfied: Send2Trash==1.5.0 in /usr/local/lib/python3.7/dist-packages (from -r emo20q/requirements.bert.txt (line 120)) (1.5.0)\n",
            "Collecting sentencepiece==0.1.95\n",
            "\u001b[?25l  Downloading https://files.pythonhosted.org/packages/f5/99/e0808cb947ba10f575839c43e8fafc9cc44e4a7a2c8f79c60db48220a577/sentencepiece-0.1.95-cp37-cp37m-manylinux2014_x86_64.whl (1.2MB)\n",
            "\u001b[K     |████████████████████████████████| 1.2MB 47.2MB/s \n",
            "\u001b[?25hCollecting seqeval==1.2.2\n",
            "\u001b[?25l  Downloading https://files.pythonhosted.org/packages/9d/2d/233c79d5b4e5ab1dbf111242299153f3caddddbb691219f363ad55ce783d/seqeval-1.2.2.tar.gz (43kB)\n",
            "\u001b[K     |████████████████████████████████| 51kB 8.4MB/s \n",
            "\u001b[?25hRequirement already satisfied: six==1.15.0 in /usr/local/lib/python3.7/dist-packages (from -r emo20q/requirements.bert.txt (line 123)) (1.15.0)\n",
            "Requirement already satisfied: tensorboard==2.4.1 in /usr/local/lib/python3.7/dist-packages (from -r emo20q/requirements.bert.txt (line 124)) (2.4.1)\n",
            "Requirement already satisfied: tensorboard-plugin-wit==1.8.0 in /usr/local/lib/python3.7/dist-packages (from -r emo20q/requirements.bert.txt (line 125)) (1.8.0)\n",
            "Requirement already satisfied: tensorflow==2.4.1 in /usr/local/lib/python3.7/dist-packages (from -r emo20q/requirements.bert.txt (line 126)) (2.4.1)\n",
            "Collecting tensorflow-addons==0.12.1\n",
            "\u001b[?25l  Downloading https://files.pythonhosted.org/packages/74/e3/56d2fe76f0bb7c88ed9b2a6a557e25e83e252aec08f13de34369cd850a0b/tensorflow_addons-0.12.1-cp37-cp37m-manylinux2010_x86_64.whl (703kB)\n",
            "\u001b[K     |████████████████████████████████| 706kB 50.3MB/s \n",
            "\u001b[?25hCollecting tensorflow-datasets==4.2.0\n",
            "\u001b[?25l  Downloading https://files.pythonhosted.org/packages/d3/91/c3e36695ca04e6f3c2d920887d7dc36550f6bbb03d7d5fd03c2172b06d97/tensorflow_datasets-4.2.0-py3-none-any.whl (3.7MB)\n",
            "\u001b[K     |████████████████████████████████| 3.7MB 47.4MB/s \n",
            "\u001b[?25hRequirement already satisfied: tensorflow-estimator==2.4.0 in /usr/local/lib/python3.7/dist-packages (from -r emo20q/requirements.bert.txt (line 129)) (2.4.0)\n",
            "Requirement already satisfied: tensorflow-hub==0.12.0 in /usr/local/lib/python3.7/dist-packages (from -r emo20q/requirements.bert.txt (line 130)) (0.12.0)\n",
            "Requirement already satisfied: tensorflow-metadata==0.29.0 in /usr/local/lib/python3.7/dist-packages (from -r emo20q/requirements.bert.txt (line 131)) (0.29.0)\n",
            "Collecting tensorflow-model-optimization==0.5.0\n",
            "\u001b[?25l  Downloading https://files.pythonhosted.org/packages/55/38/4fd48ea1bfcb0b6e36d949025200426fe9c3a8bfae029f0973d85518fa5a/tensorflow_model_optimization-0.5.0-py2.py3-none-any.whl (172kB)\n",
            "\u001b[K     |████████████████████████████████| 174kB 54.1MB/s \n",
            "\u001b[?25hRequirement already satisfied: termcolor==1.1.0 in /usr/local/lib/python3.7/dist-packages (from -r emo20q/requirements.bert.txt (line 133)) (1.1.0)\n",
            "Collecting terminado==0.9.2\n",
            "  Downloading https://files.pythonhosted.org/packages/de/74/604d9dcbb5b73b54d07c78764b22568b8c7923d93e257dc9766142f67b81/terminado-0.9.2-py3-none-any.whl\n",
            "Requirement already satisfied: testpath==0.4.4 in /usr/local/lib/python3.7/dist-packages (from -r emo20q/requirements.bert.txt (line 135)) (0.4.4)\n",
            "Requirement already satisfied: text-unidecode==1.3 in /usr/local/lib/python3.7/dist-packages (from -r emo20q/requirements.bert.txt (line 136)) (1.3)\n",
            "Collecting tf-models-official==2.4.0\n",
            "\u001b[?25l  Downloading https://files.pythonhosted.org/packages/57/4a/23a08f8fd2747867ee223612e219eeb0d11c36116601d99b55ef3c72e707/tf_models_official-2.4.0-py2.py3-none-any.whl (1.1MB)\n",
            "\u001b[K     |████████████████████████████████| 1.1MB 43.7MB/s \n",
            "\u001b[?25hCollecting tf-slim==1.1.0\n",
            "\u001b[?25l  Downloading https://files.pythonhosted.org/packages/02/97/b0f4a64df018ca018cc035d44f2ef08f91e2e8aa67271f6f19633a015ff7/tf_slim-1.1.0-py2.py3-none-any.whl (352kB)\n",
            "\u001b[K     |████████████████████████████████| 358kB 54.7MB/s \n",
            "\u001b[?25hCollecting threadpoolctl==2.1.0\n",
            "  Downloading https://files.pythonhosted.org/packages/f7/12/ec3f2e203afa394a149911729357aa48affc59c20e2c1c8297a60f33f133/threadpoolctl-2.1.0-py3-none-any.whl\n",
            "Requirement already satisfied: toml==0.10.2 in /usr/local/lib/python3.7/dist-packages (from -r emo20q/requirements.bert.txt (line 140)) (0.10.2)\n",
            "Collecting tornado==6.1\n",
            "\u001b[?25l  Downloading https://files.pythonhosted.org/packages/91/a8/9c5902233fa3c2e6a889cbd164333ddda5009669f494e3fadbeee2c03af5/tornado-6.1-cp37-cp37m-manylinux2010_x86_64.whl (428kB)\n",
            "\u001b[K     |████████████████████████████████| 430kB 57.1MB/s \n",
            "\u001b[?25hCollecting tqdm==4.59.0\n",
            "\u001b[?25l  Downloading https://files.pythonhosted.org/packages/f8/3e/2730d0effc282960dbff3cf91599ad0d8f3faedc8e75720fdf224b31ab24/tqdm-4.59.0-py2.py3-none-any.whl (74kB)\n",
            "\u001b[K     |████████████████████████████████| 81kB 12.0MB/s \n",
            "\u001b[?25hRequirement already satisfied: traitlets==5.0.5 in /usr/local/lib/python3.7/dist-packages (from -r emo20q/requirements.bert.txt (line 143)) (5.0.5)\n",
            "Collecting typeguard==2.12.0\n",
            "  Downloading https://files.pythonhosted.org/packages/06/1f/c10ad900a10e1421b85d20f1c9d1748469ef5a34296693a02be887af5f95/typeguard-2.12.0-py3-none-any.whl\n",
            "Requirement already satisfied: typing-extensions==3.7.4.3 in /usr/local/lib/python3.7/dist-packages (from -r emo20q/requirements.bert.txt (line 145)) (3.7.4.3)\n",
            "Requirement already satisfied: uritemplate==3.0.1 in /usr/local/lib/python3.7/dist-packages (from -r emo20q/requirements.bert.txt (line 146)) (3.0.1)\n",
            "Collecting urllib3==1.26.4\n",
            "\u001b[?25l  Downloading https://files.pythonhosted.org/packages/09/c6/d3e3abe5b4f4f16cf0dfc9240ab7ce10c2baa0e268989a4e3ec19e90c84e/urllib3-1.26.4-py2.py3-none-any.whl (153kB)\n",
            "\u001b[K     |████████████████████████████████| 153kB 61.8MB/s \n",
            "\u001b[?25hCollecting virtualenv==20.4.3\n",
            "\u001b[?25l  Downloading https://files.pythonhosted.org/packages/91/fb/ca6c071f4231e06a9f0c3bd81c15c233bbacd4a7d9dbb7438d95fece8a1e/virtualenv-20.4.3-py2.py3-none-any.whl (7.2MB)\n",
            "\u001b[K     |████████████████████████████████| 7.2MB 47.9MB/s \n",
            "\u001b[?25hRequirement already satisfied: wcwidth==0.2.5 in /usr/local/lib/python3.7/dist-packages (from -r emo20q/requirements.bert.txt (line 149)) (0.2.5)\n",
            "Requirement already satisfied: webencodings==0.5.1 in /usr/local/lib/python3.7/dist-packages (from -r emo20q/requirements.bert.txt (line 150)) (0.5.1)\n",
            "Requirement already satisfied: Werkzeug==1.0.1 in /usr/local/lib/python3.7/dist-packages (from -r emo20q/requirements.bert.txt (line 151)) (1.0.1)\n",
            "Requirement already satisfied: widgetsnbextension==3.5.1 in /usr/local/lib/python3.7/dist-packages (from -r emo20q/requirements.bert.txt (line 152)) (3.5.1)\n",
            "Requirement already satisfied: wrapt==1.12.1 in /usr/local/lib/python3.7/dist-packages (from -r emo20q/requirements.bert.txt (line 153)) (1.12.1)\n",
            "Requirement already satisfied: zipp==3.4.1 in /usr/local/lib/python3.7/dist-packages (from -r emo20q/requirements.bert.txt (line 154)) (3.4.1)\n",
            "Requirement already satisfied: wheel<1.0,>=0.23.0 in /usr/local/lib/python3.7/dist-packages (from astunparse==1.6.3->-r emo20q/requirements.bert.txt (line 5)) (0.36.2)\n",
            "Requirement already satisfied: setuptools>=40.3.0 in /usr/local/lib/python3.7/dist-packages (from google-api-core==1.26.3->-r emo20q/requirements.bert.txt (line 30)) (54.2.0)\n",
            "Building wheels for collected packages: future, nltk, py-cpuinfo, seqeval\n",
            "  Building wheel for future (setup.py) ... \u001b[?25l\u001b[?25hdone\n",
            "  Created wheel for future: filename=future-0.18.2-cp37-none-any.whl size=491058 sha256=39b393be514c0fcf514826180a08bf95837bba69df5dd376454c94ee675b045a\n",
            "  Stored in directory: /root/.cache/pip/wheels/8b/99/a0/81daf51dcd359a9377b110a8a886b3895921802d2fc1b2397e\n",
            "  Building wheel for nltk (setup.py) ... \u001b[?25l\u001b[?25hdone\n",
            "  Created wheel for nltk: filename=nltk-3.5-cp37-none-any.whl size=1434677 sha256=554ec9629fb74b4875008bbe3e6e1651e2a6c018df781a9a05832922bc9afb96\n",
            "  Stored in directory: /root/.cache/pip/wheels/ae/8c/3f/b1fe0ba04555b08b57ab52ab7f86023639a526d8bc8d384306\n",
            "  Building wheel for py-cpuinfo (setup.py) ... \u001b[?25l\u001b[?25hdone\n",
            "  Created wheel for py-cpuinfo: filename=py_cpuinfo-8.0.0-cp37-none-any.whl size=22245 sha256=ef738e16a62752ad012c4037b6e57dcdfee03594f49b53629b9a8fce81866610\n",
            "  Stored in directory: /root/.cache/pip/wheels/2e/15/f5/aa2a056d223903b52cf4870134e3a01df0c723816835dd08db\n",
            "  Building wheel for seqeval (setup.py) ... \u001b[?25l\u001b[?25hdone\n",
            "  Created wheel for seqeval: filename=seqeval-1.2.2-cp37-none-any.whl size=16172 sha256=f1021008980e75355264c70c66cadcffb447173e4e5787b187d087d6f830714d\n",
            "  Stored in directory: /root/.cache/pip/wheels/52/df/1b/45d75646c37428f7e626214704a0e35bd3cfc32eda37e59e5f\n",
            "Successfully built future nltk py-cpuinfo seqeval\n",
            "\u001b[31mERROR: pandas-gbq 0.13.3 has requirement google-cloud-bigquery[bqstorage,pandas]<2.0.0dev,>=1.11.1, but you'll have google-cloud-bigquery 2.13.1 which is incompatible.\u001b[0m\n",
            "\u001b[31mERROR: google-colab 1.0.0 has requirement ipykernel~=4.10, but you'll have ipykernel 5.5.0 which is incompatible.\u001b[0m\n",
            "\u001b[31mERROR: google-colab 1.0.0 has requirement ipython~=5.5.0, but you'll have ipython 7.21.0 which is incompatible.\u001b[0m\n",
            "\u001b[31mERROR: google-colab 1.0.0 has requirement notebook~=5.3.0; python_version >= \"3.0\", but you'll have notebook 6.2.0 which is incompatible.\u001b[0m\n",
            "\u001b[31mERROR: google-colab 1.0.0 has requirement pandas~=1.1.0; python_version >= \"3.0\", but you'll have pandas 1.2.4 which is incompatible.\u001b[0m\n",
            "\u001b[31mERROR: google-colab 1.0.0 has requirement requests~=2.23.0, but you'll have requests 2.25.1 which is incompatible.\u001b[0m\n",
            "\u001b[31mERROR: google-colab 1.0.0 has requirement tornado~=5.1.0; python_version >= \"3.0\", but you'll have tornado 6.1 which is incompatible.\u001b[0m\n",
            "\u001b[31mERROR: google-cloud-storage 1.18.1 has requirement google-resumable-media<0.5.0dev,>=0.3.1, but you'll have google-resumable-media 1.2.0 which is incompatible.\u001b[0m\n",
            "\u001b[31mERROR: earthengine-api 0.1.260 has requirement google-api-python-client<2,>=1.12.1, but you'll have google-api-python-client 2.2.0 which is incompatible.\u001b[0m\n",
            "\u001b[31mERROR: datascience 0.10.6 has requirement folium==0.2.1, but you'll have folium 0.8.3 which is incompatible.\u001b[0m\n",
            "\u001b[31mERROR: albumentations 0.1.12 has requirement imgaug<0.2.7,>=0.2.5, but you'll have imgaug 0.2.9 which is incompatible.\u001b[0m\n",
            "Installing collected packages: appnope, cfgv, chardet, Cython, dataclasses, distlib, future, httplib2, google-auth, google-auth-httplib2, google-api-python-client, google-cloud-core, protobuf, proto-plus, urllib3, requests, google-crc32c, google-resumable-media, google-cloud-bigquery, identify, importlib-metadata, prompt-toolkit, Pygments, ipython, tornado, jupyter-client, ipykernel, jsonschema, jupyter-console, matplotlib, nbformat, nbconvert, nbstripout, networkx, regex, tqdm, nltk, nodeenv, prometheus-client, terminado, notebook, opencv-python-headless, pytz, pandas, parso, Pillow, PyYAML, virtualenv, pre-commit, psutil, py-cpuinfo, pydot, qtconsole, scipy, threadpoolctl, scikit-learn, sentencepiece, seqeval, typeguard, tensorflow-addons, tensorflow-datasets, tensorflow-model-optimization, tf-slim, tf-models-official\n",
            "  Found existing installation: chardet 3.0.4\n",
            "    Uninstalling chardet-3.0.4:\n",
            "      Successfully uninstalled chardet-3.0.4\n",
            "  Found existing installation: Cython 0.29.22\n",
            "    Uninstalling Cython-0.29.22:\n",
            "      Successfully uninstalled Cython-0.29.22\n",
            "  Found existing installation: future 0.16.0\n",
            "    Uninstalling future-0.16.0:\n",
            "      Successfully uninstalled future-0.16.0\n",
            "  Found existing installation: httplib2 0.17.4\n",
            "    Uninstalling httplib2-0.17.4:\n",
            "      Successfully uninstalled httplib2-0.17.4\n",
            "  Found existing installation: google-auth 1.28.1\n",
            "    Uninstalling google-auth-1.28.1:\n",
            "      Successfully uninstalled google-auth-1.28.1\n",
            "  Found existing installation: google-auth-httplib2 0.0.4\n",
            "    Uninstalling google-auth-httplib2-0.0.4:\n",
            "      Successfully uninstalled google-auth-httplib2-0.0.4\n",
            "  Found existing installation: google-api-python-client 1.12.8\n",
            "    Uninstalling google-api-python-client-1.12.8:\n",
            "      Successfully uninstalled google-api-python-client-1.12.8\n",
            "  Found existing installation: google-cloud-core 1.0.3\n",
            "    Uninstalling google-cloud-core-1.0.3:\n",
            "      Successfully uninstalled google-cloud-core-1.0.3\n",
            "  Found existing installation: protobuf 3.12.4\n",
            "    Uninstalling protobuf-3.12.4:\n",
            "      Successfully uninstalled protobuf-3.12.4\n",
            "  Found existing installation: urllib3 1.24.3\n",
            "    Uninstalling urllib3-1.24.3:\n",
            "      Successfully uninstalled urllib3-1.24.3\n",
            "  Found existing installation: requests 2.23.0\n",
            "    Uninstalling requests-2.23.0:\n",
            "      Successfully uninstalled requests-2.23.0\n",
            "  Found existing installation: google-resumable-media 0.4.1\n",
            "    Uninstalling google-resumable-media-0.4.1:\n",
            "      Successfully uninstalled google-resumable-media-0.4.1\n",
            "  Found existing installation: google-cloud-bigquery 1.21.0\n",
            "    Uninstalling google-cloud-bigquery-1.21.0:\n",
            "      Successfully uninstalled google-cloud-bigquery-1.21.0\n",
            "  Found existing installation: importlib-metadata 3.10.1\n",
            "    Uninstalling importlib-metadata-3.10.1:\n",
            "      Successfully uninstalled importlib-metadata-3.10.1\n",
            "  Found existing installation: prompt-toolkit 1.0.18\n",
            "    Uninstalling prompt-toolkit-1.0.18:\n",
            "      Successfully uninstalled prompt-toolkit-1.0.18\n",
            "  Found existing installation: Pygments 2.6.1\n",
            "    Uninstalling Pygments-2.6.1:\n",
            "      Successfully uninstalled Pygments-2.6.1\n",
            "  Found existing installation: ipython 5.5.0\n",
            "    Uninstalling ipython-5.5.0:\n",
            "      Successfully uninstalled ipython-5.5.0\n",
            "  Found existing installation: tornado 5.1.1\n",
            "    Uninstalling tornado-5.1.1:\n",
            "      Successfully uninstalled tornado-5.1.1\n",
            "  Found existing installation: jupyter-client 5.3.5\n",
            "    Uninstalling jupyter-client-5.3.5:\n",
            "      Successfully uninstalled jupyter-client-5.3.5\n",
            "  Found existing installation: ipykernel 4.10.1\n",
            "    Uninstalling ipykernel-4.10.1:\n",
            "      Successfully uninstalled ipykernel-4.10.1\n",
            "  Found existing installation: jsonschema 2.6.0\n",
            "    Uninstalling jsonschema-2.6.0:\n",
            "      Successfully uninstalled jsonschema-2.6.0\n",
            "  Found existing installation: jupyter-console 5.2.0\n",
            "    Uninstalling jupyter-console-5.2.0:\n",
            "      Successfully uninstalled jupyter-console-5.2.0\n",
            "  Found existing installation: matplotlib 3.2.2\n",
            "    Uninstalling matplotlib-3.2.2:\n",
            "      Successfully uninstalled matplotlib-3.2.2\n",
            "  Found existing installation: nbformat 5.1.3\n",
            "    Uninstalling nbformat-5.1.3:\n",
            "      Successfully uninstalled nbformat-5.1.3\n",
            "  Found existing installation: nbconvert 5.6.1\n",
            "    Uninstalling nbconvert-5.6.1:\n",
            "      Successfully uninstalled nbconvert-5.6.1\n",
            "  Found existing installation: networkx 2.5.1\n",
            "    Uninstalling networkx-2.5.1:\n",
            "      Successfully uninstalled networkx-2.5.1\n",
            "  Found existing installation: regex 2019.12.20\n",
            "    Uninstalling regex-2019.12.20:\n",
            "      Successfully uninstalled regex-2019.12.20\n",
            "  Found existing installation: tqdm 4.41.1\n",
            "    Uninstalling tqdm-4.41.1:\n",
            "      Successfully uninstalled tqdm-4.41.1\n",
            "  Found existing installation: nltk 3.2.5\n",
            "    Uninstalling nltk-3.2.5:\n",
            "      Successfully uninstalled nltk-3.2.5\n",
            "  Found existing installation: prometheus-client 0.10.1\n",
            "    Uninstalling prometheus-client-0.10.1:\n",
            "      Successfully uninstalled prometheus-client-0.10.1\n",
            "  Found existing installation: terminado 0.9.4\n",
            "    Uninstalling terminado-0.9.4:\n",
            "      Successfully uninstalled terminado-0.9.4\n",
            "  Found existing installation: notebook 5.3.1\n",
            "    Uninstalling notebook-5.3.1:\n",
            "      Successfully uninstalled notebook-5.3.1\n",
            "  Found existing installation: pytz 2018.9\n",
            "    Uninstalling pytz-2018.9:\n",
            "      Successfully uninstalled pytz-2018.9\n",
            "  Found existing installation: pandas 1.1.5\n",
            "    Uninstalling pandas-1.1.5:\n",
            "      Successfully uninstalled pandas-1.1.5\n",
            "  Found existing installation: parso 0.8.2\n",
            "    Uninstalling parso-0.8.2:\n",
            "      Successfully uninstalled parso-0.8.2\n",
            "  Found existing installation: Pillow 7.1.2\n",
            "    Uninstalling Pillow-7.1.2:\n",
            "      Successfully uninstalled Pillow-7.1.2\n",
            "  Found existing installation: PyYAML 3.13\n",
            "    Uninstalling PyYAML-3.13:\n",
            "      Successfully uninstalled PyYAML-3.13\n",
            "  Found existing installation: psutil 5.4.8\n",
            "    Uninstalling psutil-5.4.8:\n",
            "      Successfully uninstalled psutil-5.4.8\n",
            "  Found existing installation: pydot 1.3.0\n",
            "    Uninstalling pydot-1.3.0:\n",
            "      Successfully uninstalled pydot-1.3.0\n",
            "  Found existing installation: qtconsole 5.0.3\n",
            "    Uninstalling qtconsole-5.0.3:\n",
            "      Successfully uninstalled qtconsole-5.0.3\n",
            "  Found existing installation: scipy 1.4.1\n",
            "    Uninstalling scipy-1.4.1:\n",
            "      Successfully uninstalled scipy-1.4.1\n",
            "  Found existing installation: scikit-learn 0.22.2.post1\n",
            "    Uninstalling scikit-learn-0.22.2.post1:\n",
            "      Successfully uninstalled scikit-learn-0.22.2.post1\n",
            "  Found existing installation: typeguard 2.7.1\n",
            "    Uninstalling typeguard-2.7.1:\n",
            "      Successfully uninstalled typeguard-2.7.1\n",
            "  Found existing installation: tensorflow-datasets 4.0.1\n",
            "    Uninstalling tensorflow-datasets-4.0.1:\n",
            "      Successfully uninstalled tensorflow-datasets-4.0.1\n",
            "Successfully installed Cython-0.29.23 Pillow-8.2.0 PyYAML-5.4.1 Pygments-2.8.1 appnope-0.1.2 cfgv-3.2.0 chardet-4.0.0 dataclasses-0.6 distlib-0.3.1 future-0.18.2 google-api-python-client-2.2.0 google-auth-1.29.0 google-auth-httplib2-0.1.0 google-cloud-bigquery-2.13.1 google-cloud-core-1.6.0 google-crc32c-1.1.2 google-resumable-media-1.2.0 httplib2-0.19.1 identify-2.2.0 importlib-metadata-3.7.2 ipykernel-5.5.0 ipython-7.21.0 jsonschema-3.2.0 jupyter-client-6.1.11 jupyter-console-6.2.0 matplotlib-3.1.3 nbconvert-6.0.7 nbformat-5.1.2 nbstripout-0.3.9 networkx-2.5 nltk-3.5 nodeenv-1.5.0 notebook-6.2.0 opencv-python-headless-4.5.1.48 pandas-1.2.4 parso-0.8.1 pre-commit-2.11.1 prometheus-client-0.9.0 prompt-toolkit-3.0.17 proto-plus-1.18.1 protobuf-3.15.8 psutil-5.8.0 py-cpuinfo-8.0.0 pydot-1.4.2 pytz-2021.1 qtconsole-5.0.2 regex-2021.3.17 requests-2.25.1 scikit-learn-0.24.1 scipy-1.6.2 sentencepiece-0.1.95 seqeval-1.2.2 tensorflow-addons-0.12.1 tensorflow-datasets-4.2.0 tensorflow-model-optimization-0.5.0 terminado-0.9.2 tf-models-official-2.4.0 tf-slim-1.1.0 threadpoolctl-2.1.0 tornado-6.1 tqdm-4.59.0 typeguard-2.12.0 urllib3-1.26.4 virtualenv-20.4.3\n"
          ],
          "name": "stdout"
        },
        {
          "output_type": "display_data",
          "data": {
            "application/vnd.colab-display-data+json": {
              "pip_warning": {
                "packages": [
                  "IPython",
                  "PIL",
                  "google",
                  "ipykernel",
                  "jupyter_client",
                  "matplotlib",
                  "mpl_toolkits",
                  "pandas",
                  "prompt_toolkit",
                  "psutil",
                  "pygments",
                  "pytz",
                  "tornado"
                ]
              }
            }
          },
          "metadata": {
            "tags": []
          }
        }
      ]
    },
    {
      "cell_type": "code",
      "metadata": {
        "id": "yrBeTvExN1EM"
      },
      "source": [
        "import sys\n",
        "sys.path.append(\"emo20q\") # put the library on the path"
      ],
      "id": "yrBeTvExN1EM",
      "execution_count": 5,
      "outputs": []
    },
    {
      "cell_type": "code",
      "metadata": {
        "id": "material-dance"
      },
      "source": [
        "from collections import defaultdict\n",
        "from emo20q.gamedata import HumanHumanTournament\n",
        "\n",
        "def collect_paraphrases(hht) -> dict:\n",
        "    \"\"\"returns a dict with gloss/semantic annotation as the key and a set\n",
        "    of examples as the values\n",
        "    \"\"\"\n",
        "    paraphrase_dict = defaultdict(set)\n",
        "    for m in hht.matches:\n",
        "        for t in m.turns:\n",
        "            paraphrase_dict[t.qgloss].add(t.q)\n",
        "\n",
        "    return paraphrase_dict"
      ],
      "id": "material-dance",
      "execution_count": 6,
      "outputs": []
    },
    {
      "cell_type": "code",
      "metadata": {
        "id": "ordinary-naples"
      },
      "source": [
        "pd = collect_paraphrases(HumanHumanTournament())"
      ],
      "id": "ordinary-naples",
      "execution_count": 7,
      "outputs": []
    },
    {
      "cell_type": "code",
      "metadata": {
        "id": "broke-abuse",
        "outputId": "f163b65f-ac6d-4b41-cee8-c632155c754b",
        "colab": {
          "base_uri": "https://localhost:8080/"
        }
      },
      "source": [
        "len(pd.keys())"
      ],
      "id": "broke-abuse",
      "execution_count": 8,
      "outputs": [
        {
          "output_type": "execute_result",
          "data": {
            "text/plain": [
              "700"
            ]
          },
          "metadata": {
            "tags": []
          },
          "execution_count": 8
        }
      ]
    },
    {
      "cell_type": "code",
      "metadata": {
        "id": "aerial-phone"
      },
      "source": [
        "# c.f. https://realpython.com/python-histograms/\n",
        "def count_elements(seq) -> dict:\n",
        "     \"\"\"Tally elements from `seq`.\"\"\"\n",
        "     hist = {}\n",
        "     for i in seq:\n",
        "         hist[i] = hist.get(i, 0) + 1\n",
        "     return hist\n",
        "\n",
        "def ascii_histogram(seq) -> None:\n",
        "    \"\"\"A horizontal frequency-table/histogram plot.\"\"\"\n",
        "    counted = count_elements(seq)\n",
        "    for k in sorted(counted):\n",
        "        print('{0:5d} {1}'.format(k, '+' * counted[k]), f\"({counted[k]})\")"
      ],
      "id": "aerial-phone",
      "execution_count": 9,
      "outputs": []
    },
    {
      "cell_type": "code",
      "metadata": {
        "id": "empirical-jacksonville",
        "outputId": "43962c10-ead2-4ce8-98ac-2b1dcb1f71a5",
        "colab": {
          "base_uri": "https://localhost:8080/"
        }
      },
      "source": [
        "ascii_histogram([len(pd[k]) for k in pd.keys()])"
      ],
      "id": "empirical-jacksonville",
      "execution_count": 10,
      "outputs": [
        {
          "output_type": "stream",
          "text": [
            "    1 +++++++++++++++++++++++++++++++++++++++++++++++++++++++++++++++++++++++++++++++++++++++++++++++++++++++++++++++++++++++++++++++++++++++++++++++++++++++++++++++++++++++++++++++++++++++++++++++++++++++++++++++++++++++++++++++++++++++++++++++++++++++++++++++++++++++++++++++++++++++++++++++++++++++++++++++++++++++++++++++++++++++++++++++++++++++++++++++++++++++++++++++++++++++++++++++++++++++++++++++++++++++++++++++++++++++++++++++++++++++++++++++++++++++++++++++++++++++++++++++++++++++++++++++++++++++++++++++++++++++++++++++++++++++++++++++++++++++++ (553)\n",
            "    2 +++++++++++++++++++++++++++++++++++++++++++++++++++++++++++++++++++++++++ (73)\n",
            "    3 +++++++++++++++++++++++++++++++++++++ (37)\n",
            "    4 +++++++++++ (11)\n",
            "    5 ++++++++++ (10)\n",
            "    6 ++++++ (6)\n",
            "    7 ++++ (4)\n",
            "   10 ++ (2)\n",
            "   11 + (1)\n",
            "   21 + (1)\n",
            "   35 + (1)\n",
            "   41 + (1)\n"
          ],
          "name": "stdout"
        }
      ]
    },
    {
      "cell_type": "code",
      "metadata": {
        "id": "laughing-heavy",
        "outputId": "14f3126a-fadd-4380-a5bb-cd1ac665ed9e",
        "colab": {
          "base_uri": "https://localhost:8080/"
        }
      },
      "source": [
        "len([len(pd[k]) for k in pd.keys() if len(pd[k])>1])"
      ],
      "id": "laughing-heavy",
      "execution_count": 11,
      "outputs": [
        {
          "output_type": "execute_result",
          "data": {
            "text/plain": [
              "147"
            ]
          },
          "metadata": {
            "tags": []
          },
          "execution_count": 11
        }
      ]
    },
    {
      "cell_type": "code",
      "metadata": {
        "id": "varied-romance",
        "outputId": "a243e47d-c0af-4ce7-9d6e-a7a72eeeb18a",
        "colab": {
          "base_uri": "https://localhost:8080/"
        }
      },
      "source": [
        "# the previous is kind of ugly, try a different way\n",
        "count_non_hapax_glosses = 0\n",
        "for k in pd:\n",
        "    if len(pd[k]) > 1:\n",
        "        count_non_hapax_glosses += 1\n",
        "print(count_non_hapax_glosses)"
      ],
      "id": "varied-romance",
      "execution_count": 12,
      "outputs": [
        {
          "output_type": "stream",
          "text": [
            "147\n"
          ],
          "name": "stdout"
        }
      ]
    },
    {
      "cell_type": "code",
      "metadata": {
        "id": "deadly-playback",
        "outputId": "85ba8ebe-2368-4f6b-e2f6-5341756551b1",
        "colab": {
          "base_uri": "https://localhost:8080/"
        }
      },
      "source": [
        "count_non_hapax_instances = 0\n",
        "for k in pd:\n",
        "    if len(pd[k]) > 1:\n",
        "        count_non_hapax_instances += len(pd[k])\n",
        "print(count_non_hapax_instances)"
      ],
      "id": "deadly-playback",
      "execution_count": 13,
      "outputs": [
        {
          "output_type": "stream",
          "text": [
            "543\n"
          ],
          "name": "stdout"
        }
      ]
    },
    {
      "cell_type": "markdown",
      "metadata": {
        "id": "colonial-produce"
      },
      "source": [
        "There are a lot of paraphrases with single examples, but a fair amount, 147, that have 2 or more examples for a given gloss, for a total of 543 different questions.\n",
        "\n",
        "For comparison, the Microsoft Research Paraphrase Corpus (MRPC) has the following size\n",
        "Size of training dataset: 3668.\n",
        "Size of evaluation dataset: 408.\n",
        "Maximum sequence length of training and evaluation dataset: 128\n",
        "\n",
        "The format of the BERT input for paraphrase data is class, sentA, sentB.  Assuming that order matters (permutation, not combination), this would be $nPr = \\frac{n!}{(n-r)!}$ or $\\frac{543!}{541!} = 543*542$"
      ],
      "id": "colonial-produce"
    },
    {
      "cell_type": "code",
      "metadata": {
        "id": "informative-salon",
        "outputId": "7df78bd4-7128-44c0-8551-80b472f4f8de",
        "colab": {
          "base_uri": "https://localhost:8080/"
        }
      },
      "source": [
        "543*542"
      ],
      "id": "informative-salon",
      "execution_count": 14,
      "outputs": [
        {
          "output_type": "execute_result",
          "data": {
            "text/plain": [
              "294306"
            ]
          },
          "metadata": {
            "tags": []
          },
          "execution_count": 14
        }
      ]
    },
    {
      "cell_type": "markdown",
      "metadata": {
        "id": "dental-interference"
      },
      "source": [
        "so actually a fair amount more data than MRPC (though I should read their paper to make sure I'm not missing something)\n",
        "\n",
        "This is also assuming we wouldn't include the same sentence as both sentA and sentB (of course then the total would be 543*543)"
      ],
      "id": "dental-interference"
    },
    {
      "cell_type": "code",
      "metadata": {
        "id": "sitting-registration",
        "outputId": "67e2bf87-7ca9-4436-8fd5-1fc16df72af8",
        "colab": {
          "base_uri": "https://localhost:8080/"
        }
      },
      "source": [
        "num_positive_examples = 0\n",
        "for k in pd:\n",
        "    if len(pd[k]) > 1:\n",
        "        num_positive_examples += len(pd[k])*(len(pd[k])-1)\n",
        "print(num_positive_examples)"
      ],
      "id": "sitting-registration",
      "execution_count": 15,
      "outputs": [
        {
          "output_type": "stream",
          "text": [
            "4588\n"
          ],
          "name": "stdout"
        }
      ]
    },
    {
      "cell_type": "markdown",
      "metadata": {
        "id": "offshore-fireplace"
      },
      "source": [
        "so if we try to make it balanced in terms of number of positive and negative examples it might be closer to the size of the MRPC data (if we downsample the negative examples instead of upsampling the positive).\n",
        "\n",
        "Of course, if we include the hapaxes (glosses that were only seen once), then we could have a lot more negative examples\n",
        "\n",
        "In the MRPC data, the breakdown of positive (paraphrase) to negative (not paraphrase) is 2474 to 1194, i.e. twice as many positive examples as negative or 2/3rds positive."
      ],
      "id": "offshore-fireplace"
    },
    {
      "cell_type": "code",
      "metadata": {
        "id": "personal-operation",
        "outputId": "cf9f694b-d416-40b9-860f-efb446c6509e",
        "colab": {
          "base_uri": "https://localhost:8080/"
        }
      },
      "source": [
        "2474/(3668-2474)"
      ],
      "id": "personal-operation",
      "execution_count": 16,
      "outputs": [
        {
          "output_type": "execute_result",
          "data": {
            "text/plain": [
              "2.0720268006700167"
            ]
          },
          "metadata": {
            "tags": []
          },
          "execution_count": 16
        }
      ]
    },
    {
      "cell_type": "code",
      "metadata": {
        "id": "latter-alfred",
        "outputId": "ec506ca3-1449-4cff-ac9c-6ba4f65d7925",
        "colab": {
          "base_uri": "https://localhost:8080/"
        }
      },
      "source": [
        "2474/3668"
      ],
      "id": "latter-alfred",
      "execution_count": 17,
      "outputs": [
        {
          "output_type": "execute_result",
          "data": {
            "text/plain": [
              "0.6744820065430752"
            ]
          },
          "metadata": {
            "tags": []
          },
          "execution_count": 17
        }
      ]
    },
    {
      "cell_type": "markdown",
      "metadata": {
        "id": "broke-superintendent"
      },
      "source": [
        "# create train/dev/test sets"
      ],
      "id": "broke-superintendent"
    },
    {
      "cell_type": "markdown",
      "metadata": {
        "id": "saving-lighting"
      },
      "source": [
        "Okay then, let's create our train/dev/test data...\n",
        "\n",
        "I think for publication, I should do something like holding out some of the glosses (doing the train/dev/test partition at the gloss level), however I feel like doing something easy to start."
      ],
      "id": "saving-lighting"
    },
    {
      "cell_type": "code",
      "metadata": {
        "id": "boxed-shelf",
        "outputId": "bdfc1cf6-0cbb-4ce4-c5a2-de06d4bff7b2",
        "colab": {
          "base_uri": "https://localhost:8080/"
        }
      },
      "source": [
        "positive_examples = []\n",
        "negative_examples = []\n",
        "for k in pd:\n",
        "    if len(pd[k]) > 1:\n",
        "        for s1 in pd[k]:\n",
        "            for s2 in pd[k]:\n",
        "                if s1 != s2:\n",
        "                    positive_examples.append((s1, s2))\n",
        "                    \n",
        "print(len(positive_examples))\n",
        "\n",
        "for k1 in pd:\n",
        "    for k2 in pd:\n",
        "        if k1 != k2: # not paraphrases, i.e. they don't have the same gloss k1/k2\n",
        "            if len(pd[k1]) > 1 and len(pd[k2]) > 1: # remove this to keep the hapax glosses\n",
        "                for s1 in pd[k1]:\n",
        "                    for s2 in pd[k2]:\n",
        "                        negative_examples.append((s1, s2))\n",
        "\n",
        "print(len(negative_examples))\n",
        "print(len(positive_examples) + len(negative_examples))"
      ],
      "id": "boxed-shelf",
      "execution_count": 18,
      "outputs": [
        {
          "output_type": "stream",
          "text": [
            "4588\n",
            "289718\n",
            "294306\n"
          ],
          "name": "stdout"
        }
      ]
    },
    {
      "cell_type": "markdown",
      "metadata": {
        "id": "incredible-newton"
      },
      "source": [
        "good, the numbers match up to what we calculated earlier."
      ],
      "id": "incredible-newton"
    },
    {
      "cell_type": "code",
      "metadata": {
        "id": "imposed-playlist"
      },
      "source": [
        "import numpy as np\n",
        "import tensorflow as tf"
      ],
      "id": "imposed-playlist",
      "execution_count": 19,
      "outputs": []
    },
    {
      "cell_type": "code",
      "metadata": {
        "id": "offensive-advertising",
        "outputId": "88bf03d4-0be0-4560-8669-4c600e8511cd",
        "colab": {
          "base_uri": "https://localhost:8080/"
        }
      },
      "source": [
        "data = positive_examples + negative_examples\n",
        "sentA, sentB = zip(*data)\n",
        "idx = np.array(range(0,len(data)))\n",
        "labels = np.concatenate([np.ones(len(positive_examples)), np.zeros(len(negative_examples))])\n",
        "\n",
        "# shuffle index\n",
        "np.random.seed(0)\n",
        "np.random.shuffle(idx)\n",
        "\n",
        "# convert to tensorflow and shuffle other data\n",
        "#print(tf.data.Dataset.from_tensor_slices(labels))\n",
        "idx = tf.constant(idx)\n",
        "print(idx)\n",
        "\n",
        "labels = tf.constant(labels)\n",
        "labels = tf.gather(labels, idx)\n",
        "print(labels)\n",
        "\n",
        "sentA = tf.constant(sentA)\n",
        "sentA = tf.gather(sentA, idx)\n",
        "print(sentA)\n",
        "\n",
        "sentB = tf.constant(sentB)\n",
        "sentB = tf.gather(sentB, idx)\n",
        "print(sentB)\n",
        "\n",
        "# sanity check: recover the positive examples\n",
        "positive_idx = np.where(labels==1)\n",
        "print(\"the next couple examples should match up as paraphrases\")\n",
        "print(tf.gather(sentA, positive_idx))\n",
        "print(tf.gather(sentB, positive_idx))"
      ],
      "id": "offensive-advertising",
      "execution_count": 20,
      "outputs": [
        {
          "output_type": "stream",
          "text": [
            "tf.Tensor([ 46758  98930  19086 ... 122579 152315 117952], shape=(294306,), dtype=int64)\n",
            "tf.Tensor([0. 0. 0. ... 0. 0. 0.], shape=(294306,), dtype=float64)\n",
            "tf.Tensor(\n",
            "[b'is it kinda like anger?' b\"so it's similar to excited?\"\n",
            " b'is it positive emotino?' ... b'is it calm?' b'is it worrying?'\n",
            " b'serene?'], shape=(294306,), dtype=string)\n",
            "tf.Tensor(\n",
            "[b'13) So is it closer to surprise?' b'does it vary in intensity?'\n",
            " b'9 is it close to being disappointed' ...\n",
            " b\"it's a generally bad feeling, righT?\"\n",
            " b'is it usually caused by something in particular (as opposed to being spontaneously popping up)?'\n",
            " b'is it affection?'], shape=(294306,), dtype=string)\n",
            "the next couple examples should match up as paraphrases\n",
            "tf.Tensor(\n",
            "[[b'is it positive\\n?' b'would you feel this in a helpless situation?'\n",
            "  b'positive?' ... b'is it very intense?'\n",
            "  b\"is it an emotion that's directed at another person?\"\n",
            "  b'would you feel it if you had a user13 the next day?']], shape=(1, 4588), dtype=string)\n",
            "tf.Tensor(\n",
            "[[b\"ok is it a positive emotion'?\"\n",
            "  b'do people feel that when they are helpless'\n",
            "  b'Is it a positive emotion?' ... b'6: is it a strong emotion?'\n",
            "  b'is it towards some other person'\n",
            "  b'would you feel it if you had an exam the next day?']], shape=(1, 4588), dtype=string)\n"
          ],
          "name": "stdout"
        }
      ]
    },
    {
      "cell_type": "markdown",
      "metadata": {
        "id": "negative-maker"
      },
      "source": [
        "now to partition the data.  I'm going to use the format [here](https://github.com/tensorflow/models/blob/master/official/colab/fine_tuning_bert.ipynb).  \n",
        "\n",
        "Out of N=294306, I'll set $N_{train}=200000$ , $N_{validation}=14306$, and $N_{test}=80000$"
      ],
      "id": "negative-maker"
    },
    {
      "cell_type": "code",
      "metadata": {
        "id": "waiting-cleaner"
      },
      "source": [
        "emo20q_paraphrase = {}\n",
        "\n",
        "emo20q_paraphrase['train'] = {'sentence1': tf.slice(sentA, [0], [200000]),\n",
        "                              'sentence2': tf.slice(sentB, [0], [200000]),\n",
        "                              'idx': tf.slice(idx, [0], [200000]),\n",
        "                              'label': tf.slice(labels, [0], [200000])}\n",
        "\n",
        "emo20q_paraphrase['validation'] = {'sentence1': tf.slice(sentA, [200000], [14306]),\n",
        "                                   'sentence2': tf.slice(sentB, [200000], [14306]),\n",
        "                                   'idx': tf.slice(idx, [200000], [14306]),\n",
        "                                   'label': tf.slice(labels, [200000], [14306])}\n",
        "\n",
        "emo20q_paraphrase['test'] = {'sentence1': tf.slice(sentA, [214306], [80000]),\n",
        "                             'sentence2': tf.slice(sentB, [214306], [80000]),\n",
        "                             'idx': tf.slice(idx, [214306], [80000]),\n",
        "                             'label': tf.slice(labels, [214306], [80000])}"
      ],
      "id": "waiting-cleaner",
      "execution_count": 21,
      "outputs": []
    },
    {
      "cell_type": "markdown",
      "metadata": {
        "id": "portuguese-philosophy"
      },
      "source": [
        "# Get Bert Model "
      ],
      "id": "portuguese-philosophy"
    },
    {
      "cell_type": "markdown",
      "metadata": {
        "id": "acquired-fundamental"
      },
      "source": [
        "again, this is based on https://github.com/tensorflow/models/blob/master/official/colab/fine_tuning_bert.ipynb\n"
      ],
      "id": "acquired-fundamental"
    },
    {
      "cell_type": "code",
      "metadata": {
        "id": "first-trail"
      },
      "source": [
        "# get stable models garden\n",
        "!pip install -q tf-models-official==2.4.0"
      ],
      "id": "first-trail",
      "execution_count": 22,
      "outputs": []
    },
    {
      "cell_type": "code",
      "metadata": {
        "id": "hundred-bernard"
      },
      "source": [
        "import os\n",
        "\n",
        "import numpy as np\n",
        "import matplotlib.pyplot as plt\n",
        "\n",
        "import tensorflow as tf\n",
        "\n",
        "import tensorflow_hub as hub\n",
        "import tensorflow_datasets as tfds\n",
        "tfds.disable_progress_bar()\n",
        "\n",
        "from official.modeling import tf_utils\n",
        "from official import nlp\n",
        "from official.nlp import bert\n",
        "\n",
        "# Load the required submodules\n",
        "import official.nlp.optimization\n",
        "import official.nlp.bert.bert_models\n",
        "import official.nlp.bert.configs\n",
        "import official.nlp.bert.run_classifier\n",
        "import official.nlp.bert.tokenization\n",
        "import official.nlp.data.classifier_data_lib\n",
        "import official.nlp.modeling.losses\n",
        "import official.nlp.modeling.models\n",
        "import official.nlp.modeling.networks\n"
      ],
      "id": "hundred-bernard",
      "execution_count": 23,
      "outputs": []
    },
    {
      "cell_type": "code",
      "metadata": {
        "id": "pleased-rocket",
        "outputId": "ae21b696-66ae-4324-d0c9-3c17bdcc93bf",
        "colab": {
          "base_uri": "https://localhost:8080/"
        }
      },
      "source": [
        "gs_folder_bert = \"gs://cloud-tpu-checkpoints/bert/v3/uncased_L-12_H-768_A-12\"\n",
        "tf.io.gfile.listdir(gs_folder_bert)"
      ],
      "id": "pleased-rocket",
      "execution_count": 24,
      "outputs": [
        {
          "output_type": "execute_result",
          "data": {
            "text/plain": [
              "['bert_config.json',\n",
              " 'bert_model.ckpt.data-00000-of-00001',\n",
              " 'bert_model.ckpt.index',\n",
              " 'vocab.txt']"
            ]
          },
          "metadata": {
            "tags": []
          },
          "execution_count": 24
        }
      ]
    },
    {
      "cell_type": "code",
      "metadata": {
        "id": "hazardous-credit",
        "outputId": "88549ae1-fd9c-4b15-d16f-c5ef2c456f29",
        "colab": {
          "base_uri": "https://localhost:8080/"
        }
      },
      "source": [
        "# Set up tokenizer to generate Tensorflow dataset\n",
        "tokenizer = bert.tokenization.FullTokenizer(\n",
        "    vocab_file=os.path.join(gs_folder_bert, \"vocab.txt\"),\n",
        "     do_lower_case=True)\n",
        "\n",
        "print(\"Vocab size:\", len(tokenizer.vocab))"
      ],
      "id": "hazardous-credit",
      "execution_count": 25,
      "outputs": [
        {
          "output_type": "stream",
          "text": [
            "Vocab size: 30522\n"
          ],
          "name": "stdout"
        }
      ]
    },
    {
      "cell_type": "code",
      "metadata": {
        "id": "collect-charter",
        "outputId": "a7a112d0-3bd4-4e02-ee0c-f54ba51fec73",
        "colab": {
          "base_uri": "https://localhost:8080/"
        }
      },
      "source": [
        "# more copy pasta\n",
        "tokens = tokenizer.tokenize(\"Hello TensorFlow!\")\n",
        "print(tokens)\n",
        "ids = tokenizer.convert_tokens_to_ids(tokens)\n",
        "print(ids)\n",
        "tokens = tokenizer.tokenize(\"subset(e,nightmare)\")\n",
        "print(tokens)\n",
        "ids = tokenizer.convert_tokens_to_ids(tokens)\n",
        "print(ids)\n"
      ],
      "id": "collect-charter",
      "execution_count": 26,
      "outputs": [
        {
          "output_type": "stream",
          "text": [
            "['hello', 'tensor', '##flow', '!']\n",
            "[7592, 23435, 12314, 999]\n",
            "['subset', '(', 'e', ',', 'nightmare', ')']\n",
            "[16745, 1006, 1041, 1010, 10103, 1007]\n"
          ],
          "name": "stdout"
        }
      ]
    },
    {
      "cell_type": "code",
      "metadata": {
        "id": "dutch-instruction",
        "outputId": "aab044da-8eb0-439d-ddd2-17425e03207f",
        "colab": {
          "base_uri": "https://localhost:8080/"
        }
      },
      "source": [
        "tokenizer.convert_tokens_to_ids(['[CLS]', '[SEP]'])"
      ],
      "id": "dutch-instruction",
      "execution_count": 27,
      "outputs": [
        {
          "output_type": "execute_result",
          "data": {
            "text/plain": [
              "[101, 102]"
            ]
          },
          "metadata": {
            "tags": []
          },
          "execution_count": 27
        }
      ]
    },
    {
      "cell_type": "code",
      "metadata": {
        "id": "appreciated-cowboy"
      },
      "source": [
        "# this is kind of slow (1-2 min on colab)n\n",
        "def encode_sentence(s):\n",
        "   tokens = list(tokenizer.tokenize(s.numpy()))\n",
        "   tokens.append('[SEP]')\n",
        "   return tokenizer.convert_tokens_to_ids(tokens)\n",
        "\n",
        "sentence1 = tf.ragged.constant([\n",
        "    encode_sentence(s) for s in emo20q_paraphrase['train'][\"sentence1\"]])\n",
        "sentence2 = tf.ragged.constant([\n",
        "    encode_sentence(s) for s in emo20q_paraphrase['train'][\"sentence2\"]])"
      ],
      "id": "appreciated-cowboy",
      "execution_count": 28,
      "outputs": []
    },
    {
      "cell_type": "code",
      "metadata": {
        "id": "cheap-essence",
        "outputId": "baeaa8f4-ca6a-4c87-fb0d-e7253d50c4c1",
        "colab": {
          "base_uri": "https://localhost:8080/"
        }
      },
      "source": [
        "print(\"Sentence1 shape:\", sentence1.shape.as_list())\n",
        "print(\"Sentence2 shape:\", sentence2.shape.as_list())"
      ],
      "id": "cheap-essence",
      "execution_count": 29,
      "outputs": [
        {
          "output_type": "stream",
          "text": [
            "Sentence1 shape: [200000, None]\n",
            "Sentence2 shape: [200000, None]\n"
          ],
          "name": "stdout"
        }
      ]
    },
    {
      "cell_type": "code",
      "metadata": {
        "id": "illegal-passion",
        "outputId": "4c98145e-c655-4c34-cb44-e47189b03a1b",
        "colab": {
          "base_uri": "https://localhost:8080/",
          "height": 269
        }
      },
      "source": [
        "#!pip uninstall matplotlib\n",
        "#!pip install matplotlib==3.4.1\n",
        "cls = [tokenizer.convert_tokens_to_ids(['[CLS]'])]*sentence1.shape[0]\n",
        "input_word_ids = tf.concat([cls, sentence1, sentence2], axis=-1)\n",
        "_ = plt.pcolormesh(input_word_ids.to_tensor())"
      ],
      "id": "illegal-passion",
      "execution_count": 30,
      "outputs": [
        {
          "output_type": "display_data",
          "data": {
            "image/png": "[encoded data removed]",
            "text/plain": [
              "<Figure size 432x288 with 1 Axes>"
            ]
          },
          "metadata": {
            "tags": [],
            "needs_background": "light"
          }
        }
      ]
    },
    {
      "cell_type": "markdown",
      "metadata": {
        "id": "outdoor-mining"
      },
      "source": [
        "# imput mask and input type"
      ],
      "id": "outdoor-mining"
    },
    {
      "cell_type": "markdown",
      "metadata": {
        "id": "conservative-kidney"
      },
      "source": [
        "the next part is to distinguish the content and the padding"
      ],
      "id": "conservative-kidney"
    },
    {
      "cell_type": "code",
      "metadata": {
        "id": "young-destination",
        "outputId": "b65aa781-015f-4686-f0bc-c0a71150b813",
        "colab": {
          "base_uri": "https://localhost:8080/",
          "height": 286
        }
      },
      "source": [
        "input_mask = tf.ones_like(input_word_ids).to_tensor()\n",
        "\n",
        "plt.pcolormesh(input_mask)"
      ],
      "id": "young-destination",
      "execution_count": 31,
      "outputs": [
        {
          "output_type": "execute_result",
          "data": {
            "text/plain": [
              "<matplotlib.collections.QuadMesh at 0x7f2fdc62c090>"
            ]
          },
          "metadata": {
            "tags": []
          },
          "execution_count": 31
        },
        {
          "output_type": "display_data",
          "data": {
            "image/png": "[encoded data removed]",
            "text/plain": [
              "<Figure size 432x288 with 1 Axes>"
            ]
          },
          "metadata": {
            "tags": [],
            "needs_background": "light"
          }
        }
      ]
    },
    {
      "cell_type": "markdown",
      "metadata": {
        "id": "intellectual-plain"
      },
      "source": [
        "the next part distinguishes sentence 1 and 2"
      ],
      "id": "intellectual-plain"
    },
    {
      "cell_type": "code",
      "metadata": {
        "id": "directed-vanilla",
        "outputId": "38fe6a8e-6169-4494-9c39-006d69570e8e",
        "colab": {
          "base_uri": "https://localhost:8080/",
          "height": 286
        }
      },
      "source": [
        "type_cls = tf.zeros_like(cls)\n",
        "type_s1 = tf.zeros_like(sentence1)\n",
        "type_s2 = tf.ones_like(sentence2)\n",
        "input_type_ids = tf.concat([type_cls, type_s1, type_s2], axis=-1).to_tensor()\n",
        "\n",
        "plt.pcolormesh(input_type_ids)"
      ],
      "id": "directed-vanilla",
      "execution_count": 32,
      "outputs": [
        {
          "output_type": "execute_result",
          "data": {
            "text/plain": [
              "<matplotlib.collections.QuadMesh at 0x7f2fdcee33d0>"
            ]
          },
          "metadata": {
            "tags": []
          },
          "execution_count": 32
        },
        {
          "output_type": "display_data",
          "data": {
            "image/png": "[encoded data removed]",
            "text/plain": [
              "<Figure size 432x288 with 1 Axes>"
            ]
          },
          "metadata": {
            "tags": [],
            "needs_background": "light"
          }
        }
      ]
    },
    {
      "cell_type": "code",
      "metadata": {
        "id": "biological-audit"
      },
      "source": [
        "def encode_sentence(s, tokenizer):\n",
        "   tokens = list(tokenizer.tokenize(s))\n",
        "   tokens.append('[SEP]')\n",
        "   return tokenizer.convert_tokens_to_ids(tokens)\n",
        "\n",
        "def bert_encode(glue_dict, tokenizer):\n",
        "  num_examples = len(glue_dict[\"sentence1\"])\n",
        "  \n",
        "  sentence1 = tf.ragged.constant([\n",
        "      encode_sentence(s, tokenizer)\n",
        "      for s in np.array(glue_dict[\"sentence1\"])])\n",
        "  sentence2 = tf.ragged.constant([\n",
        "      encode_sentence(s, tokenizer)\n",
        "       for s in np.array(glue_dict[\"sentence2\"])])\n",
        "\n",
        "  cls = [tokenizer.convert_tokens_to_ids(['[CLS]'])]*sentence1.shape[0]\n",
        "  input_word_ids = tf.concat([cls, sentence1, sentence2], axis=-1)\n",
        "\n",
        "  input_mask = tf.ones_like(input_word_ids).to_tensor()\n",
        "\n",
        "  type_cls = tf.zeros_like(cls)\n",
        "  type_s1 = tf.zeros_like(sentence1)\n",
        "  type_s2 = tf.ones_like(sentence2)\n",
        "  input_type_ids = tf.concat(\n",
        "      [type_cls, type_s1, type_s2], axis=-1).to_tensor()\n",
        "\n",
        "  inputs = {\n",
        "      'input_word_ids': input_word_ids.to_tensor(),\n",
        "      'input_mask': input_mask,\n",
        "      'input_type_ids': input_type_ids}\n",
        "\n",
        "  return inputs"
      ],
      "id": "biological-audit",
      "execution_count": 33,
      "outputs": []
    },
    {
      "cell_type": "code",
      "metadata": {
        "id": "visible-blink"
      },
      "source": [
        "# I'm keeping the \"glue\" so that the parts of the example code still sticks together\n",
        "glue_train = bert_encode(emo20q_paraphrase['train'], tokenizer)\n",
        "glue_train_labels = emo20q_paraphrase['train']['label']\n",
        "\n",
        "glue_validation = bert_encode(emo20q_paraphrase['validation'], tokenizer)\n",
        "glue_validation_labels = emo20q_paraphrase['validation']['label']\n",
        "\n",
        "glue_test = bert_encode(emo20q_paraphrase['test'], tokenizer)\n",
        "glue_test_labels  = emo20q_paraphrase['test']['label']"
      ],
      "id": "visible-blink",
      "execution_count": 34,
      "outputs": []
    },
    {
      "cell_type": "code",
      "metadata": {
        "id": "younger-humanitarian",
        "outputId": "05cec5bc-f6c3-4a9c-d990-2b299e02ba3d",
        "colab": {
          "base_uri": "https://localhost:8080/"
        }
      },
      "source": [
        "for key, value in glue_train.items():\n",
        "  print(f'{key:15s} shape: {value.shape}')\n",
        "\n",
        "print(f'glue_train_labels shape: {glue_train_labels.shape}')"
      ],
      "id": "younger-humanitarian",
      "execution_count": 35,
      "outputs": [
        {
          "output_type": "stream",
          "text": [
            "input_word_ids  shape: (200000, 53)\n",
            "input_mask      shape: (200000, 53)\n",
            "input_type_ids  shape: (200000, 53)\n",
            "glue_train_labels shape: (200000,)\n"
          ],
          "name": "stdout"
        }
      ]
    },
    {
      "cell_type": "code",
      "metadata": {
        "id": "original-paintball",
        "outputId": "1f48b858-b23c-4f35-a507-2fcf980baff4",
        "colab": {
          "base_uri": "https://localhost:8080/"
        }
      },
      "source": [
        "import json\n",
        "\n",
        "bert_config_file = os.path.join(gs_folder_bert, \"bert_config.json\")\n",
        "config_dict = json.loads(tf.io.gfile.GFile(bert_config_file).read())\n",
        "\n",
        "bert_config = bert.configs.BertConfig.from_dict(config_dict)\n",
        "\n",
        "config_dict"
      ],
      "id": "original-paintball",
      "execution_count": 36,
      "outputs": [
        {
          "output_type": "execute_result",
          "data": {
            "text/plain": [
              "{'attention_probs_dropout_prob': 0.1,\n",
              " 'hidden_act': 'gelu',\n",
              " 'hidden_dropout_prob': 0.1,\n",
              " 'hidden_size': 768,\n",
              " 'initializer_range': 0.02,\n",
              " 'intermediate_size': 3072,\n",
              " 'max_position_embeddings': 512,\n",
              " 'num_attention_heads': 12,\n",
              " 'num_hidden_layers': 12,\n",
              " 'type_vocab_size': 2,\n",
              " 'vocab_size': 30522}"
            ]
          },
          "metadata": {
            "tags": []
          },
          "execution_count": 36
        }
      ]
    },
    {
      "cell_type": "code",
      "metadata": {
        "id": "banner-berkeley"
      },
      "source": [
        "bert_classifier, bert_encoder = bert.bert_models.classifier_model(\n",
        "    bert_config, num_labels=2)"
      ],
      "id": "banner-berkeley",
      "execution_count": 37,
      "outputs": []
    },
    {
      "cell_type": "code",
      "metadata": {
        "id": "encouraging-toilet"
      },
      "source": [
        "# this might not be required (covered in requirements.bert.txt)\n",
        "#!pip install pydot\n",
        "#!pip install pydotplus\n",
        "#!pip install graphviz"
      ],
      "id": "encouraging-toilet",
      "execution_count": 38,
      "outputs": []
    },
    {
      "cell_type": "code",
      "metadata": {
        "id": "private-musical",
        "outputId": "94bd4455-c3f4-4360-98e4-97d38249cd86",
        "colab": {
          "base_uri": "https://localhost:8080/",
          "height": 220
        }
      },
      "source": [
        "# this wasn't working for my on my laptop, googling says to restart kernel but I don't want to restart everything\n",
        "tf.keras.utils.plot_model(bert_classifier, show_shapes=True, dpi=48)"
      ],
      "id": "private-musical",
      "execution_count": 39,
      "outputs": [
        {
          "output_type": "execute_result",
          "data": {
            "image/png": "[encoded data removed]",
            "text/plain": [
              "<IPython.core.display.Image object>"
            ]
          },
          "metadata": {
            "tags": []
          },
          "execution_count": 39
        }
      ]
    },
    {
      "cell_type": "code",
      "metadata": {
        "id": "further-marsh",
        "outputId": "861d04f4-8eb2-4066-92d7-758741a9b91b",
        "colab": {
          "base_uri": "https://localhost:8080/"
        }
      },
      "source": [
        "glue_batch = {key: val[:10] for key, val in glue_train.items()}\n",
        "\n",
        "bert_classifier(\n",
        "    glue_batch, training=True\n",
        ").numpy()\n"
      ],
      "id": "further-marsh",
      "execution_count": 40,
      "outputs": [
        {
          "output_type": "execute_result",
          "data": {
            "text/plain": [
              "array([[ 0.20158236,  0.0840895 ],\n",
              "       [ 0.03714512,  0.19207664],\n",
              "       [-0.06891021,  0.31796962],\n",
              "       [-0.08247668,  0.11009121],\n",
              "       [-0.09342333,  0.29415575],\n",
              "       [ 0.08661066,  0.39027733],\n",
              "       [ 0.06088471,  0.12399692],\n",
              "       [ 0.15231676,  0.15114376],\n",
              "       [-0.30246446,  0.04744129],\n",
              "       [-0.15540808,  0.14569426]], dtype=float32)"
            ]
          },
          "metadata": {
            "tags": []
          },
          "execution_count": 40
        }
      ]
    },
    {
      "cell_type": "code",
      "metadata": {
        "id": "ideal-healthcare",
        "outputId": "d3dd8a5e-c891-467b-84cf-a9b3e08c7c86",
        "colab": {
          "base_uri": "https://localhost:8080/",
          "height": 1000
        }
      },
      "source": [
        "tf.keras.utils.plot_model(bert_encoder, show_shapes=True, dpi=48)"
      ],
      "id": "ideal-healthcare",
      "execution_count": 41,
      "outputs": [
        {
          "output_type": "execute_result",
          "data": {
            "image/png": "[encoded data removed]",
            "text/plain": [
              "<IPython.core.display.Image object>"
            ]
          },
          "metadata": {
            "tags": []
          },
          "execution_count": 41
        }
      ]
    },
    {
      "cell_type": "markdown",
      "metadata": {
        "id": "obvious-jefferson"
      },
      "source": [
        "restore encoder weights"
      ],
      "id": "obvious-jefferson"
    },
    {
      "cell_type": "code",
      "metadata": {
        "id": "vulnerable-defendant",
        "outputId": "ea67ff2e-60ee-4cc8-d683-71d4b2b87377",
        "colab": {
          "base_uri": "https://localhost:8080/"
        }
      },
      "source": [
        "checkpoint = tf.train.Checkpoint(encoder=bert_encoder)\n",
        "checkpoint.read(\n",
        "    os.path.join(gs_folder_bert, 'bert_model.ckpt')).assert_consumed()"
      ],
      "id": "vulnerable-defendant",
      "execution_count": 42,
      "outputs": [
        {
          "output_type": "execute_result",
          "data": {
            "text/plain": [
              "<tensorflow.python.training.tracking.util.CheckpointLoadStatus at 0x7f3047255b90>"
            ]
          },
          "metadata": {
            "tags": []
          },
          "execution_count": 42
        }
      ]
    },
    {
      "cell_type": "markdown",
      "metadata": {
        "id": "national-hungary"
      },
      "source": [
        "setup optimizer"
      ],
      "id": "national-hungary"
    },
    {
      "cell_type": "code",
      "metadata": {
        "id": "proprietary-entertainment"
      },
      "source": [
        "# Set up epochs and steps\n",
        "epochs = 3\n",
        "batch_size = 32\n",
        "eval_batch_size = 32\n",
        "\n",
        "train_data_size = len(glue_train_labels)\n",
        "steps_per_epoch = int(train_data_size / batch_size)\n",
        "num_train_steps = steps_per_epoch * epochs\n",
        "warmup_steps = int(epochs * train_data_size * 0.1 / batch_size)\n",
        "\n",
        "# creates an optimizer with learning rate schedule\n",
        "optimizer = nlp.optimization.create_optimizer(\n",
        "    2e-5, num_train_steps=num_train_steps, num_warmup_steps=warmup_steps)"
      ],
      "id": "proprietary-entertainment",
      "execution_count": 43,
      "outputs": []
    },
    {
      "cell_type": "code",
      "metadata": {
        "id": "confident-controversy",
        "outputId": "ea682094-3edd-4ae9-9100-abfef28bb178",
        "colab": {
          "base_uri": "https://localhost:8080/"
        }
      },
      "source": [
        "type(optimizer)"
      ],
      "id": "confident-controversy",
      "execution_count": 44,
      "outputs": [
        {
          "output_type": "execute_result",
          "data": {
            "text/plain": [
              "official.nlp.optimization.AdamWeightDecay"
            ]
          },
          "metadata": {
            "tags": []
          },
          "execution_count": 44
        }
      ]
    },
    {
      "cell_type": "markdown",
      "metadata": {
        "id": "stopped-scroll"
      },
      "source": [
        "train the model"
      ],
      "id": "stopped-scroll"
    },
    {
      "cell_type": "code",
      "metadata": {
        "id": "major-identification",
        "outputId": "c4038e4a-6574-446c-c8bb-ded1fb2f67e3",
        "colab": {
          "base_uri": "https://localhost:8080/"
        }
      },
      "source": [
        "metrics = [tf.keras.metrics.SparseCategoricalAccuracy('accuracy', dtype=tf.float32)]\n",
        "loss = tf.keras.losses.SparseCategoricalCrossentropy(from_logits=True)\n",
        "\n",
        "bert_classifier.compile(\n",
        "    optimizer=optimizer,\n",
        "    loss=loss,\n",
        "    metrics=metrics)\n",
        "\n",
        "bert_classifier.fit(\n",
        "      glue_train, glue_train_labels,\n",
        "      validation_data=(glue_validation, glue_validation_labels),\n",
        "      batch_size=32,\n",
        "      epochs=epochs)"
      ],
      "id": "major-identification",
      "execution_count": 45,
      "outputs": [
        {
          "output_type": "stream",
          "text": [
            "Epoch 1/3\n",
            "6250/6250 [==============================] - 2265s 361ms/step - loss: 0.0759 - accuracy: 0.9890 - val_loss: 0.0094 - val_accuracy: 0.9984\n",
            "Epoch 2/3\n",
            "6250/6250 [==============================] - 2256s 361ms/step - loss: 0.0029 - accuracy: 0.9994 - val_loss: 0.0024 - val_accuracy: 0.9997\n",
            "Epoch 3/3\n",
            "6250/6250 [==============================] - 2254s 361ms/step - loss: 9.9314e-04 - accuracy: 0.9997 - val_loss: 0.0017 - val_accuracy: 0.9998\n"
          ],
          "name": "stdout"
        },
        {
          "output_type": "execute_result",
          "data": {
            "text/plain": [
              "<tensorflow.python.keras.callbacks.History at 0x7f2fdceaf0d0>"
            ]
          },
          "metadata": {
            "tags": []
          },
          "execution_count": 45
        }
      ]
    },
    {
      "cell_type": "markdown",
      "metadata": {
        "id": "under-roots"
      },
      "source": [
        "now try the fine-tuned model on example sentences"
      ],
      "id": "under-roots"
    },
    {
      "cell_type": "code",
      "metadata": {
        "id": "brave-tomato"
      },
      "source": [
        "my_examples = bert_encode(\n",
        "    glue_dict = {\n",
        "        'sentence1':[\n",
        "            'The rain in Spain falls mainly on the plain.',\n",
        "            'Look I fine tuned BERT.'],\n",
        "        'sentence2':[\n",
        "            'It mostly rains on the flat lands of Spain.',\n",
        "            'Is it working? This does not match.']\n",
        "    },\n",
        "    tokenizer=tokenizer)"
      ],
      "id": "brave-tomato",
      "execution_count": 46,
      "outputs": []
    },
    {
      "cell_type": "markdown",
      "metadata": {
        "id": "offensive-premium"
      },
      "source": [
        "the model should report 1 for match and 0 for not"
      ],
      "id": "offensive-premium"
    },
    {
      "cell_type": "code",
      "metadata": {
        "id": "south-crown",
        "outputId": "aa28dc1f-5127-4f0f-9b30-273117b94cc1",
        "colab": {
          "base_uri": "https://localhost:8080/"
        }
      },
      "source": [
        "result = bert_classifier(my_examples, training=False)\n",
        "\n",
        "result = tf.argmax(result).numpy()\n",
        "result"
      ],
      "id": "south-crown",
      "execution_count": 47,
      "outputs": [
        {
          "output_type": "execute_result",
          "data": {
            "text/plain": [
              "array([1, 0])"
            ]
          },
          "metadata": {
            "tags": []
          },
          "execution_count": 47
        }
      ]
    },
    {
      "cell_type": "code",
      "metadata": {
        "id": "amateur-journalist",
        "outputId": "ea72c673-31b7-4405-aefa-9ef34ec3037e",
        "colab": {
          "base_uri": "https://localhost:8080/",
          "height": 164
        }
      },
      "source": [
        "np.array(info.features['label'].names)[result]"
      ],
      "id": "amateur-journalist",
      "execution_count": 48,
      "outputs": [
        {
          "output_type": "error",
          "ename": "NameError",
          "evalue": "ignored",
          "traceback": [
            "\u001b[0;31m---------------------------------------------------------------------------\u001b[0m",
            "\u001b[0;31mNameError\u001b[0m                                 Traceback (most recent call last)",
            "\u001b[0;32m<ipython-input-48-c152a1b15df4>\u001b[0m in \u001b[0;36m<module>\u001b[0;34m()\u001b[0m\n\u001b[0;32m----> 1\u001b[0;31m \u001b[0mnp\u001b[0m\u001b[0;34m.\u001b[0m\u001b[0marray\u001b[0m\u001b[0;34m(\u001b[0m\u001b[0minfo\u001b[0m\u001b[0;34m.\u001b[0m\u001b[0mfeatures\u001b[0m\u001b[0;34m[\u001b[0m\u001b[0;34m'label'\u001b[0m\u001b[0;34m]\u001b[0m\u001b[0;34m.\u001b[0m\u001b[0mnames\u001b[0m\u001b[0;34m)\u001b[0m\u001b[0;34m[\u001b[0m\u001b[0mresult\u001b[0m\u001b[0;34m]\u001b[0m\u001b[0;34m\u001b[0m\u001b[0;34m\u001b[0m\u001b[0m\n\u001b[0m",
            "\u001b[0;31mNameError\u001b[0m: name 'info' is not defined"
          ]
        }
      ]
    },
    {
      "cell_type": "markdown",
      "metadata": {
        "id": "endangered-variation"
      },
      "source": [
        "# save the model"
      ],
      "id": "endangered-variation"
    },
    {
      "cell_type": "code",
      "metadata": {
        "id": "competent-bobby"
      },
      "source": [
        "export_dir='./saved_model'\n",
        "tf.saved_model.save(bert_classifier, export_dir=export_dir)"
      ],
      "id": "competent-bobby",
      "execution_count": null,
      "outputs": []
    },
    {
      "cell_type": "markdown",
      "metadata": {
        "id": "romance-palestinian"
      },
      "source": [
        "check to make sure that the saved model has the same results"
      ],
      "id": "romance-palestinian"
    },
    {
      "cell_type": "code",
      "metadata": {
        "id": "moving-bidding"
      },
      "source": [
        "reloaded = tf.saved_model.load(export_dir)\n",
        "reloaded_result = reloaded([my_examples['input_word_ids'],\n",
        "                            my_examples['input_mask'],\n",
        "                            my_examples['input_type_ids']], training=False)\n",
        "\n",
        "original_result = bert_classifier(my_examples, training=False)\n",
        "\n",
        "# The results are (nearly) identical:\n",
        "print(original_result.numpy())\n",
        "print()\n",
        "print(reloaded_result.numpy())"
      ],
      "id": "moving-bidding",
      "execution_count": null,
      "outputs": []
    },
    {
      "cell_type": "markdown",
      "metadata": {
        "id": "capable-situation"
      },
      "source": [
        "# appendix"
      ],
      "id": "capable-situation"
    },
    {
      "cell_type": "code",
      "metadata": {
        "id": "incorporate-circular"
      },
      "source": [
        ""
      ],
      "id": "incorporate-circular",
      "execution_count": null,
      "outputs": []
    }
  ]
}