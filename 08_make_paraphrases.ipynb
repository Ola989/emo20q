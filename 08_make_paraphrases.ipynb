{
 "cells": [
  {
   "cell_type": "markdown",
   "id": "collect-saskatchewan",
   "metadata": {},
   "source": [
    "# Extract Paraphrases"
   ]
  },
  {
   "cell_type": "code",
   "execution_count": 2,
   "id": "material-dance",
   "metadata": {},
   "outputs": [],
   "source": [
    "from collections import defaultdict\n",
    "from emo20q.gamedata import HumanHumanTournament\n",
    "\n",
    "def collect_paraphrases(hht) -> dict:\n",
    "    \"\"\"returns a dict with gloss/semantic annotation as the key and a set\n",
    "    of examples as the values\n",
    "    \"\"\"\n",
    "    paraphrase_dict = defaultdict(set)\n",
    "    for m in hht.matches:\n",
    "        for t in m.turns:\n",
    "            paraphrase_dict[t.qgloss].add(t.q)\n",
    "\n",
    "    return paraphrase_dict"
   ]
  },
  {
   "cell_type": "code",
   "execution_count": 3,
   "id": "ordinary-naples",
   "metadata": {},
   "outputs": [],
   "source": [
    "pd = make_paraphrase(HumanHumanTournament())"
   ]
  },
  {
   "cell_type": "code",
   "execution_count": 5,
   "id": "broke-abuse",
   "metadata": {},
   "outputs": [
    {
     "data": {
      "text/plain": [
       "700"
      ]
     },
     "execution_count": 5,
     "metadata": {},
     "output_type": "execute_result"
    }
   ],
   "source": [
    "len(pd.keys())"
   ]
  },
  {
   "cell_type": "code",
   "execution_count": 10,
   "id": "aerial-phone",
   "metadata": {},
   "outputs": [],
   "source": [
    "# c.f. https://realpython.com/python-histograms/\n",
    "def count_elements(seq) -> dict:\n",
    "     \"\"\"Tally elements from `seq`.\"\"\"\n",
    "     hist = {}\n",
    "     for i in seq:\n",
    "         hist[i] = hist.get(i, 0) + 1\n",
    "     return hist\n",
    "\n",
    "def ascii_histogram(seq) -> None:\n",
    "    \"\"\"A horizontal frequency-table/histogram plot.\"\"\"\n",
    "    counted = count_elements(seq)\n",
    "    for k in sorted(counted):\n",
    "        print('{0:5d} {1}'.format(k, '+' * counted[k]), f\"({counted[k]})\")"
   ]
  },
  {
   "cell_type": "code",
   "execution_count": 12,
   "id": "empirical-jacksonville",
   "metadata": {},
   "outputs": [
    {
     "name": "stdout",
     "output_type": "stream",
     "text": [
      "    1 +++++++++++++++++++++++++++++++++++++++++++++++++++++++++++++++++++++++++++++++++++++++++++++++++++++++++++++++++++++++++++++++++++++++++++++++++++++++++++++++++++++++++++++++++++++++++++++++++++++++++++++++++++++++++++++++++++++++++++++++++++++++++++++++++++++++++++++++++++++++++++++++++++++++++++++++++++++++++++++++++++++++++++++++++++++++++++++++++++++++++++++++++++++++++++++++++++++++++++++++++++++++++++++++++++++++++++++++++++++++++++++++++++++++++++++++++++++++++++++++++++++++++++++++++++++++++++++++++++++++++++++++++++++++++++++++++++++++++ (553)\n",
      "    2 +++++++++++++++++++++++++++++++++++++++++++++++++++++++++++++++++++++++++ (73)\n",
      "    3 +++++++++++++++++++++++++++++++++++++ (37)\n",
      "    4 +++++++++++ (11)\n",
      "    5 ++++++++++ (10)\n",
      "    6 ++++++ (6)\n",
      "    7 ++++ (4)\n",
      "   10 ++ (2)\n",
      "   11 + (1)\n",
      "   21 + (1)\n",
      "   35 + (1)\n",
      "   41 + (1)\n"
     ]
    }
   ],
   "source": [
    "ascii_histogram([len(pd[k]) for k in pd.keys()])"
   ]
  },
  {
   "cell_type": "code",
   "execution_count": 13,
   "id": "laughing-heavy",
   "metadata": {},
   "outputs": [
    {
     "data": {
      "text/plain": [
       "147"
      ]
     },
     "execution_count": 13,
     "metadata": {},
     "output_type": "execute_result"
    }
   ],
   "source": [
    "len([len(pd[k]) for k in pd.keys() if len(pd[k])>1])"
   ]
  },
  {
   "cell_type": "code",
   "execution_count": 15,
   "id": "varied-romance",
   "metadata": {},
   "outputs": [
    {
     "name": "stdout",
     "output_type": "stream",
     "text": [
      "147\n"
     ]
    }
   ],
   "source": [
    "# the previous is kind of ugly, try a different way\n",
    "count_non_hapax_glosses = 0\n",
    "for k in pd:\n",
    "    if len(pd[k]) > 1:\n",
    "        count_non_hapax_glosses += 1\n",
    "print(count_non_hapax_glosses)"
   ]
  },
  {
   "cell_type": "code",
   "execution_count": 16,
   "id": "deadly-playback",
   "metadata": {},
   "outputs": [
    {
     "name": "stdout",
     "output_type": "stream",
     "text": [
      "543\n"
     ]
    }
   ],
   "source": [
    "count_non_hapax_instances = 0\n",
    "for k in pd:\n",
    "    if len(pd[k]) > 1:\n",
    "        count_non_hapax_instances += len(pd[k])\n",
    "print(count_non_hapax_instances)"
   ]
  },
  {
   "cell_type": "markdown",
   "id": "colonial-produce",
   "metadata": {},
   "source": [
    "There are a lot of paraphrases with single examples, but a fair amount, 147, that have 2 or more examples for a given gloss, for a total of 543 different questions.\n",
    "\n",
    "For comparison, the Microsoft Research Paraphrase Corpus (MRPC) has the following size\n",
    "Size of training dataset: 3668.\n",
    "Size of evaluation dataset: 408.\n",
    "Maximum sequence length of training and evaluation dataset: 128\n",
    "\n",
    "The format of the BERT input for paraphrase data is class, sentA, sentB.  Assuming that order matters (permutation, not combination), this would be $nPr = \\frac{n!}{(n-r)!}$ or $\\frac{543!}{541!} = 543*542$"
   ]
  },
  {
   "cell_type": "code",
   "execution_count": 18,
   "id": "informative-salon",
   "metadata": {},
   "outputs": [
    {
     "data": {
      "text/plain": [
       "294306"
      ]
     },
     "execution_count": 18,
     "metadata": {},
     "output_type": "execute_result"
    }
   ],
   "source": [
    "543*542"
   ]
  },
  {
   "cell_type": "markdown",
   "id": "dental-interference",
   "metadata": {},
   "source": [
    "so actually a fair amount more data than MRPC (though I should read their paper to make sure I'm not missing something)\n",
    "\n",
    "This is also assuming we wouldn't include the same sentence as both sentA and sentB (of course then the total would be 543*543)"
   ]
  },
  {
   "cell_type": "code",
   "execution_count": 20,
   "id": "sitting-registration",
   "metadata": {},
   "outputs": [
    {
     "name": "stdout",
     "output_type": "stream",
     "text": [
      "4588\n"
     ]
    }
   ],
   "source": [
    "num_positive_examples = 0\n",
    "for k in pd:\n",
    "    if len(pd[k]) > 1:\n",
    "        num_positive_examples += len(pd[k])*(len(pd[k])-1)\n",
    "print(num_positive_examples)"
   ]
  },
  {
   "cell_type": "markdown",
   "id": "offshore-fireplace",
   "metadata": {},
   "source": [
    "so if we try to make it balanced in terms of number of positive and negative examples it might be closer to the size of the MRPC data (if we downsample the negative examples instead of upsampling the positive).\n",
    "\n",
    "Of course, if we include the hapaxes (glosses that were only seen once), then we could have a lot more negative examples\n",
    "\n",
    "In the MRPC data, the breakdown of positive (paraphrase) to negative (not paraphrase) is 2474 to 1194, i.e. twice as many positive examples as negative or 2/3rds positive."
   ]
  },
  {
   "cell_type": "code",
   "execution_count": 23,
   "id": "personal-operation",
   "metadata": {},
   "outputs": [
    {
     "data": {
      "text/plain": [
       "2.0720268006700167"
      ]
     },
     "execution_count": 23,
     "metadata": {},
     "output_type": "execute_result"
    }
   ],
   "source": [
    "2474/(3668-2474)"
   ]
  },
  {
   "cell_type": "code",
   "execution_count": 24,
   "id": "latter-alfred",
   "metadata": {},
   "outputs": [
    {
     "data": {
      "text/plain": [
       "0.6744820065430752"
      ]
     },
     "execution_count": 24,
     "metadata": {},
     "output_type": "execute_result"
    }
   ],
   "source": [
    "2474/3668"
   ]
  },
  {
   "cell_type": "markdown",
   "id": "broke-superintendent",
   "metadata": {},
   "source": [
    "# create train/dev/test sets"
   ]
  },
  {
   "cell_type": "markdown",
   "id": "saving-lighting",
   "metadata": {},
   "source": [
    "Okay then, let's create our train/dev/test data...\n",
    "\n",
    "I think for publication, I should do something like holding out some of the glosses (doing the train/dev/test partition at the gloss level), however I feel like doing something easy to start."
   ]
  },
  {
   "cell_type": "code",
   "execution_count": 43,
   "id": "boxed-shelf",
   "metadata": {},
   "outputs": [
    {
     "name": "stdout",
     "output_type": "stream",
     "text": [
      "4588\n",
      "289718\n",
      "294306\n"
     ]
    }
   ],
   "source": [
    "positive_examples = []\n",
    "negative_examples = []\n",
    "for k in pd:\n",
    "    if len(pd[k]) > 1:\n",
    "        for s1 in pd[k]:\n",
    "            for s2 in pd[k]:\n",
    "                if s1 != s2:\n",
    "                    positive_examples.append((s1, s2))\n",
    "                    \n",
    "print(len(positive_examples))\n",
    "\n",
    "for k1 in pd:\n",
    "    for k2 in pd:\n",
    "        if k1 != k2: # not paraphrases, i.e. they don't have the same gloss k1/k2\n",
    "            if len(pd[k1]) > 1 and len(pd[k2]) > 1: # remove this to keep the hapax glosses\n",
    "                for s1 in pd[k1]:\n",
    "                    for s2 in pd[k2]:\n",
    "                        negative_examples.append((s1, s2))\n",
    "\n",
    "print(len(negative_examples))\n",
    "print(len(positive_examples) + len(negative_examples))"
   ]
  },
  {
   "cell_type": "markdown",
   "id": "incredible-newton",
   "metadata": {},
   "source": [
    "good, the numbers match up to what we calculated earlier."
   ]
  },
  {
   "cell_type": "code",
   "execution_count": 35,
   "id": "imposed-playlist",
   "metadata": {},
   "outputs": [],
   "source": [
    "import numpy as np\n",
    "import tensorflow as tf"
   ]
  },
  {
   "cell_type": "code",
   "execution_count": 89,
   "id": "offensive-advertising",
   "metadata": {},
   "outputs": [
    {
     "name": "stdout",
     "output_type": "stream",
     "text": [
      "tf.Tensor([ 46758  98930  19086 ... 122579 152315 117952], shape=(294306,), dtype=int64)\n",
      "tf.Tensor([0. 0. 0. ... 0. 0. 0.], shape=(294306,), dtype=float64)\n",
      "tf.Tensor(\n",
      "[b'is it like anger?' b'is it similar to excited?' b'ok is it positive'\n",
      " ... b'did we already say calm?' b'is it worrying?' b'serene?'], shape=(294306,), dtype=string)\n",
      "tf.Tensor(\n",
      "[b'close to surprised?'\n",
      " b'is there a wide range of intensities that this emotion can be felt?'\n",
      " b'10)similar to disappointed?' ... b'cool, is it a negative emotion?'\n",
      " b'Is the emotion usually caused by certain situations (as opposed to just popping up in your mind)?'\n",
      " b'is it affection?'], shape=(294306,), dtype=string)\n",
      "the next couple examples should match up as paraphrases\n",
      "tf.Tensor(\n",
      "[[b'ok is it a positive emotion?'\n",
      "  b'do people feel that when they are helpless' b'is it posiitive?' ...\n",
      "  b'3. Is it usually an intense emotion?'\n",
      "  b'is it something you feel towards someone else?'\n",
      "  b'would you feel it if you had an exam the next day?']], shape=(1, 4588), dtype=string)\n",
      "tf.Tensor(\n",
      "[[b'ok is it positive/\\n?'\n",
      "  b'would you feel this in a helpless situation?' b'positive?' ...\n",
      "  b'2) Is it a strong emotion?'\n",
      "  b'is it an emotion that can be directed at another person?'\n",
      "  b'would you feel it if you had a user13 the next day?']], shape=(1, 4588), dtype=string)\n"
     ]
    }
   ],
   "source": [
    "data = positive_examples + negative_examples\n",
    "sentA, sentB = zip(*data)\n",
    "idx = np.array(range(0,len(data)))\n",
    "labels = np.concatenate([np.ones(len(positive_examples)), np.zeros(len(negative_examples))])\n",
    "\n",
    "# shuffle index\n",
    "np.random.seed(0)\n",
    "np.random.shuffle(idx)\n",
    "\n",
    "# convert to tensorflow and shuffle other data\n",
    "#print(tf.data.Dataset.from_tensor_slices(labels))\n",
    "idx = tf.constant(idx)\n",
    "print(idx)\n",
    "\n",
    "labels = tf.constant(labels)\n",
    "labels = tf.gather(labels, idx)\n",
    "print(labels)\n",
    "\n",
    "sentA = tf.constant(sentA)\n",
    "sentA = tf.gather(sentA, idx)\n",
    "print(sentA)\n",
    "\n",
    "sentB = tf.constant(sentB)\n",
    "sentB = tf.gather(sentB, idx)\n",
    "print(sentB)\n",
    "\n",
    "# sanity check: recover the positive examples\n",
    "positive_idx = np.where(labels==1)\n",
    "print(\"the next couple examples should match up as paraphrases\")\n",
    "print(tf.gather(sentA, positive_idx))\n",
    "print(tf.gather(sentB, positive_idx))"
   ]
  },
  {
   "cell_type": "markdown",
   "id": "negative-maker",
   "metadata": {},
   "source": [
    "now to partition the data.  I'm going to use the format [here](https://github.com/tensorflow/models/blob/master/official/colab/fine_tuning_bert.ipynb).  \n",
    "\n",
    "Out of N=294306, I'll set $N_{train}=200000$ , $N_{validation}=14306$, and $N_{test}=80000$"
   ]
  },
  {
   "cell_type": "code",
   "execution_count": 96,
   "id": "waiting-cleaner",
   "metadata": {},
   "outputs": [],
   "source": [
    "emo20q_paraphrase = {}\n",
    "\n",
    "emo20q_paraphrase['train'] = {'sentence1': tf.slice(sentA, [0], [200000]),\n",
    "                              'sentence2': tf.slice(sentB, [0], [200000]),\n",
    "                              'idx': tf.slice(idx, [0], [200000]),\n",
    "                              'label': tf.slice(labels, [0], [200000])}\n",
    "\n",
    "emo20q_paraphrase['validation'] = {'sentence1': tf.slice(sentA, [200000], [14306]),\n",
    "                                   'sentence2': tf.slice(sentB, [200000], [14306]),\n",
    "                                   'idx': tf.slice(idx, [200000], [14306]),\n",
    "                                   'label': tf.slice(labels, [200000], [14306])}\n",
    "\n",
    "emo20q_paraphrase['test'] = {'sentence1': tf.slice(sentA, [214306], [80000]),\n",
    "                             'sentence2': tf.slice(sentB, [214306], [80000]),\n",
    "                             'idx': tf.slice(idx, [214306], [80000]),\n",
    "                             'label': tf.slice(labels, [214306], [80000])}"
   ]
  },
  {
   "cell_type": "markdown",
   "id": "portuguese-philosophy",
   "metadata": {},
   "source": [
    "# Get Bert Model "
   ]
  },
  {
   "cell_type": "markdown",
   "id": "acquired-fundamental",
   "metadata": {},
   "source": [
    "again, this is based on https://github.com/tensorflow/models/blob/master/official/colab/fine_tuning_bert.ipynb\n"
   ]
  },
  {
   "cell_type": "code",
   "execution_count": 98,
   "id": "first-trail",
   "metadata": {},
   "outputs": [
    {
     "name": "stdout",
     "output_type": "stream",
     "text": [
      "\u001b[33mWARNING: You are using pip version 21.0; however, version 21.0.1 is available.\r\n",
      "You should consider upgrading via the '/Users/kaze7539/.virtualenvs/emo20q-notebook/bin/python -m pip install --upgrade pip' command.\u001b[0m\r\n"
     ]
    }
   ],
   "source": [
    "# get stable models garden\n",
    "!pip install -q tf-models-official==2.4.0"
   ]
  },
  {
   "cell_type": "code",
   "execution_count": 99,
   "id": "hundred-bernard",
   "metadata": {},
   "outputs": [],
   "source": [
    "import os\n",
    "\n",
    "import numpy as np\n",
    "import matplotlib.pyplot as plt\n",
    "\n",
    "import tensorflow as tf\n",
    "\n",
    "import tensorflow_hub as hub\n",
    "import tensorflow_datasets as tfds\n",
    "tfds.disable_progress_bar()\n",
    "\n",
    "from official.modeling import tf_utils\n",
    "from official import nlp\n",
    "from official.nlp import bert\n",
    "\n",
    "# Load the required submodules\n",
    "import official.nlp.optimization\n",
    "import official.nlp.bert.bert_models\n",
    "import official.nlp.bert.configs\n",
    "import official.nlp.bert.run_classifier\n",
    "import official.nlp.bert.tokenization\n",
    "import official.nlp.data.classifier_data_lib\n",
    "import official.nlp.modeling.losses\n",
    "import official.nlp.modeling.models\n",
    "import official.nlp.modeling.networks\n"
   ]
  },
  {
   "cell_type": "code",
   "execution_count": 100,
   "id": "pleased-rocket",
   "metadata": {},
   "outputs": [
    {
     "data": {
      "text/plain": [
       "['bert_config.json',\n",
       " 'bert_model.ckpt.data-00000-of-00001',\n",
       " 'bert_model.ckpt.index',\n",
       " 'vocab.txt']"
      ]
     },
     "execution_count": 100,
     "metadata": {},
     "output_type": "execute_result"
    }
   ],
   "source": [
    "gs_folder_bert = \"gs://cloud-tpu-checkpoints/bert/v3/uncased_L-12_H-768_A-12\"\n",
    "tf.io.gfile.listdir(gs_folder_bert)"
   ]
  },
  {
   "cell_type": "code",
   "execution_count": 101,
   "id": "hazardous-credit",
   "metadata": {},
   "outputs": [
    {
     "name": "stdout",
     "output_type": "stream",
     "text": [
      "Vocab size: 30522\n"
     ]
    }
   ],
   "source": [
    "# Set up tokenizer to generate Tensorflow dataset\n",
    "tokenizer = bert.tokenization.FullTokenizer(\n",
    "    vocab_file=os.path.join(gs_folder_bert, \"vocab.txt\"),\n",
    "     do_lower_case=True)\n",
    "\n",
    "print(\"Vocab size:\", len(tokenizer.vocab))"
   ]
  },
  {
   "cell_type": "code",
   "execution_count": 102,
   "id": "collect-charter",
   "metadata": {},
   "outputs": [
    {
     "name": "stdout",
     "output_type": "stream",
     "text": [
      "['hello', 'tensor', '##flow', '!']\n",
      "[7592, 23435, 12314, 999]\n",
      "['subset', '(', 'e', ',', 'nightmare', ')']\n",
      "[16745, 1006, 1041, 1010, 10103, 1007]\n"
     ]
    }
   ],
   "source": [
    "# more copy pasta\n",
    "tokens = tokenizer.tokenize(\"Hello TensorFlow!\")\n",
    "print(tokens)\n",
    "ids = tokenizer.convert_tokens_to_ids(tokens)\n",
    "print(ids)\n",
    "tokens = tokenizer.tokenize(\"subset(e,nightmare)\")\n",
    "print(tokens)\n",
    "ids = tokenizer.convert_tokens_to_ids(tokens)\n",
    "print(ids)\n"
   ]
  },
  {
   "cell_type": "code",
   "execution_count": 103,
   "id": "dutch-instruction",
   "metadata": {},
   "outputs": [
    {
     "data": {
      "text/plain": [
       "[101, 102]"
      ]
     },
     "execution_count": 103,
     "metadata": {},
     "output_type": "execute_result"
    }
   ],
   "source": [
    "tokenizer.convert_tokens_to_ids(['[CLS]', '[SEP]'])"
   ]
  },
  {
   "cell_type": "code",
   "execution_count": 104,
   "id": "appreciated-cowboy",
   "metadata": {},
   "outputs": [],
   "source": [
    "def encode_sentence(s):\n",
    "   tokens = list(tokenizer.tokenize(s.numpy()))\n",
    "   tokens.append('[SEP]')\n",
    "   return tokenizer.convert_tokens_to_ids(tokens)\n",
    "\n",
    "sentence1 = tf.ragged.constant([\n",
    "    encode_sentence(s) for s in emo20q_paraphrase['train'][\"sentence1\"]])\n",
    "sentence2 = tf.ragged.constant([\n",
    "    encode_sentence(s) for s in emo20q_paraphrase['train'][\"sentence2\"]])"
   ]
  },
  {
   "cell_type": "code",
   "execution_count": 106,
   "id": "cheap-essence",
   "metadata": {},
   "outputs": [
    {
     "name": "stdout",
     "output_type": "stream",
     "text": [
      "Sentence1 shape: [200000, None]\n",
      "Sentence2 shape: [200000, None]\n"
     ]
    }
   ],
   "source": [
    "print(\"Sentence1 shape:\", sentence1.shape.as_list())\n",
    "print(\"Sentence2 shape:\", sentence2.shape.as_list())"
   ]
  },
  {
   "cell_type": "code",
   "execution_count": 107,
   "id": "illegal-passion",
   "metadata": {},
   "outputs": [
    {
     "data": {
      "image/png": "[encoded data removed]",
      "text/plain": [
       "<Figure size 432x288 with 1 Axes>"
      ]
     },
     "metadata": {
      "needs_background": "light"
     },
     "output_type": "display_data"
    }
   ],
   "source": [
    "cls = [tokenizer.convert_tokens_to_ids(['[CLS]'])]*sentence1.shape[0]\n",
    "input_word_ids = tf.concat([cls, sentence1, sentence2], axis=-1)\n",
    "_ = plt.pcolormesh(input_word_ids.to_tensor())"
   ]
  },
  {
   "cell_type": "markdown",
   "id": "outdoor-mining",
   "metadata": {},
   "source": [
    "# imput mask and input type"
   ]
  },
  {
   "cell_type": "markdown",
   "id": "conservative-kidney",
   "metadata": {},
   "source": [
    "the next part is to distinguish the content and the padding"
   ]
  },
  {
   "cell_type": "code",
   "execution_count": 108,
   "id": "young-destination",
   "metadata": {},
   "outputs": [
    {
     "data": {
      "text/plain": [
       "<matplotlib.collections.QuadMesh at 0x1689eef50>"
      ]
     },
     "execution_count": 108,
     "metadata": {},
     "output_type": "execute_result"
    },
    {
     "data": {
      "image/png": "[encoded data removed]",
      "text/plain": [
       "<Figure size 432x288 with 1 Axes>"
      ]
     },
     "metadata": {
      "needs_background": "light"
     },
     "output_type": "display_data"
    }
   ],
   "source": [
    "input_mask = tf.ones_like(input_word_ids).to_tensor()\n",
    "\n",
    "plt.pcolormesh(input_mask)"
   ]
  },
  {
   "cell_type": "markdown",
   "id": "intellectual-plain",
   "metadata": {},
   "source": [
    "the next part distinguishes sentence 1 and 2"
   ]
  },
  {
   "cell_type": "code",
   "execution_count": 109,
   "id": "directed-vanilla",
   "metadata": {},
   "outputs": [
    {
     "data": {
      "text/plain": [
       "<matplotlib.collections.QuadMesh at 0x16ae7ccd0>"
      ]
     },
     "execution_count": 109,
     "metadata": {},
     "output_type": "execute_result"
    },
    {
     "data": {
      "image/png": "[encoded data removed]",
      "text/plain": [
       "<Figure size 432x288 with 1 Axes>"
      ]
     },
     "metadata": {
      "needs_background": "light"
     },
     "output_type": "display_data"
    }
   ],
   "source": [
    "type_cls = tf.zeros_like(cls)\n",
    "type_s1 = tf.zeros_like(sentence1)\n",
    "type_s2 = tf.ones_like(sentence2)\n",
    "input_type_ids = tf.concat([type_cls, type_s1, type_s2], axis=-1).to_tensor()\n",
    "\n",
    "plt.pcolormesh(input_type_ids)"
   ]
  },
  {
   "cell_type": "code",
   "execution_count": 110,
   "id": "biological-audit",
   "metadata": {},
   "outputs": [],
   "source": [
    "def encode_sentence(s, tokenizer):\n",
    "   tokens = list(tokenizer.tokenize(s))\n",
    "   tokens.append('[SEP]')\n",
    "   return tokenizer.convert_tokens_to_ids(tokens)\n",
    "\n",
    "def bert_encode(glue_dict, tokenizer):\n",
    "  num_examples = len(glue_dict[\"sentence1\"])\n",
    "  \n",
    "  sentence1 = tf.ragged.constant([\n",
    "      encode_sentence(s, tokenizer)\n",
    "      for s in np.array(glue_dict[\"sentence1\"])])\n",
    "  sentence2 = tf.ragged.constant([\n",
    "      encode_sentence(s, tokenizer)\n",
    "       for s in np.array(glue_dict[\"sentence2\"])])\n",
    "\n",
    "  cls = [tokenizer.convert_tokens_to_ids(['[CLS]'])]*sentence1.shape[0]\n",
    "  input_word_ids = tf.concat([cls, sentence1, sentence2], axis=-1)\n",
    "\n",
    "  input_mask = tf.ones_like(input_word_ids).to_tensor()\n",
    "\n",
    "  type_cls = tf.zeros_like(cls)\n",
    "  type_s1 = tf.zeros_like(sentence1)\n",
    "  type_s2 = tf.ones_like(sentence2)\n",
    "  input_type_ids = tf.concat(\n",
    "      [type_cls, type_s1, type_s2], axis=-1).to_tensor()\n",
    "\n",
    "  inputs = {\n",
    "      'input_word_ids': input_word_ids.to_tensor(),\n",
    "      'input_mask': input_mask,\n",
    "      'input_type_ids': input_type_ids}\n",
    "\n",
    "  return inputs"
   ]
  },
  {
   "cell_type": "code",
   "execution_count": 111,
   "id": "visible-blink",
   "metadata": {},
   "outputs": [],
   "source": [
    "# I'm keeping the \"glue\" so that the parts of the example code still sticks together\n",
    "glue_train = bert_encode(emo20q_paraphrase['train'], tokenizer)\n",
    "glue_train_labels = emo20q_paraphrase['train']['label']\n",
    "\n",
    "glue_validation = bert_encode(emo20q_paraphrase['validation'], tokenizer)\n",
    "glue_validation_labels = emo20q_paraphrase['validation']['label']\n",
    "\n",
    "glue_test = bert_encode(emo20q_paraphrase['test'], tokenizer)\n",
    "glue_test_labels  = emo20q_paraphrase['test']['label']"
   ]
  },
  {
   "cell_type": "code",
   "execution_count": 112,
   "id": "younger-humanitarian",
   "metadata": {},
   "outputs": [
    {
     "name": "stdout",
     "output_type": "stream",
     "text": [
      "input_word_ids  shape: (200000, 54)\n",
      "input_mask      shape: (200000, 54)\n",
      "input_type_ids  shape: (200000, 54)\n",
      "glue_train_labels shape: (200000,)\n"
     ]
    }
   ],
   "source": [
    "for key, value in glue_train.items():\n",
    "  print(f'{key:15s} shape: {value.shape}')\n",
    "\n",
    "print(f'glue_train_labels shape: {glue_train_labels.shape}')"
   ]
  },
  {
   "cell_type": "code",
   "execution_count": 113,
   "id": "original-paintball",
   "metadata": {},
   "outputs": [
    {
     "data": {
      "text/plain": [
       "{'attention_probs_dropout_prob': 0.1,\n",
       " 'hidden_act': 'gelu',\n",
       " 'hidden_dropout_prob': 0.1,\n",
       " 'hidden_size': 768,\n",
       " 'initializer_range': 0.02,\n",
       " 'intermediate_size': 3072,\n",
       " 'max_position_embeddings': 512,\n",
       " 'num_attention_heads': 12,\n",
       " 'num_hidden_layers': 12,\n",
       " 'type_vocab_size': 2,\n",
       " 'vocab_size': 30522}"
      ]
     },
     "execution_count": 113,
     "metadata": {},
     "output_type": "execute_result"
    }
   ],
   "source": [
    "import json\n",
    "\n",
    "bert_config_file = os.path.join(gs_folder_bert, \"bert_config.json\")\n",
    "config_dict = json.loads(tf.io.gfile.GFile(bert_config_file).read())\n",
    "\n",
    "bert_config = bert.configs.BertConfig.from_dict(config_dict)\n",
    "\n",
    "config_dict"
   ]
  },
  {
   "cell_type": "code",
   "execution_count": 114,
   "id": "banner-berkeley",
   "metadata": {},
   "outputs": [],
   "source": [
    "bert_classifier, bert_encoder = bert.bert_models.classifier_model(\n",
    "    bert_config, num_labels=2)"
   ]
  },
  {
   "cell_type": "code",
   "execution_count": 122,
   "id": "encouraging-toilet",
   "metadata": {},
   "outputs": [
    {
     "name": "stdout",
     "output_type": "stream",
     "text": [
      "Requirement already satisfied: pydot in /Users/kaze7539/.virtualenvs/emo20q-notebook/lib/python3.7/site-packages (1.4.2)\n",
      "Requirement already satisfied: pyparsing>=2.1.4 in /Users/kaze7539/.virtualenvs/emo20q-notebook/lib/python3.7/site-packages (from pydot) (2.4.7)\n",
      "\u001b[33mWARNING: You are using pip version 21.0; however, version 21.0.1 is available.\n",
      "You should consider upgrading via the '/Users/kaze7539/.virtualenvs/emo20q-notebook/bin/python -m pip install --upgrade pip' command.\u001b[0m\n",
      "Requirement already satisfied: pydotplus in /Users/kaze7539/.virtualenvs/emo20q-notebook/lib/python3.7/site-packages (2.0.2)\n",
      "Requirement already satisfied: pyparsing>=2.0.1 in /Users/kaze7539/.virtualenvs/emo20q-notebook/lib/python3.7/site-packages (from pydotplus) (2.4.7)\n",
      "\u001b[33mWARNING: You are using pip version 21.0; however, version 21.0.1 is available.\n",
      "You should consider upgrading via the '/Users/kaze7539/.virtualenvs/emo20q-notebook/bin/python -m pip install --upgrade pip' command.\u001b[0m\n",
      "Collecting graphviz\n",
      "  Downloading graphviz-0.16-py2.py3-none-any.whl (19 kB)\n",
      "Installing collected packages: graphviz\n",
      "Successfully installed graphviz-0.16\n",
      "\u001b[33mWARNING: You are using pip version 21.0; however, version 21.0.1 is available.\n",
      "You should consider upgrading via the '/Users/kaze7539/.virtualenvs/emo20q-notebook/bin/python -m pip install --upgrade pip' command.\u001b[0m\n"
     ]
    }
   ],
   "source": [
    "!pip install pydot\n",
    "!pip install pydotplus\n",
    "!pip install graphviz"
   ]
  },
  {
   "cell_type": "code",
   "execution_count": 125,
   "id": "private-musical",
   "metadata": {},
   "outputs": [
    {
     "name": "stdout",
     "output_type": "stream",
     "text": [
      "('Failed to import pydot. You must `pip install pydot` and install graphviz (https://graphviz.gitlab.io/download/), ', 'for `pydotprint` to work.')\n"
     ]
    }
   ],
   "source": [
    "# this wasn't working for my on my laptop, googling says to restart kernel but I don't want to restart everything\n",
    "tf.keras.utils.plot_model(bert_classifier, show_shapes=True, dpi=48)"
   ]
  },
  {
   "cell_type": "code",
   "execution_count": 128,
   "id": "further-marsh",
   "metadata": {},
   "outputs": [
    {
     "data": {
      "text/plain": [
       "array([[-0.44147053, -0.48081   ],\n",
       "       [-0.4826107 , -0.56173587],\n",
       "       [-0.17313254, -0.52167517],\n",
       "       [-0.38307312, -0.6034557 ],\n",
       "       [-0.44038168, -0.63063896],\n",
       "       [-0.35595578, -0.42431045],\n",
       "       [-0.41553512, -0.39635074],\n",
       "       [-0.37771577, -0.51407313],\n",
       "       [-0.42924854, -0.42798463],\n",
       "       [-0.34307918, -0.41576943]], dtype=float32)"
      ]
     },
     "execution_count": 128,
     "metadata": {},
     "output_type": "execute_result"
    }
   ],
   "source": [
    "glue_batch = {key: val[:10] for key, val in glue_train.items()}\n",
    "\n",
    "bert_classifier(\n",
    "    glue_batch, training=True\n",
    ").numpy()\n"
   ]
  },
  {
   "cell_type": "code",
   "execution_count": 129,
   "id": "ideal-healthcare",
   "metadata": {},
   "outputs": [
    {
     "name": "stdout",
     "output_type": "stream",
     "text": [
      "('Failed to import pydot. You must `pip install pydot` and install graphviz (https://graphviz.gitlab.io/download/), ', 'for `pydotprint` to work.')\n"
     ]
    }
   ],
   "source": [
    "tf.keras.utils.plot_model(bert_encoder, show_shapes=True, dpi=48)"
   ]
  },
  {
   "cell_type": "markdown",
   "id": "obvious-jefferson",
   "metadata": {},
   "source": [
    "restore encoder weights"
   ]
  },
  {
   "cell_type": "code",
   "execution_count": 130,
   "id": "vulnerable-defendant",
   "metadata": {},
   "outputs": [
    {
     "data": {
      "text/plain": [
       "<tensorflow.python.training.tracking.util.CheckpointLoadStatus at 0x1685b5190>"
      ]
     },
     "execution_count": 130,
     "metadata": {},
     "output_type": "execute_result"
    }
   ],
   "source": [
    "checkpoint = tf.train.Checkpoint(encoder=bert_encoder)\n",
    "checkpoint.read(\n",
    "    os.path.join(gs_folder_bert, 'bert_model.ckpt')).assert_consumed()"
   ]
  },
  {
   "cell_type": "markdown",
   "id": "national-hungary",
   "metadata": {},
   "source": [
    "setup optimizer"
   ]
  },
  {
   "cell_type": "code",
   "execution_count": 132,
   "id": "proprietary-entertainment",
   "metadata": {},
   "outputs": [],
   "source": [
    "# Set up epochs and steps\n",
    "epochs = 3\n",
    "batch_size = 32\n",
    "eval_batch_size = 32\n",
    "\n",
    "train_data_size = len(glue_train_labels)\n",
    "steps_per_epoch = int(train_data_size / batch_size)\n",
    "num_train_steps = steps_per_epoch * epochs\n",
    "warmup_steps = int(epochs * train_data_size * 0.1 / batch_size)\n",
    "\n",
    "# creates an optimizer with learning rate schedule\n",
    "optimizer = nlp.optimization.create_optimizer(\n",
    "    2e-5, num_train_steps=num_train_steps, num_warmup_steps=warmup_steps)"
   ]
  },
  {
   "cell_type": "code",
   "execution_count": 133,
   "id": "confident-controversy",
   "metadata": {},
   "outputs": [
    {
     "data": {
      "text/plain": [
       "official.nlp.optimization.AdamWeightDecay"
      ]
     },
     "execution_count": 133,
     "metadata": {},
     "output_type": "execute_result"
    }
   ],
   "source": [
    "type(optimizer)"
   ]
  },
  {
   "cell_type": "markdown",
   "id": "stopped-scroll",
   "metadata": {},
   "source": [
    "train the model"
   ]
  },
  {
   "cell_type": "code",
   "execution_count": null,
   "id": "major-identification",
   "metadata": {},
   "outputs": [
    {
     "name": "stdout",
     "output_type": "stream",
     "text": [
      "Epoch 1/3\n",
      " 408/6250 [>.............................] - ETA: 10:40:57 - loss: 0.8754 - accuracy: 0.4040"
     ]
    }
   ],
   "source": [
    "metrics = [tf.keras.metrics.SparseCategoricalAccuracy('accuracy', dtype=tf.float32)]\n",
    "loss = tf.keras.losses.SparseCategoricalCrossentropy(from_logits=True)\n",
    "\n",
    "bert_classifier.compile(\n",
    "    optimizer=optimizer,\n",
    "    loss=loss,\n",
    "    metrics=metrics)\n",
    "\n",
    "bert_classifier.fit(\n",
    "      glue_train, glue_train_labels,\n",
    "      validation_data=(glue_validation, glue_validation_labels),\n",
    "      batch_size=32,\n",
    "      epochs=epochs)"
   ]
  },
  {
   "cell_type": "markdown",
   "id": "under-roots",
   "metadata": {},
   "source": [
    "now try the fine-tuned model on example sentences"
   ]
  },
  {
   "cell_type": "code",
   "execution_count": null,
   "id": "brave-tomato",
   "metadata": {},
   "outputs": [],
   "source": [
    "my_examples = bert_encode(\n",
    "    glue_dict = {\n",
    "        'sentence1':[\n",
    "            'The rain in Spain falls mainly on the plain.',\n",
    "            'Look I fine tuned BERT.'],\n",
    "        'sentence2':[\n",
    "            'It mostly rains on the flat lands of Spain.',\n",
    "            'Is it working? This does not match.']\n",
    "    },\n",
    "    tokenizer=tokenizer)"
   ]
  },
  {
   "cell_type": "markdown",
   "id": "offensive-premium",
   "metadata": {},
   "source": [
    "the model should report 1 for match and 0 for not"
   ]
  },
  {
   "cell_type": "code",
   "execution_count": null,
   "id": "south-crown",
   "metadata": {},
   "outputs": [],
   "source": [
    "result = bert_classifier(my_examples, training=False)\n",
    "\n",
    "result = tf.argmax(result).numpy()\n",
    "result"
   ]
  },
  {
   "cell_type": "code",
   "execution_count": null,
   "id": "amateur-journalist",
   "metadata": {},
   "outputs": [],
   "source": [
    "np.array(info.features['label'].names)[result]"
   ]
  },
  {
   "cell_type": "markdown",
   "id": "endangered-variation",
   "metadata": {},
   "source": [
    "# save the model"
   ]
  },
  {
   "cell_type": "code",
   "execution_count": null,
   "id": "competent-bobby",
   "metadata": {},
   "outputs": [],
   "source": [
    "export_dir='./saved_model'\n",
    "tf.saved_model.save(bert_classifier, export_dir=export_dir)"
   ]
  },
  {
   "cell_type": "markdown",
   "id": "romance-palestinian",
   "metadata": {},
   "source": [
    "check to make sure that the saved model has the same results"
   ]
  },
  {
   "cell_type": "code",
   "execution_count": null,
   "id": "moving-bidding",
   "metadata": {},
   "outputs": [],
   "source": [
    "reloaded = tf.saved_model.load(export_dir)\n",
    "reloaded_result = reloaded([my_examples['input_word_ids'],\n",
    "                            my_examples['input_mask'],\n",
    "                            my_examples['input_type_ids']], training=False)\n",
    "\n",
    "original_result = bert_classifier(my_examples, training=False)\n",
    "\n",
    "# The results are (nearly) identical:\n",
    "print(original_result.numpy())\n",
    "print()\n",
    "print(reloaded_result.numpy())"
   ]
  },
  {
   "cell_type": "markdown",
   "id": "capable-situation",
   "metadata": {},
   "source": [
    "# appendix"
   ]
  },
  {
   "cell_type": "code",
   "execution_count": null,
   "id": "incorporate-circular",
   "metadata": {},
   "outputs": [],
   "source": []
  }
 ],
 "metadata": {
  "kernelspec": {
   "display_name": "Python 3",
   "language": "python",
   "name": "python3"
  },
  "language_info": {
   "codemirror_mode": {
    "name": "ipython",
    "version": 3
   },
   "file_extension": ".py",
   "mimetype": "text/x-python",
   "name": "python",
   "nbconvert_exporter": "python",
   "pygments_lexer": "ipython3",
   "version": "3.7.9"
  }
 },
 "nbformat": 4,
 "nbformat_minor": 5
}
