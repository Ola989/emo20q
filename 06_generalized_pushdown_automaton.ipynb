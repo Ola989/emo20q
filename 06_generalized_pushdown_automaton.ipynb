{
 "cells": [
  {
   "cell_type": "code",
   "execution_count": null,
   "id": "curious-protest",
   "metadata": {},
   "outputs": [],
   "source": [
    "%load_ext autoreload\n",
    "%autoreload 2\n",
    "# uncomment the following lines to run the notebook on colab\n",
    "# !git clone https://github.com/abecode/emo20q\n",
    "# import sys\n",
    "# sys.path.append(\"emo20q\")"
   ]
  },
  {
   "cell_type": "markdown",
   "id": "corrected-pierre",
   "metadata": {},
   "source": [
    "# Generalized Pushdown Automaton\n",
    "\n",
    "The generalized pushdown automaton is a pushdown automaton that can see it's full stack (the stack is the episodic buffer when it is in the agent).\n",
    "\n",
    "\n",
    "As an automaton, the machine's transitions and output are based on the current state, the input, the network's transitions, and the stack.\n",
    "\n",
    "The network is implemented with the networkx library."
   ]
  },
  {
   "cell_type": "code",
   "execution_count": null,
   "id": "turned-globe",
   "metadata": {},
   "outputs": [],
   "source": [
    "import re\n",
    "from emo20q.gpda import GPDA, State\n",
    "machine = GPDA()\n",
    "\n",
    "# begin by creating states and adding them to the GPDA\n",
    "hello = State(\"salutation\")\n",
    "blabla = State(\"smalltalk\")\n",
    "bye = State(\"valediction\")\n",
    "machine.add_state(hello)\n",
    "machine.add_state(blabla)\n",
    "machine.add_state(bye)\n",
    "\n",
    "# and connecting them with transitions, where the main work is done:\n",
    "# the test is a function with one argument that takes the input returns a truth value, \n",
    "# i.e. whether that transition is valid given the input\n",
    "# the function  is a function that takes the input and \n",
    "# returns the machine output if the machine takes that transition\n",
    "machine.add_transition(hello, blabla,\n",
    "                       test=lambda x: re.search(r\"(hi|hello|how are you)\", x),\n",
    "                       function=lambda x: f'{re.search(r\"(hi|hello|how are you)\", \"hi\")[1]} to you too, what do you want to talk about'\n",
    "                      )\n",
    "machine.add_transition(blabla, blabla,\n",
    "                       test=lambda x: not re.search(r\"(bye|quit|exit)\", x),\n",
    "                       function= lambda x: \"okay, goood to know\"\n",
    "                      )\n",
    "machine.add_transition(blabla, bye,\n",
    "                       test=lambda x: re.search(r\"(bye|quit|exit)\", x),\n",
    "                       function= lambda x: \"okay, byeeeee\"\n",
    "                      )\n"
   ]
  },
  {
   "cell_type": "code",
   "execution_count": null,
   "id": "separated-future",
   "metadata": {},
   "outputs": [],
   "source": [
    "# set the state\n",
    "machine.set_state(hello)"
   ]
  },
  {
   "cell_type": "code",
   "execution_count": null,
   "id": "scenic-catch",
   "metadata": {},
   "outputs": [
    {
     "data": {
      "text/plain": [
       "'hi to you too, what do you want to talk about'"
      ]
     },
     "execution_count": null,
     "metadata": {},
     "output_type": "execute_result"
    }
   ],
   "source": [
    "#the machine takes input using the __call__ interface (the GPDA instance behaves like a function)\n",
    "machine(\"hi, how's it going?\")"
   ]
  },
  {
   "cell_type": "code",
   "execution_count": null,
   "id": "musical-sending",
   "metadata": {},
   "outputs": [
    {
     "data": {
      "text/plain": [
       "'okay, goood to know'"
      ]
     },
     "execution_count": null,
     "metadata": {},
     "output_type": "execute_result"
    }
   ],
   "source": [
    "machine(\"finite state automata\")"
   ]
  },
  {
   "cell_type": "code",
   "execution_count": null,
   "id": "manual-transformation",
   "metadata": {},
   "outputs": [
    {
     "data": {
      "text/plain": [
       "'okay, goood to know'"
      ]
     },
     "execution_count": null,
     "metadata": {},
     "output_type": "execute_result"
    }
   ],
   "source": [
    "machine(\"is that it?\")"
   ]
  },
  {
   "cell_type": "code",
   "execution_count": null,
   "id": "right-genome",
   "metadata": {},
   "outputs": [
    {
     "data": {
      "text/plain": [
       "'okay, byeeeee'"
      ]
     },
     "execution_count": null,
     "metadata": {},
     "output_type": "execute_result"
    }
   ],
   "source": [
    "machine(\"okay, bye then\")"
   ]
  },
  {
   "cell_type": "code",
   "execution_count": null,
   "id": "global-aberdeen",
   "metadata": {},
   "outputs": [
    {
     "ename": "GPDAError",
     "evalue": "no valid transition using this input, given current state valediction",
     "output_type": "error",
     "traceback": [
      "\u001b[0;31m---------------------------------------------------------------------------\u001b[0m",
      "\u001b[0;31mGPDAError\u001b[0m                                 Traceback (most recent call last)",
      "\u001b[0;32m<ipython-input-8-28316914d19c>\u001b[0m in \u001b[0;36m<module>\u001b[0;34m\u001b[0m\n\u001b[1;32m      1\u001b[0m \u001b[0;31m# if there are no valid transitions, then there will be an error\u001b[0m\u001b[0;34m\u001b[0m\u001b[0;34m\u001b[0m\u001b[0;34m\u001b[0m\u001b[0m\n\u001b[0;32m----> 2\u001b[0;31m \u001b[0mmachine\u001b[0m\u001b[0;34m(\u001b[0m\u001b[0;34m\"okay, bye then\"\u001b[0m\u001b[0;34m)\u001b[0m\u001b[0;34m\u001b[0m\u001b[0;34m\u001b[0m\u001b[0m\n\u001b[0m",
      "\u001b[0;32m~/proj/emo20q/emo20q/gpda.py\u001b[0m in \u001b[0;36m__call__\u001b[0;34m(self, input)\u001b[0m\n\u001b[1;32m    120\u001b[0m                 \u001b[0mself\u001b[0m\u001b[0;34m.\u001b[0m\u001b[0mset_state\u001b[0m\u001b[0;34m(\u001b[0m\u001b[0mn\u001b[0m\u001b[0;34m)\u001b[0m\u001b[0;34m\u001b[0m\u001b[0;34m\u001b[0m\u001b[0m\n\u001b[1;32m    121\u001b[0m                 \u001b[0;32mreturn\u001b[0m \u001b[0moutput\u001b[0m\u001b[0;34m\u001b[0m\u001b[0;34m\u001b[0m\u001b[0m\n\u001b[0;32m--> 122\u001b[0;31m         \u001b[0;32mraise\u001b[0m \u001b[0mGPDAError\u001b[0m\u001b[0;34m(\u001b[0m\u001b[0;34m\"no valid transition using this input, given current state %s\"\u001b[0m\u001b[0;34m%\u001b[0m\u001b[0mself\u001b[0m\u001b[0;34m.\u001b[0m\u001b[0mstate\u001b[0m\u001b[0;34m.\u001b[0m\u001b[0mname\u001b[0m\u001b[0;34m)\u001b[0m\u001b[0;34m\u001b[0m\u001b[0;34m\u001b[0m\u001b[0m\n\u001b[0m\u001b[1;32m    123\u001b[0m \u001b[0;34m\u001b[0m\u001b[0m\n\u001b[1;32m    124\u001b[0m     \u001b[0;32mdef\u001b[0m \u001b[0mprocessGlobalCommands\u001b[0m\u001b[0;34m(\u001b[0m\u001b[0mself\u001b[0m\u001b[0;34m,\u001b[0m\u001b[0minput\u001b[0m\u001b[0;34m)\u001b[0m\u001b[0;34m:\u001b[0m\u001b[0;34m\u001b[0m\u001b[0;34m\u001b[0m\u001b[0m\n",
      "\u001b[0;31mGPDAError\u001b[0m: no valid transition using this input, given current state valediction"
     ]
    }
   ],
   "source": [
    "# if there are no valid transitions, then there will be an error\n",
    "machine(\"okay, bye then\")"
   ]
  }
 ],
 "metadata": {
  "kernelspec": {
   "display_name": "Python 3",
   "language": "python",
   "name": "python3"
  },
  "language_info": {
   "codemirror_mode": {
    "name": "ipython",
    "version": 3
   },
   "file_extension": ".py",
   "mimetype": "text/x-python",
   "name": "python",
   "nbconvert_exporter": "python",
   "pygments_lexer": "ipython3",
   "version": "3.7.9"
  }
 },
 "nbformat": 4,
 "nbformat_minor": 5
}
