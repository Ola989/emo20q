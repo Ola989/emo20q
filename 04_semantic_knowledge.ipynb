{
 "cells": [
  {
   "cell_type": "code",
   "execution_count": 1,
   "id": "federal-algebra",
   "metadata": {},
   "outputs": [],
   "source": [
    "%load_ext autoreload\n",
    "%autoreload 2"
   ]
  },
  {
   "cell_type": "markdown",
   "id": "ready-capability",
   "metadata": {},
   "source": [
    "# Semantic Knowledge\n",
    "\n",
    "This will process the transcripts/annotations (which would be considered autobiographical knowledge) to extract the meaning of the emotion words, i.e. semantic knowledge, as subclass of an nltk naive Bayes classifier\n",
    "- the features/observations/data are a set of (question, answer) pairs\n",
    "- the models/hypotheses are the emotion words\n",
    "- the data gives us P(observation|emotion word)\n",
    "- the task goal is to calculate P(emotion word|observation)\n",
    "- the prior P(emotion word) = 1/(# of emotion words), i.e. a uniform, non-informative prior"
   ]
  },
  {
   "cell_type": "code",
   "execution_count": 24,
   "id": "tired-technology",
   "metadata": {},
   "outputs": [],
   "source": [
    "from emo20q.semanticknowledge import SemanticKnowledge\n",
    "k = SemanticKnowledge()"
   ]
  },
  {
   "cell_type": "code",
   "execution_count": null,
   "id": "organic-preparation",
   "metadata": {},
   "outputs": [],
   "source": []
  },
  {
   "cell_type": "code",
   "execution_count": null,
   "id": "subject-brooks",
   "metadata": {},
   "outputs": [],
   "source": []
  },
  {
   "cell_type": "code",
   "execution_count": null,
   "id": "unusual-football",
   "metadata": {},
   "outputs": [],
   "source": []
  },
  {
   "cell_type": "code",
   "execution_count": null,
   "id": "impressive-riverside",
   "metadata": {},
   "outputs": [],
   "source": []
  },
  {
   "cell_type": "code",
   "execution_count": null,
   "id": "geographic-hygiene",
   "metadata": {},
   "outputs": [],
   "source": []
  },
  {
   "cell_type": "code",
   "execution_count": null,
   "id": "dedicated-cooling",
   "metadata": {},
   "outputs": [],
   "source": []
  },
  {
   "cell_type": "code",
   "execution_count": null,
   "id": "private-produce",
   "metadata": {},
   "outputs": [],
   "source": []
  },
  {
   "cell_type": "code",
   "execution_count": null,
   "id": "excited-revelation",
   "metadata": {},
   "outputs": [],
   "source": []
  },
  {
   "cell_type": "code",
   "execution_count": null,
   "id": "meaning-relative",
   "metadata": {},
   "outputs": [],
   "source": []
  },
  {
   "cell_type": "code",
   "execution_count": 25,
   "id": "sized-ability",
   "metadata": {},
   "outputs": [
    {
     "name": "stdout",
     "output_type": "stream",
     "text": [
      "{'uninterested', 'curiosity', 'caring', 'scared', 'unsure', 'annoyance', 'let down', 'disappointment', 'sorrow', 'dumbfounded', 'aversion', 'insecurity', 'hope', 'admiration', 'jealousy', 'delirium', 'respect', 'conflicted', 'jubilance', 'adoration', 'surprise', 'stress', 'apathy', 'avarice', 'determination', 'relief', 'fear', 'happiness', 'hunger', 'euphoria', 'thrill', 'nostalgia', 'coldness', 'bravery', 'serenity', 'thankfulness', 'pity', 'pessimism', 'remorse', 'glee', 'annoyed', 'infuriation', 'exotic', 'downcast', 'confidence', 'ecstasy', 'obsession', 'tense', 'sleepiness', 'depression', 'frustration', 'relaxation', 'maudlin', 'upset', 'love', 'disgust', 'loneliness', 'exhaustion', 'ambivalence', 'aggravation', 'shyness', 'jilted', 'hopelessness', 'disillusionment', 'joyfulness', 'wariness', 'guilt', 'indifference', 'boredom', 'ambiguity', 'delight', 'accepting', 'maniacal', 'loved', 'gratefulness', 'being appalled', 'educated', 'cheerfulness', 'courage', 'discontentment', 'worry', 'hostility', 'enjoyment', 'elation', 'pride', 'fury', 'uncomfortable', 'excitement', 'hatred', 'awe', 'mad', 'silly', 'proud', 'eagerness', 'confusion', 'content', 'resentment', 'enamored', 'inquisitiveness', 'astounded', 'contentment', 'shame', 'irritated', 'irritation', 'helpless', 'shock', 'lust', 'soberness', 'satisfaction', 'calm', 'entrancement', 'tiredness', 'feelingLucky', 'quixotic', 'mania', 'despise', 'distress', 'empathy', 'alienation', 'failure', 'dread', 'agitation', 'perplexity', 'patience', 'suffering', 'outrage', 'excited', 'misery', 'enthusiasm', 'sympathy', 'grumpiness', 'exasperation', 'sarcasm', 'mischievous', 'anger', 'introspection', 'regret', 'melancholy', 'anxiety', 'suicidal', 'envy', 'downtrodden', 'contempt', 'joy', 'angry', 'exhilaration', 'nervousness', 'pleasure', 'playfulness', 'inspiration', 'suspicion', 'embarrassment', 'devastation', 'terror', 'concern', 'sadness', 'nothing', 'dissatisfied', 'energetic', 'affection', 'overwhelmed', 'hate', 'amusement', 'exuberance', 'morose', 'stupor', 'acting'}\n"
     ]
    }
   ],
   "source": [
    "print(k.entities())"
   ]
  },
  {
   "cell_type": "code",
   "execution_count": null,
   "id": "attended-mount",
   "metadata": {},
   "outputs": [],
   "source": []
  },
  {
   "cell_type": "code",
   "execution_count": 26,
   "id": "tested-schema",
   "metadata": {},
   "outputs": [
    {
     "name": "stdout",
     "output_type": "stream",
     "text": [
      "[('e.valence==positive', 'no'), ('e==happiness', 'no'), ('e.valence==negative', 'yes'), ('associated(e,happiness)', 'no'), ('e.activation==high', 'no'), ('e.activation==high', 'other'), ('cause(e,feelGood)', 'other'), ('e.valence==negative', 'no'), ('e.duration==long', 'no'), ('e.valence==positive', 'other'), ('e==happiness', 'yes'), ('e==depression', 'yes'), ('cause(something,e)', 'no'), ('directed(e,otherPerson)', 'yes'), ('directed(e,otherPerson)', 'other'), ('directed(e,otherPerson)', 'no'), ('e.duration==long', 'other'), ('cause(something,e)', 'other'), ('similar(e,happiness)', 'other'), ('e==hope', 'yes')]\n"
     ]
    }
   ],
   "source": [
    "print(k.most_informative_features(20))"
   ]
  },
  {
   "cell_type": "code",
   "execution_count": null,
   "id": "korean-viking",
   "metadata": {},
   "outputs": [],
   "source": []
  },
  {
   "cell_type": "code",
   "execution_count": null,
   "id": "confidential-habitat",
   "metadata": {},
   "outputs": [],
   "source": []
  },
  {
   "cell_type": "code",
   "execution_count": null,
   "id": "aerial-times",
   "metadata": {},
   "outputs": [],
   "source": []
  },
  {
   "cell_type": "code",
   "execution_count": null,
   "id": "generous-store",
   "metadata": {},
   "outputs": [],
   "source": []
  },
  {
   "cell_type": "code",
   "execution_count": null,
   "id": "digital-syndication",
   "metadata": {},
   "outputs": [],
   "source": []
  },
  {
   "cell_type": "code",
   "execution_count": null,
   "id": "original-extraction",
   "metadata": {},
   "outputs": [],
   "source": []
  },
  {
   "cell_type": "code",
   "execution_count": null,
   "id": "voluntary-campbell",
   "metadata": {},
   "outputs": [],
   "source": []
  },
  {
   "cell_type": "code",
   "execution_count": null,
   "id": "elegant-account",
   "metadata": {},
   "outputs": [],
   "source": []
  },
  {
   "cell_type": "code",
   "execution_count": null,
   "id": "ancient-lotus",
   "metadata": {},
   "outputs": [],
   "source": []
  },
  {
   "cell_type": "code",
   "execution_count": null,
   "id": "variable-orlando",
   "metadata": {},
   "outputs": [],
   "source": []
  },
  {
   "cell_type": "code",
   "execution_count": null,
   "id": "prescribed-country",
   "metadata": {},
   "outputs": [],
   "source": []
  }
 ],
 "metadata": {
  "kernelspec": {
   "display_name": "Python 3",
   "language": "python",
   "name": "python3"
  },
  "language_info": {
   "codemirror_mode": {
    "name": "ipython",
    "version": 3
   },
   "file_extension": ".py",
   "mimetype": "text/x-python",
   "name": "python",
   "nbconvert_exporter": "python",
   "pygments_lexer": "ipython3",
   "version": "3.7.9"
  }
 },
 "nbformat": 4,
 "nbformat_minor": 5
}
