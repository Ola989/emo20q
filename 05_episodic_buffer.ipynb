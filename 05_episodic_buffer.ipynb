{
 "cells": [
  {
   "cell_type": "code",
   "execution_count": 1,
   "id": "educated-function",
   "metadata": {},
   "outputs": [],
   "source": [
    "%load_ext autoreload\n",
    "%autoreload 2"
   ]
  },
  {
   "cell_type": "markdown",
   "id": "royal-commission",
   "metadata": {},
   "source": [
    "# Episodic Buffer\n",
    "\n",
    "This is used for recording the agent's experience, i.e. dialog history.  This is also where dialogs get saved to the database.\n",
    "\n",
    "Currently it just records everything.  To be more realistic, you might imagine something more limited, to capture the folk psychology idea that you can only hold 5-7 things in your working memory at a given time.\n",
    "\n",
    "It is a subclass of list. It works like a stack in that the dialog turns are appended/pushed into the list.  This is the stack used for the Generalised Pushdown Automaton\n"
   ]
  },
  {
   "cell_type": "code",
   "execution_count": 2,
   "id": "scenic-october",
   "metadata": {},
   "outputs": [],
   "source": [
    "from emo20q.episodicbuffer import (EpisodicBuffer, AgentUtt, UserUtt, Question, Answer, Turn)\n",
    "eb = EpisodicBuffer()"
   ]
  },
  {
   "cell_type": "code",
   "execution_count": 3,
   "id": "worse-murray",
   "metadata": {},
   "outputs": [],
   "source": [
    "eb.add(AgentUtt(\"Hello, want to play EMO20Q\"))"
   ]
  },
  {
   "cell_type": "code",
   "execution_count": 4,
   "id": "auburn-progressive",
   "metadata": {},
   "outputs": [],
   "source": [
    "eb.add(UserUtt(\"Sure, I'm ready\")) # let's say I picked \"love\""
   ]
  },
  {
   "cell_type": "code",
   "execution_count": 5,
   "id": "numerical-fence",
   "metadata": {},
   "outputs": [],
   "source": [
    "# ordinarily the dialog agent would be choosing/planning the questions, but now they are manually added"
   ]
  },
  {
   "cell_type": "code",
   "execution_count": 6,
   "id": "express-miami",
   "metadata": {},
   "outputs": [],
   "source": [
    "eb.add(Question(\"is it a positive emotion?\", \"e.valence==positive\"))"
   ]
  },
  {
   "cell_type": "code",
   "execution_count": 7,
   "id": "informative-ballot",
   "metadata": {},
   "outputs": [],
   "source": [
    "eb.add(Answer(\"yes\"))"
   ]
  },
  {
   "cell_type": "code",
   "execution_count": 8,
   "id": "empirical-staff",
   "metadata": {},
   "outputs": [
    {
     "data": {
      "text/plain": [
       "[<emo20q.episodicbuffer.AgentUtt at 0x10d5a8d50>,\n",
       " <emo20q.episodicbuffer.UserUtt at 0x10d5b58d0>,\n",
       " <emo20q.episodicbuffer.Turn at 0x10d5b5c10>]"
      ]
     },
     "execution_count": 8,
     "metadata": {},
     "output_type": "execute_result"
    }
   ],
   "source": [
    "[x for x in eb]"
   ]
  },
  {
   "cell_type": "code",
   "execution_count": 9,
   "id": "automated-hearing",
   "metadata": {},
   "outputs": [
    {
     "data": {
      "text/plain": [
       "{'e.valence==positive': 'yes'}"
      ]
     },
     "execution_count": 9,
     "metadata": {},
     "output_type": "execute_result"
    }
   ],
   "source": [
    "eb.getFeatures()"
   ]
  },
  {
   "cell_type": "code",
   "execution_count": 10,
   "id": "crude-aerospace",
   "metadata": {},
   "outputs": [],
   "source": [
    "eb.add(Question(\"is it an emotion that is directed at another person?\", \"directed(e,otherPerson)\"))"
   ]
  },
  {
   "cell_type": "code",
   "execution_count": 11,
   "id": "horizontal-clause",
   "metadata": {},
   "outputs": [
    {
     "data": {
      "text/plain": [
       "emo20q.episodicbuffer.AgentUtt"
      ]
     },
     "execution_count": 11,
     "metadata": {},
     "output_type": "execute_result"
    }
   ],
   "source": [
    "type(eb[0])"
   ]
  },
  {
   "cell_type": "code",
   "execution_count": 12,
   "id": "oriental-business",
   "metadata": {},
   "outputs": [
    {
     "data": {
      "text/plain": [
       "emo20q.episodicbuffer.Question"
      ]
     },
     "execution_count": 12,
     "metadata": {},
     "output_type": "execute_result"
    }
   ],
   "source": [
    "type(Question(\"is it an emotion that is directed at another person?\", \"directed(e,otherPerson)\"))"
   ]
  },
  {
   "cell_type": "code",
   "execution_count": 13,
   "id": "applicable-agent",
   "metadata": {},
   "outputs": [
    {
     "data": {
      "text/plain": [
       "True"
      ]
     },
     "execution_count": 13,
     "metadata": {},
     "output_type": "execute_result"
    }
   ],
   "source": [
    "isinstance(Question(\"is it an emotion that is directed at another person?\", \"directed(e,otherPerson)\"), Question)"
   ]
  },
  {
   "cell_type": "code",
   "execution_count": 14,
   "id": "received-discharge",
   "metadata": {},
   "outputs": [
    {
     "data": {
      "text/plain": [
       "[<emo20q.episodicbuffer.AgentUtt at 0x10d5a8d50>,\n",
       " <emo20q.episodicbuffer.UserUtt at 0x10d5b58d0>,\n",
       " <emo20q.episodicbuffer.Turn at 0x10d5b5c10>,\n",
       " <emo20q.episodicbuffer.Question at 0x10d5bdfd0>]"
      ]
     },
     "execution_count": 14,
     "metadata": {},
     "output_type": "execute_result"
    }
   ],
   "source": [
    "[x for x in eb]"
   ]
  },
  {
   "cell_type": "code",
   "execution_count": 15,
   "id": "developing-salad",
   "metadata": {},
   "outputs": [],
   "source": [
    "eb.add(Answer(\"yes\"))"
   ]
  },
  {
   "cell_type": "code",
   "execution_count": 16,
   "id": "essential-minnesota",
   "metadata": {},
   "outputs": [
    {
     "data": {
      "text/plain": [
       "[<emo20q.episodicbuffer.AgentUtt at 0x10d5a8d50>,\n",
       " <emo20q.episodicbuffer.UserUtt at 0x10d5b58d0>,\n",
       " <emo20q.episodicbuffer.Turn at 0x10d5b5c10>,\n",
       " <emo20q.episodicbuffer.Turn at 0x10d55e810>]"
      ]
     },
     "execution_count": 16,
     "metadata": {},
     "output_type": "execute_result"
    }
   ],
   "source": [
    "[x for x in eb]"
   ]
  },
  {
   "cell_type": "code",
   "execution_count": 17,
   "id": "arabic-reviewer",
   "metadata": {},
   "outputs": [
    {
     "data": {
      "text/plain": [
       "{'e.valence==positive': 'yes', 'directed(e,otherPerson)': 'yes'}"
      ]
     },
     "execution_count": 17,
     "metadata": {},
     "output_type": "execute_result"
    }
   ],
   "source": [
    "eb.getFeatures()"
   ]
  },
  {
   "cell_type": "code",
   "execution_count": 18,
   "id": "egyptian-sierra",
   "metadata": {},
   "outputs": [],
   "source": [
    "eb.add(Question(\"is it an emotion that lasts a long time?\", \"e.duration==long\"))"
   ]
  },
  {
   "cell_type": "code",
   "execution_count": 19,
   "id": "hindu-calgary",
   "metadata": {},
   "outputs": [
    {
     "data": {
      "text/plain": [
       "[<emo20q.episodicbuffer.AgentUtt at 0x10d5a8d50>,\n",
       " <emo20q.episodicbuffer.UserUtt at 0x10d5b58d0>,\n",
       " <emo20q.episodicbuffer.Turn at 0x10d5b5c10>,\n",
       " <emo20q.episodicbuffer.Turn at 0x10d55e810>,\n",
       " <emo20q.episodicbuffer.Question at 0x10d5d4b90>]"
      ]
     },
     "execution_count": 19,
     "metadata": {},
     "output_type": "execute_result"
    }
   ],
   "source": [
    "[x for x in eb]"
   ]
  },
  {
   "cell_type": "code",
   "execution_count": 20,
   "id": "perceived-retirement",
   "metadata": {},
   "outputs": [],
   "source": [
    "eb.add(Answer(\"yes\"))"
   ]
  },
  {
   "cell_type": "code",
   "execution_count": 21,
   "id": "optional-columbia",
   "metadata": {},
   "outputs": [
    {
     "data": {
      "text/plain": [
       "[<emo20q.episodicbuffer.AgentUtt at 0x10d5a8d50>,\n",
       " <emo20q.episodicbuffer.UserUtt at 0x10d5b58d0>,\n",
       " <emo20q.episodicbuffer.Turn at 0x10d5b5c10>,\n",
       " <emo20q.episodicbuffer.Turn at 0x10d55e810>,\n",
       " <emo20q.episodicbuffer.Turn at 0x10d5d8d90>]"
      ]
     },
     "execution_count": 21,
     "metadata": {},
     "output_type": "execute_result"
    }
   ],
   "source": [
    "[x for x in eb]"
   ]
  },
  {
   "cell_type": "code",
   "execution_count": 22,
   "id": "according-narrative",
   "metadata": {},
   "outputs": [
    {
     "data": {
      "text/plain": [
       "{'e.valence==positive': 'yes',\n",
       " 'directed(e,otherPerson)': 'yes',\n",
       " 'e.duration==long': 'yes'}"
      ]
     },
     "execution_count": 22,
     "metadata": {},
     "output_type": "execute_result"
    }
   ],
   "source": [
    "eb.getFeatures()"
   ]
  },
  {
   "cell_type": "code",
   "execution_count": 23,
   "id": "lovely-voltage",
   "metadata": {},
   "outputs": [],
   "source": [
    "from emo20q.semanticknowledge import SemanticKnowledge\n",
    "sk = SemanticKnowledge()"
   ]
  },
  {
   "cell_type": "code",
   "execution_count": 24,
   "id": "official-overview",
   "metadata": {},
   "outputs": [],
   "source": [
    "probdist = sk.prob_classify(eb.getFeatures())"
   ]
  },
  {
   "cell_type": "code",
   "execution_count": 25,
   "id": "overall-falls",
   "metadata": {},
   "outputs": [
    {
     "name": "stdout",
     "output_type": "stream",
     "text": [
      "love 0.5102070025409302\n",
      "happiness 0.1564047916146569\n",
      "concern 0.03878118972051296\n",
      "joy 0.02613064120205684\n",
      "hope 0.01468984459110339\n",
      "accepting 0.012961627580385342\n",
      "envy 0.011332165827422622\n",
      "anger 0.007791160831476774\n",
      "cheerfulness 0.006774610682014736\n",
      "relaxation 0.006532660300514218\n",
      "respect 0.006221581238584961\n",
      "enjoyment 0.006221581238584961\n",
      "courage 0.006221581238584961\n",
      "calm 0.006048759537513154\n",
      "pride 0.006048759537513154\n",
      "frustration 0.005805729020380928\n",
      "resentment 0.005690672972892381\n",
      "agitation 0.005400678158493891\n",
      "hatred 0.004888385258888188\n",
      "euphoria 0.004536569653134871\n",
      "mad 0.004536569653134865\n",
      "obsession 0.004536569653134865\n",
      "jealousy 0.004355106867009474\n",
      "proud 0.004320542526795115\n",
      "satisfaction 0.004320542526795115\n",
      "misery 0.003456434021436095\n",
      "relief 0.003258923505925461\n",
      "nostalgia 0.0032404068950963334\n",
      "ambivalence 0.0032404068950963334\n",
      "serenity 0.0032404068950963334\n",
      "thrill 0.003110790619292486\n",
      "elation 0.0029996909543177474\n",
      "excitement 0.002799711557363232\n",
      "discontentment 0.0025923255160770677\n",
      "surprise 0.0025182590727605846\n",
      "inquisitiveness 0.002430305171322253\n",
      "quixotic 0.002430305171322253\n",
      "enthusiasm 0.00225820356067158\n",
      "joyfulness 0.0020738604128616553\n",
      "patience 0.0020738604128616553\n",
      "playfulness 0.0020738604128616553\n",
      "let down 0.0020738604128616553\n",
      "curiosity 0.0020738604128616553\n",
      "caring 0.0020738604128616553\n",
      "inspiration 0.0020738604128616553\n",
      "educated 0.0020738604128616553\n",
      "adoration 0.0020738604128616553\n",
      "contentment 0.001774302797670529\n",
      "confusion 0.0017707577371357203\n",
      "remorse 0.0016936526705036829\n",
      "pity 0.0016130025433368407\n",
      "worry 0.001555395309646243\n",
      "shame 0.0015121898843782893\n",
      "astounded 0.0014581831027933505\n",
      "affection 0.0014401808422650373\n",
      "lust 0.0014401808422650373\n",
      "eagerness 0.0014401808422650373\n",
      "suffering 0.0011521446738120304\n",
      "sadness 0.0011302043111241263\n",
      "loneliness 0.0010887767167523691\n",
      "bravery 0.0010801356316987793\n",
      "hostility 0.0010801356316987793\n",
      "disappointment 0.0010369302064308277\n",
      "boredom 0.000950519355894926\n",
      "anxiety 0.000944347152285218\n",
      "disillusionment 0.0008641085053590238\n",
      "shyness 0.0008641085053590238\n",
      "stress 0.0008641085053590238\n",
      "hate 0.0008641085053590238\n",
      "dissatisfied 0.0008101017237740833\n",
      "melancholy 0.0007702910104914709\n",
      "apathy 0.0007258511445015786\n",
      "despise 0.0006912868042872176\n",
      "determination 0.0006912868042872176\n",
      "exuberance 0.0006912868042872176\n",
      "delirium 0.0006912868042872176\n",
      "entrancement 0.0006912868042872176\n",
      "sleepiness 0.0006912868042872176\n",
      "being appalled 0.0006912868042872176\n",
      "irritation 0.0006912868042872176\n",
      "excited 0.0006912868042872176\n",
      "maniacal 0.0006912868042872176\n",
      "exotic 0.0006912868042872176\n",
      "content 0.0006912868042872176\n",
      "devastation 0.0006912868042872176\n",
      "exhilaration 0.0006912868042872176\n",
      "feelingLucky 0.0006912868042872176\n",
      "stupor 0.0006912868042872176\n",
      "pessimism 0.0006912868042872176\n",
      "contempt 0.0006912868042872176\n",
      "suspicion 0.0006912868042872176\n",
      "outrage 0.0006912868042872176\n",
      "amusement 0.0006912868042872176\n",
      "aggravation 0.0006912868042872176\n",
      "admiration 0.0006912868042872176\n",
      "annoyed 0.0006912868042872176\n",
      "enamored 0.0006912868042872176\n",
      "morose 0.0006912868042872176\n",
      "delight 0.0006912868042872176\n",
      "awe 0.0006912868042872176\n",
      "introspection 0.0006912868042872176\n",
      "avarice 0.0006912868042872176\n",
      "insecurity 0.0006912868042872176\n",
      "downcast 0.0006912868042872176\n",
      "coldness 0.0006912868042872176\n",
      "loved 0.0006912868042872176\n",
      "pleasure 0.0006912868042872176\n",
      "nothing 0.0006912868042872176\n",
      "energetic 0.0006912868042872176\n",
      "ecstasy 0.0006912868042872176\n",
      "acting 0.0006912868042872176\n",
      "tiredness 0.0006740046341800376\n",
      "nervousness 0.000550869172166377\n",
      "fury 0.0005184651032154138\n",
      "overwhelmed 0.0004860610342644508\n",
      "conflicted 0.0004860610342644508\n",
      "depression 0.0004725593388682152\n",
      "regret 0.0004493364227866923\n",
      "disgust 0.00041970984546009694\n",
      "guilt 0.00041477208257233123\n",
      "exhaustion 0.00038404822460401064\n",
      "scared 0.00038404822460401064\n",
      "gratefulness 0.00038404822460401064\n",
      "thankfulness 0.00038404822460401064\n",
      "annoyance 0.0003226005086673683\n",
      "embarrassment 0.0002916366205586702\n",
      "angry 0.0002880361684530076\n",
      "distress 0.0002880361684530076\n",
      "sorrow 0.0002880361684530076\n",
      "aversion 0.0002304289347624056\n",
      "jubilance 0.0002304289347624056\n",
      "uninterested 0.0002304289347624056\n",
      "suicidal 0.0002304289347624056\n",
      "dread 0.0002304289347624056\n",
      "sarcasm 0.0002304289347624056\n",
      "shock 0.0002304289347624056\n",
      "maudlin 0.0002304289347624056\n",
      "tense 0.0002304289347624056\n",
      "upset 0.0002304289347624056\n",
      "empathy 0.0002304289347624056\n",
      "hopelessness 0.0002304289347624056\n",
      "alienation 0.0002304289347624056\n",
      "confidence 0.0002304289347624056\n",
      "mania 0.0002304289347624056\n",
      "irritated 0.0002304289347624056\n",
      "helpless 0.0002304289347624056\n",
      "ambiguity 0.0002304289347624056\n",
      "exasperation 0.0002304289347624056\n",
      "uncomfortable 0.0002304289347624056\n",
      "wariness 0.0002304289347624056\n",
      "grumpiness 0.0002304289347624056\n",
      "infuriation 0.0002304289347624056\n",
      "failure 0.0002304289347624056\n",
      "mischievous 0.0002304289347624056\n",
      "soberness 0.0002304289347624056\n",
      "glee 0.0002304289347624056\n",
      "jilted 0.0002304289347624056\n",
      "indifference 0.0002304289347624056\n",
      "dumbfounded 0.0002304289347624056\n",
      "unsure 0.0002304289347624056\n",
      "silly 0.0002304289347624056\n",
      "sympathy 0.0002304289347624056\n",
      "terror 0.0002304289347624056\n",
      "hunger 0.0002304289347624056\n",
      "downtrodden 0.0002304289347624056\n",
      "perplexity 0.00021602712633975594\n",
      "fear 0.00011783297800350315\n"
     ]
    }
   ],
   "source": [
    "for e in sorted(probdist.samples(), key=probdist.prob, reverse=True):\n",
    "    print(e, probdist.prob(e))\n"
   ]
  },
  {
   "cell_type": "markdown",
   "id": "smaller-coordinate",
   "metadata": {},
   "source": [
    "cool, \"love\" is at the top of the list!"
   ]
  },
  {
   "cell_type": "code",
   "execution_count": 26,
   "id": "searching-brazilian",
   "metadata": {},
   "outputs": [],
   "source": [
    "# When guessing the emotion use AgentUtt instead of question\n",
    "eb.add(AgentUtt(\"Did I guess correctly?\"))\n",
    "eb.add(UserUtt(\"yes!\"))"
   ]
  },
  {
   "cell_type": "code",
   "execution_count": 27,
   "id": "italic-envelope",
   "metadata": {},
   "outputs": [
    {
     "name": "stdout",
     "output_type": "stream",
     "text": [
      "{\n",
      "  \"container\": [\n",
      "    {\n",
      "      \"param\": {\n",
      "        \"text\": \"Hello, want to play EMO20Q\"\n",
      "      },\n",
      "      \"type\": \"AgentUtt\"\n",
      "    },\n",
      "    {\n",
      "      \"param\": {\n",
      "        \"text\": \"Sure, I'm ready\"\n",
      "      },\n",
      "      \"type\": \"UserUtt\"\n",
      "    },\n",
      "    {\n",
      "      \"container\": [\n",
      "        {\n",
      "          \"param\": {\n",
      "            \"gloss\": \"e.valence==positive\",\n",
      "            \"text\": \"is it a positive emotion?\"\n",
      "          },\n",
      "          \"type\": \"Question\"\n",
      "        },\n",
      "        {\n",
      "          \"param\": {\n",
      "            \"gloss\": null,\n",
      "            \"text\": \"yes\"\n",
      "          },\n",
      "          \"type\": \"Answer\"\n",
      "        }\n",
      "      ],\n",
      "      \"type\": \"Turn\"\n",
      "    },\n",
      "    {\n",
      "      \"container\": [\n",
      "        {\n",
      "          \"param\": {\n",
      "            \"gloss\": \"directed(e,otherPerson)\",\n",
      "            \"text\": \"is it an emotion that is directed at another person?\"\n",
      "          },\n",
      "          \"type\": \"Question\"\n",
      "        },\n",
      "        {\n",
      "          \"param\": {\n",
      "            \"gloss\": null,\n",
      "            \"text\": \"yes\"\n",
      "          },\n",
      "          \"type\": \"Answer\"\n",
      "        }\n",
      "      ],\n",
      "      \"type\": \"Turn\"\n",
      "    },\n",
      "    {\n",
      "      \"container\": [\n",
      "        {\n",
      "          \"param\": {\n",
      "            \"gloss\": \"e.duration==long\",\n",
      "            \"text\": \"is it an emotion that lasts a long time?\"\n",
      "          },\n",
      "          \"type\": \"Question\"\n",
      "        },\n",
      "        {\n",
      "          \"param\": {\n",
      "            \"gloss\": null,\n",
      "            \"text\": \"yes\"\n",
      "          },\n",
      "          \"type\": \"Answer\"\n",
      "        }\n",
      "      ],\n",
      "      \"type\": \"Turn\"\n",
      "    },\n",
      "    {\n",
      "      \"param\": {\n",
      "        \"text\": \"Did I guess correctly?\"\n",
      "      },\n",
      "      \"type\": \"AgentUtt\"\n",
      "    },\n",
      "    {\n",
      "      \"param\": {\n",
      "        \"text\": \"yes!\"\n",
      "      },\n",
      "      \"type\": \"UserUtt\"\n",
      "    }\n",
      "  ],\n",
      "  \"param\": {\n",
      "    \"date\": \"2021-4-10 5:44:11\",\n",
      "    \"experiment\": \"uncontrolled\",\n",
      "    \"provenance\": [\n",
      "      \"notebook\",\n",
      "      \"text\",\n",
      "      \"gpdaquestioner\",\n",
      "      \"human-computer\"\n",
      "    ],\n",
      "    \"wave\": \"n/a\"\n",
      "  },\n",
      "  \"type\": \"Dialog\"\n",
      "}\n"
     ]
    }
   ],
   "source": [
    "# save method for serializing the dialog to database (was CouchDB, now TBD)\n",
    "eb.save()"
   ]
  }
 ],
 "metadata": {
  "kernelspec": {
   "display_name": "Python 3",
   "language": "python",
   "name": "python3"
  },
  "language_info": {
   "codemirror_mode": {
    "name": "ipython",
    "version": 3
   },
   "file_extension": ".py",
   "mimetype": "text/x-python",
   "name": "python",
   "nbconvert_exporter": "python",
   "pygments_lexer": "ipython3",
   "version": "3.7.9"
  }
 },
 "nbformat": 4,
 "nbformat_minor": 5
}
