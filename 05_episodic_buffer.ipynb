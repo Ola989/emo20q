{
 "cells": [
  {
   "cell_type": "code",
   "execution_count": 1,
   "id": "educated-function",
   "metadata": {},
   "outputs": [],
   "source": [
    "%load_ext autoreload\n",
    "%autoreload 2"
   ]
  },
  {
   "cell_type": "markdown",
   "id": "royal-commission",
   "metadata": {},
   "source": [
    "# Episodic Buffer\n",
    "\n",
    "This is used for recording the agent's experience, i.e. dialog history.  This is also where dialogs get saved to the database.\n",
    "\n",
    "Currently it just records everything.  To be more realistic, you might imagine something more limited, to capture the folk psychology idea that you can only hold 5-7 things in your working memory at a given time.\n",
    "\n",
    "It is a subclass of list. It works like a stack in that the dialog turns are appended/pushed into the list.  This is the stack used for the Generalised Pushdown Automaton\n"
   ]
  },
  {
   "cell_type": "code",
   "execution_count": 2,
   "id": "scenic-october",
   "metadata": {},
   "outputs": [],
   "source": [
    "from emo20q.episodicbuffer import (EpisodicBuffer, AgentUtt, UserUtt, Question, Answer, Turn)\n",
    "eb = EpisodicBuffer()"
   ]
  },
  {
   "cell_type": "code",
   "execution_count": 3,
   "id": "worse-murray",
   "metadata": {},
   "outputs": [],
   "source": [
    "eb.add(AgentUtt(\"Hello, want to play EMO20Q\"))"
   ]
  },
  {
   "cell_type": "code",
   "execution_count": 4,
   "id": "auburn-progressive",
   "metadata": {},
   "outputs": [],
   "source": [
    "eb.add(UserUtt(\"Sure, I'm ready\")) # let's say I picked \"love\""
   ]
  },
  {
   "cell_type": "code",
   "execution_count": 5,
   "id": "numerical-fence",
   "metadata": {},
   "outputs": [],
   "source": [
    "# ordinarily the dialog agent would be choosing/planning the questions, but now they are manually added"
   ]
  },
  {
   "cell_type": "code",
   "execution_count": 6,
   "id": "express-miami",
   "metadata": {},
   "outputs": [],
   "source": [
    "eb.add(Question(\"is it a positive emotion?\", \"e.valence==positive\"))"
   ]
  },
  {
   "cell_type": "code",
   "execution_count": 7,
   "id": "informative-ballot",
   "metadata": {},
   "outputs": [],
   "source": [
    "eb.add(Answer(\"yes\"))"
   ]
  },
  {
   "cell_type": "code",
   "execution_count": 8,
   "id": "empirical-staff",
   "metadata": {},
   "outputs": [
    {
     "data": {
      "text/plain": [
       "[<emo20q.episodicbuffer.AgentUtt at 0x107c97b10>,\n",
       " <emo20q.episodicbuffer.UserUtt at 0x107ca1050>,\n",
       " <emo20q.episodicbuffer.Turn at 0x107ca1dd0>]"
      ]
     },
     "execution_count": 8,
     "metadata": {},
     "output_type": "execute_result"
    }
   ],
   "source": [
    "[x for x in eb]"
   ]
  },
  {
   "cell_type": "code",
   "execution_count": 9,
   "id": "automated-hearing",
   "metadata": {},
   "outputs": [
    {
     "data": {
      "text/plain": [
       "{'e.valence==positive': 'yes'}"
      ]
     },
     "execution_count": 9,
     "metadata": {},
     "output_type": "execute_result"
    }
   ],
   "source": [
    "eb.getFeatures()"
   ]
  },
  {
   "cell_type": "code",
   "execution_count": 10,
   "id": "crude-aerospace",
   "metadata": {},
   "outputs": [],
   "source": [
    "eb.add(Question(\"is it an emotion that is directed at another person?\", \"directed(e,otherPerson)\"))"
   ]
  },
  {
   "cell_type": "code",
   "execution_count": 11,
   "id": "horizontal-clause",
   "metadata": {},
   "outputs": [
    {
     "data": {
      "text/plain": [
       "emo20q.episodicbuffer.AgentUtt"
      ]
     },
     "execution_count": 11,
     "metadata": {},
     "output_type": "execute_result"
    }
   ],
   "source": [
    "type(eb[0])"
   ]
  },
  {
   "cell_type": "code",
   "execution_count": 12,
   "id": "oriental-business",
   "metadata": {},
   "outputs": [
    {
     "data": {
      "text/plain": [
       "emo20q.episodicbuffer.Question"
      ]
     },
     "execution_count": 12,
     "metadata": {},
     "output_type": "execute_result"
    }
   ],
   "source": [
    "type(Question(\"is it an emotion that is directed at another person?\", \"directed(e,otherPerson)\"))"
   ]
  },
  {
   "cell_type": "code",
   "execution_count": 13,
   "id": "applicable-agent",
   "metadata": {},
   "outputs": [
    {
     "data": {
      "text/plain": [
       "True"
      ]
     },
     "execution_count": 13,
     "metadata": {},
     "output_type": "execute_result"
    }
   ],
   "source": [
    "isinstance(Question(\"is it an emotion that is directed at another person?\", \"directed(e,otherPerson)\"), Question)"
   ]
  },
  {
   "cell_type": "code",
   "execution_count": 14,
   "id": "received-discharge",
   "metadata": {},
   "outputs": [
    {
     "data": {
      "text/plain": [
       "[<emo20q.episodicbuffer.AgentUtt at 0x107c97b10>,\n",
       " <emo20q.episodicbuffer.UserUtt at 0x107ca1050>,\n",
       " <emo20q.episodicbuffer.Turn at 0x107ca1dd0>,\n",
       " <emo20q.episodicbuffer.Question at 0x107cad750>]"
      ]
     },
     "execution_count": 14,
     "metadata": {},
     "output_type": "execute_result"
    }
   ],
   "source": [
    "[x for x in eb]"
   ]
  },
  {
   "cell_type": "code",
   "execution_count": 15,
   "id": "developing-salad",
   "metadata": {},
   "outputs": [],
   "source": [
    "eb.add(Answer(\"yes\"))"
   ]
  },
  {
   "cell_type": "code",
   "execution_count": 16,
   "id": "essential-minnesota",
   "metadata": {},
   "outputs": [
    {
     "data": {
      "text/plain": [
       "[<emo20q.episodicbuffer.AgentUtt at 0x107c97b10>,\n",
       " <emo20q.episodicbuffer.UserUtt at 0x107ca1050>,\n",
       " <emo20q.episodicbuffer.Turn at 0x107ca1dd0>,\n",
       " <emo20q.episodicbuffer.Turn at 0x107c13790>]"
      ]
     },
     "execution_count": 16,
     "metadata": {},
     "output_type": "execute_result"
    }
   ],
   "source": [
    "[x for x in eb]"
   ]
  },
  {
   "cell_type": "code",
   "execution_count": 17,
   "id": "arabic-reviewer",
   "metadata": {},
   "outputs": [
    {
     "data": {
      "text/plain": [
       "{'e.valence==positive': 'yes', 'directed(e,otherPerson)': 'yes'}"
      ]
     },
     "execution_count": 17,
     "metadata": {},
     "output_type": "execute_result"
    }
   ],
   "source": [
    "eb.getFeatures()"
   ]
  },
  {
   "cell_type": "code",
   "execution_count": 18,
   "id": "egyptian-sierra",
   "metadata": {},
   "outputs": [],
   "source": [
    "eb.add(Question(\"is it an emotion that lasts a long time?\", \"e.duration==long\"))"
   ]
  },
  {
   "cell_type": "code",
   "execution_count": 19,
   "id": "hindu-calgary",
   "metadata": {},
   "outputs": [
    {
     "data": {
      "text/plain": [
       "[<emo20q.episodicbuffer.AgentUtt at 0x107c97b10>,\n",
       " <emo20q.episodicbuffer.UserUtt at 0x107ca1050>,\n",
       " <emo20q.episodicbuffer.Turn at 0x107ca1dd0>,\n",
       " <emo20q.episodicbuffer.Turn at 0x107c13790>,\n",
       " <emo20q.episodicbuffer.Question at 0x107cc3150>]"
      ]
     },
     "execution_count": 19,
     "metadata": {},
     "output_type": "execute_result"
    }
   ],
   "source": [
    "[x for x in eb]"
   ]
  },
  {
   "cell_type": "code",
   "execution_count": 20,
   "id": "perceived-retirement",
   "metadata": {},
   "outputs": [],
   "source": [
    "eb.add(Answer(\"yes\"))"
   ]
  },
  {
   "cell_type": "code",
   "execution_count": 21,
   "id": "optional-columbia",
   "metadata": {},
   "outputs": [
    {
     "data": {
      "text/plain": [
       "[<emo20q.episodicbuffer.AgentUtt at 0x107c97b10>,\n",
       " <emo20q.episodicbuffer.UserUtt at 0x107ca1050>,\n",
       " <emo20q.episodicbuffer.Turn at 0x107ca1dd0>,\n",
       " <emo20q.episodicbuffer.Turn at 0x107c13790>,\n",
       " <emo20q.episodicbuffer.Turn at 0x107cc8410>]"
      ]
     },
     "execution_count": 21,
     "metadata": {},
     "output_type": "execute_result"
    }
   ],
   "source": [
    "[x for x in eb]"
   ]
  },
  {
   "cell_type": "code",
   "execution_count": 22,
   "id": "according-narrative",
   "metadata": {},
   "outputs": [
    {
     "data": {
      "text/plain": [
       "{'e.valence==positive': 'yes',\n",
       " 'directed(e,otherPerson)': 'yes',\n",
       " 'e.duration==long': 'yes'}"
      ]
     },
     "execution_count": 22,
     "metadata": {},
     "output_type": "execute_result"
    }
   ],
   "source": [
    "eb.getFeatures()"
   ]
  },
  {
   "cell_type": "code",
   "execution_count": 23,
   "id": "lovely-voltage",
   "metadata": {},
   "outputs": [],
   "source": [
    "from emo20q.semanticknowledge import SemanticKnowledge\n",
    "sk = SemanticKnowledge()"
   ]
  },
  {
   "cell_type": "code",
   "execution_count": 24,
   "id": "official-overview",
   "metadata": {},
   "outputs": [],
   "source": [
    "probdist = sk.prob_classify(eb.getFeatures())"
   ]
  },
  {
   "cell_type": "code",
   "execution_count": 25,
   "id": "overall-falls",
   "metadata": {},
   "outputs": [
    {
     "name": "stdout",
     "output_type": "stream",
     "text": [
      "love 0.5102070025409318\n",
      "happiness 0.1564047916146574\n",
      "concern 0.03878118972051308\n",
      "joy 0.02613064120205692\n",
      "hope 0.014689844591103438\n",
      "accepting 0.012961627580385382\n",
      "envy 0.011332165827422656\n",
      "anger 0.007791160831476797\n",
      "cheerfulness 0.006774610682014757\n",
      "relaxation 0.006532660300514238\n",
      "enjoyment 0.00622158123858498\n",
      "respect 0.00622158123858498\n",
      "courage 0.00622158123858498\n",
      "calm 0.006048759537513172\n",
      "pride 0.006048759537513172\n",
      "frustration 0.005805729020380945\n",
      "resentment 0.0056906729728923985\n",
      "agitation 0.005400678158493907\n",
      "hatred 0.004888385258888204\n",
      "euphoria 0.0045365696531348846\n",
      "mad 0.0045365696531348785\n",
      "obsession 0.0045365696531348785\n",
      "jealousy 0.004355106867009487\n",
      "proud 0.004320542526795128\n",
      "satisfaction 0.004320542526795128\n",
      "misery 0.0034564340214361033\n",
      "relief 0.003258923505925469\n",
      "ambivalence 0.0032404068950963455\n",
      "nostalgia 0.0032404068950963455\n",
      "serenity 0.0032404068950963455\n",
      "thrill 0.003110790619292494\n",
      "elation 0.0029996909543177587\n",
      "excitement 0.002799711557363242\n",
      "discontentment 0.0025923255160770773\n",
      "surprise 0.0025182590727605906\n",
      "quixotic 0.0024303051713222587\n",
      "inquisitiveness 0.0024303051713222587\n",
      "enthusiasm 0.002258203560671586\n",
      "caring 0.00207386041286166\n",
      "adoration 0.00207386041286166\n",
      "curiosity 0.00207386041286166\n",
      "let down 0.00207386041286166\n",
      "inspiration 0.00207386041286166\n",
      "educated 0.00207386041286166\n",
      "joyfulness 0.00207386041286166\n",
      "playfulness 0.00207386041286166\n",
      "patience 0.00207386041286166\n",
      "contentment 0.0017743027976705333\n",
      "confusion 0.0017707577371357246\n",
      "remorse 0.0016936526705036892\n",
      "pity 0.0016130025433368468\n",
      "worry 0.001555395309646247\n",
      "shame 0.001512189884378293\n",
      "astounded 0.001458183102793356\n",
      "lust 0.0014401808422650425\n",
      "affection 0.0014401808422650425\n",
      "eagerness 0.0014401808422650425\n",
      "suffering 0.0011521446738120345\n",
      "sadness 0.0011302043111241305\n",
      "loneliness 0.0010887767167523717\n",
      "bravery 0.001080135631698782\n",
      "hostility 0.001080135631698782\n",
      "disappointment 0.00103693020643083\n",
      "boredom 0.0009505193558949284\n",
      "anxiety 0.0009443471522852214\n",
      "disillusionment 0.0008641085053590258\n",
      "stress 0.0008641085053590258\n",
      "shyness 0.0008641085053590258\n",
      "hate 0.0008641085053590258\n",
      "dissatisfied 0.0008101017237740864\n",
      "melancholy 0.0007702910104914737\n",
      "apathy 0.0007258511445015812\n",
      "devastation 0.0006912868042872201\n",
      "ecstasy 0.0006912868042872201\n",
      "sleepiness 0.0006912868042872201\n",
      "entrancement 0.0006912868042872201\n",
      "acting 0.0006912868042872201\n",
      "loved 0.0006912868042872201\n",
      "awe 0.0006912868042872201\n",
      "delirium 0.0006912868042872201\n",
      "introspection 0.0006912868042872201\n",
      "aggravation 0.0006912868042872201\n",
      "outrage 0.0006912868042872201\n",
      "admiration 0.0006912868042872201\n",
      "pleasure 0.0006912868042872201\n",
      "despise 0.0006912868042872201\n",
      "maniacal 0.0006912868042872201\n",
      "irritation 0.0006912868042872201\n",
      "pessimism 0.0006912868042872201\n",
      "being appalled 0.0006912868042872201\n",
      "amusement 0.0006912868042872201\n",
      "content 0.0006912868042872201\n",
      "morose 0.0006912868042872201\n",
      "enamored 0.0006912868042872201\n",
      "coldness 0.0006912868042872201\n",
      "annoyed 0.0006912868042872201\n",
      "stupor 0.0006912868042872201\n",
      "energetic 0.0006912868042872201\n",
      "determination 0.0006912868042872201\n",
      "suspicion 0.0006912868042872201\n",
      "nothing 0.0006912868042872201\n",
      "insecurity 0.0006912868042872201\n",
      "exhilaration 0.0006912868042872201\n",
      "contempt 0.0006912868042872201\n",
      "feelingLucky 0.0006912868042872201\n",
      "exotic 0.0006912868042872201\n",
      "delight 0.0006912868042872201\n",
      "downcast 0.0006912868042872201\n",
      "exuberance 0.0006912868042872201\n",
      "avarice 0.0006912868042872201\n",
      "excited 0.0006912868042872201\n",
      "tiredness 0.00067400463418004\n",
      "nervousness 0.0005508691721663791\n",
      "fury 0.000518465103215415\n",
      "conflicted 0.000486061034264452\n",
      "overwhelmed 0.000486061034264452\n",
      "depression 0.00047255933886821696\n",
      "regret 0.00044933642278669345\n",
      "disgust 0.00041970984546009797\n",
      "guilt 0.0004147720825723322\n",
      "exhaustion 0.00038404822460401156\n",
      "scared 0.00038404822460401156\n",
      "thankfulness 0.00038404822460401156\n",
      "gratefulness 0.00038404822460401156\n",
      "annoyance 0.0003226005086673695\n",
      "embarrassment 0.0002916366205586713\n",
      "sorrow 0.00028803616845300863\n",
      "angry 0.00028803616845300863\n",
      "distress 0.00028803616845300863\n",
      "hunger 0.00023042893476240645\n",
      "grumpiness 0.00023042893476240645\n",
      "uncomfortable 0.00023042893476240645\n",
      "aversion 0.00023042893476240645\n",
      "indifference 0.00023042893476240645\n",
      "jilted 0.00023042893476240645\n",
      "unsure 0.00023042893476240645\n",
      "suicidal 0.00023042893476240645\n",
      "maudlin 0.00023042893476240645\n",
      "helpless 0.00023042893476240645\n",
      "shock 0.00023042893476240645\n",
      "sympathy 0.00023042893476240645\n",
      "alienation 0.00023042893476240645\n",
      "upset 0.00023042893476240645\n",
      "dread 0.00023042893476240645\n",
      "uninterested 0.00023042893476240645\n",
      "hopelessness 0.00023042893476240645\n",
      "soberness 0.00023042893476240645\n",
      "wariness 0.00023042893476240645\n",
      "confidence 0.00023042893476240645\n",
      "mischievous 0.00023042893476240645\n",
      "ambiguity 0.00023042893476240645\n",
      "infuriation 0.00023042893476240645\n",
      "tense 0.00023042893476240645\n",
      "glee 0.00023042893476240645\n",
      "failure 0.00023042893476240645\n",
      "silly 0.00023042893476240645\n",
      "terror 0.00023042893476240645\n",
      "sarcasm 0.00023042893476240645\n",
      "empathy 0.00023042893476240645\n",
      "jubilance 0.00023042893476240645\n",
      "dumbfounded 0.00023042893476240645\n",
      "irritated 0.00023042893476240645\n",
      "exasperation 0.00023042893476240645\n",
      "mania 0.00023042893476240645\n",
      "downtrodden 0.00023042893476240645\n",
      "perplexity 0.00021602712633975673\n",
      "fear 0.00011783297800350359\n"
     ]
    }
   ],
   "source": [
    "for e in sorted(probdist.samples(), key=probdist.prob, reverse=True):\n",
    "    print(e, probdist.prob(e))\n"
   ]
  },
  {
   "cell_type": "markdown",
   "id": "smaller-coordinate",
   "metadata": {},
   "source": [
    "cool, \"love\" is at the top of the list!"
   ]
  },
  {
   "cell_type": "code",
   "execution_count": 26,
   "id": "searching-brazilian",
   "metadata": {},
   "outputs": [],
   "source": [
    "# When guessing the emotion use AgentUtt instead of question\n",
    "eb.add(AgentUtt(\"Did I guess correctly?\"))\n",
    "eb.add(UserUtt(\"yes!\"))"
   ]
  },
  {
   "cell_type": "code",
   "execution_count": 27,
   "id": "italic-envelope",
   "metadata": {},
   "outputs": [
    {
     "name": "stdout",
     "output_type": "stream",
     "text": [
      "{\n",
      "  \"container\": [\n",
      "    {\n",
      "      \"param\": {\n",
      "        \"text\": \"Hello, want to play EMO20Q\"\n",
      "      },\n",
      "      \"type\": \"AgentUtt\"\n",
      "    },\n",
      "    {\n",
      "      \"param\": {\n",
      "        \"text\": \"Sure, I'm ready\"\n",
      "      },\n",
      "      \"type\": \"UserUtt\"\n",
      "    },\n",
      "    {\n",
      "      \"container\": [\n",
      "        {\n",
      "          \"param\": {\n",
      "            \"gloss\": \"e.valence==positive\",\n",
      "            \"text\": \"is it a positive emotion?\"\n",
      "          },\n",
      "          \"type\": \"Question\"\n",
      "        },\n",
      "        {\n",
      "          \"param\": {\n",
      "            \"gloss\": null,\n",
      "            \"text\": \"yes\"\n",
      "          },\n",
      "          \"type\": \"Answer\"\n",
      "        }\n",
      "      ],\n",
      "      \"type\": \"Turn\"\n",
      "    },\n",
      "    {\n",
      "      \"container\": [\n",
      "        {\n",
      "          \"param\": {\n",
      "            \"gloss\": \"directed(e,otherPerson)\",\n",
      "            \"text\": \"is it an emotion that is directed at another person?\"\n",
      "          },\n",
      "          \"type\": \"Question\"\n",
      "        },\n",
      "        {\n",
      "          \"param\": {\n",
      "            \"gloss\": null,\n",
      "            \"text\": \"yes\"\n",
      "          },\n",
      "          \"type\": \"Answer\"\n",
      "        }\n",
      "      ],\n",
      "      \"type\": \"Turn\"\n",
      "    },\n",
      "    {\n",
      "      \"container\": [\n",
      "        {\n",
      "          \"param\": {\n",
      "            \"gloss\": \"e.duration==long\",\n",
      "            \"text\": \"is it an emotion that lasts a long time?\"\n",
      "          },\n",
      "          \"type\": \"Question\"\n",
      "        },\n",
      "        {\n",
      "          \"param\": {\n",
      "            \"gloss\": null,\n",
      "            \"text\": \"yes\"\n",
      "          },\n",
      "          \"type\": \"Answer\"\n",
      "        }\n",
      "      ],\n",
      "      \"type\": \"Turn\"\n",
      "    },\n",
      "    {\n",
      "      \"param\": {\n",
      "        \"text\": \"Did I guess correctly?\"\n",
      "      },\n",
      "      \"type\": \"AgentUtt\"\n",
      "    },\n",
      "    {\n",
      "      \"param\": {\n",
      "        \"text\": \"yes!\"\n",
      "      },\n",
      "      \"type\": \"UserUtt\"\n",
      "    }\n",
      "  ],\n",
      "  \"param\": {\n",
      "    \"date\": \"2021-3-26 1:50:53\",\n",
      "    \"experiment\": \"uncontrolled\",\n",
      "    \"provenance\": [\n",
      "      \"notebook\",\n",
      "      \"text\",\n",
      "      \"gpdaquestioner\",\n",
      "      \"human-computer\"\n",
      "    ],\n",
      "    \"wave\": \"n/a\"\n",
      "  },\n",
      "  \"type\": \"Dialog\"\n",
      "}\n"
     ]
    }
   ],
   "source": [
    "# save method for serializing the dialog to database (was CouchDB, now TBD)\n",
    "eb.save()"
   ]
  }
 ],
 "metadata": {
  "kernelspec": {
   "display_name": "Python 3",
   "language": "python",
   "name": "python3"
  },
  "language_info": {
   "codemirror_mode": {
    "name": "ipython",
    "version": 3
   },
   "file_extension": ".py",
   "mimetype": "text/x-python",
   "name": "python",
   "nbconvert_exporter": "python",
   "pygments_lexer": "ipython3",
   "version": "3.7.9"
  }
 },
 "nbformat": 4,
 "nbformat_minor": 5
}
