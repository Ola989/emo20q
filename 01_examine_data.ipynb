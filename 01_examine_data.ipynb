{
 "cells": [
  {
   "cell_type": "code",
   "execution_count": 1,
   "id": "lesbian-finger",
   "metadata": {},
   "outputs": [],
   "source": [
    "%load_ext autoreload\n",
    "%autoreload 2"
   ]
  },
  {
   "cell_type": "markdown",
   "id": "similar-integration",
   "metadata": {},
   "source": [
    "# load human-human data"
   ]
  },
  {
   "cell_type": "code",
   "execution_count": 3,
   "id": "intended-sperm",
   "metadata": {},
   "outputs": [],
   "source": [
    "from emo20q.gamedata import HumanHumanTournament\n",
    "hht = HumanHumanTournament()"
   ]
  },
  {
   "cell_type": "code",
   "execution_count": 30,
   "id": "pregnant-association",
   "metadata": {},
   "outputs": [
    {
     "data": {
      "text/plain": [
       "110"
      ]
     },
     "execution_count": 30,
     "metadata": {},
     "output_type": "execute_result"
    }
   ],
   "source": [
    "# how many human matches/games are there?\n",
    "len(hht.matches())"
   ]
  },
  {
   "cell_type": "code",
   "execution_count": 9,
   "id": "german-trade",
   "metadata": {},
   "outputs": [
    {
     "name": "stdout",
     "output_type": "stream",
     "text": [
      "Questioner: is it humorous one?\n",
      "Answerer:   no, serious.\n",
      "\n",
      "Questioner: kind of a nightmare?\n",
      "Answerer:   no, not at all\n",
      "\n",
      "Questioner: is it associated with sadness\n",
      "Answerer:   no\n",
      "\n",
      "Questioner: would you feel this in a helpless situation?\n",
      "Answerer:   no... that's number 4.\n",
      "\n",
      "Questioner: desperate\n",
      "Answerer:   no\n",
      "\n",
      "Questioner: devotion kind?\n",
      "Answerer:   no.  It can be, but not necessarily\n",
      "\n",
      "Questioner: I have to get out. what is it?\n",
      "Answerer:   okay... it's \"thankful\"\n",
      "\n"
     ]
    }
   ],
   "source": [
    "# examine match n\n",
    "n = 10\n",
    "match = hht.matches()[n]\n",
    "for t in match.turns():\n",
    "    print(f\"Questioner: {t.q}\")\n",
    "    print(f\"Answerer:   {t.a}\")\n",
    "    print()\n",
    "          "
   ]
  },
  {
   "cell_type": "code",
   "execution_count": 14,
   "id": "quantitative-heath",
   "metadata": {},
   "outputs": [
    {
     "name": "stdout",
     "output_type": "stream",
     "text": [
      "Questioner: is it humorous one?\n",
      "  qgloss:subset(e,humorous)\n",
      "Answerer:   no, serious.\n",
      "  agloss:no\n",
      "\n",
      "Questioner: kind of a nightmare?\n",
      "  qgloss:subset(e,nightmare)\n",
      "Answerer:   no, not at all\n",
      "  agloss:no\n",
      "\n",
      "Questioner: is it associated with sadness\n",
      "  qgloss:associated(e,sadness)\n",
      "Answerer:   no\n",
      "  agloss:no\n",
      "\n",
      "Questioner: would you feel this in a helpless situation?\n",
      "  qgloss:situation(e,helpless)\n",
      "Answerer:   no... that's number 4.\n",
      "  agloss:no,status\n",
      "\n",
      "Questioner: desperate\n",
      "  qgloss:e==despair\n",
      "Answerer:   no\n",
      "  agloss:no\n",
      "\n",
      "Questioner: devotion kind?\n",
      "  qgloss:subset(e,devotion)\n",
      "Answerer:   no.  It can be, but not necessarily\n",
      "  agloss:possible:yes,necessary:no\n",
      "\n",
      "Questioner: I have to get out. what is it?\n",
      "  qgloss:giveup\n",
      "Answerer:   okay... it's \"thankful\"\n",
      "  agloss:answer,done\n",
      "\n"
     ]
    }
   ],
   "source": [
    "# check out semantic annotations/glosses\n",
    "n = 10\n",
    "match = hht.matches()[n]\n",
    "for t in match.turns():\n",
    "    print(f\"Questioner: {t.q}\")\n",
    "    print(f\"  qgloss:{t.qgloss}\")\n",
    "    print(f\"Answerer:   {t.a}\")\n",
    "    print(f\"  agloss:{t.agloss}\")\n",
    "    print()\n",
    "    "
   ]
  },
  {
   "cell_type": "code",
   "execution_count": 32,
   "id": "clinical-witch",
   "metadata": {},
   "outputs": [
    {
     "name": "stdout",
     "output_type": "stream",
     "text": [
      "the emotion of this match was: thankfulness\n",
      "it started at 2011-02-14 16:04:52\n",
      "this match had 9 questions\n",
      "the outcome was: failure/giveup\n"
     ]
    }
   ],
   "source": [
    "# examine match-level info\n",
    "n = 10\n",
    "match = hht.matches()[n]\n",
    "print(f\"the emotion of this match was: {match._emotion}\")\n",
    "print(f\"it started at {match.start}\")\n",
    "print(f\"this match had {match._questions} questions\")\n",
    "print(f\"the outcome was: {match._outcome}\")\n",
    "#dir(match)"
   ]
  },
  {
   "cell_type": "code",
   "execution_count": 35,
   "id": "planned-exclusion",
   "metadata": {},
   "outputs": [
    {
     "data": {
      "text/plain": [
       "['admiration',\n",
       " 'adoration',\n",
       " 'affection',\n",
       " 'affection/love',\n",
       " 'amusement',\n",
       " 'anger',\n",
       " 'annoyance',\n",
       " 'annoyance/irritated',\n",
       " 'anxiety',\n",
       " 'apathy/uninterested',\n",
       " 'awe',\n",
       " 'boredom',\n",
       " 'bravery',\n",
       " 'calm',\n",
       " 'cheerfulness',\n",
       " 'confidence',\n",
       " 'confusion',\n",
       " 'contempt',\n",
       " 'contentment',\n",
       " 'contentment/calm',\n",
       " 'depression',\n",
       " 'depression/misery',\n",
       " 'devastation',\n",
       " 'disappointment',\n",
       " 'disgust',\n",
       " 'dread/hopelessness',\n",
       " 'eagerness/determination',\n",
       " 'embarrassment',\n",
       " 'enthusiasm',\n",
       " 'enthusiasm/eagerness',\n",
       " 'envy',\n",
       " 'envy/jealousy',\n",
       " 'exasperation',\n",
       " 'excitement',\n",
       " 'exhaustion',\n",
       " 'exhilaration/thrill',\n",
       " 'fear/distress',\n",
       " 'fear/scared',\n",
       " 'frustration',\n",
       " 'fury',\n",
       " 'glee',\n",
       " 'gratefulness',\n",
       " 'grumpiness',\n",
       " 'guilt',\n",
       " 'guilt/regret',\n",
       " 'happiness',\n",
       " 'helpless',\n",
       " 'hope',\n",
       " 'hope/feelingLucky',\n",
       " 'insecurity/shyness',\n",
       " 'jealousy',\n",
       " 'jealousy/envy',\n",
       " 'joy',\n",
       " 'loneliness',\n",
       " 'love',\n",
       " 'mad/anger',\n",
       " 'melancholy',\n",
       " 'pity/sympathy',\n",
       " 'pride',\n",
       " 'proud',\n",
       " 'regret',\n",
       " 'relief',\n",
       " 'sadness',\n",
       " 'satisfaction',\n",
       " 'serenity',\n",
       " 'shame',\n",
       " 'shock',\n",
       " 'shyness',\n",
       " 'silly',\n",
       " 'soberness',\n",
       " 'sorrow/sadness',\n",
       " 'stress',\n",
       " 'suffering',\n",
       " 'surprise',\n",
       " 'tense/uncomfortable',\n",
       " 'terror',\n",
       " 'thankfulness',\n",
       " 'thrill',\n",
       " 'thrill/entrancement',\n",
       " 'tiredness',\n",
       " 'wariness',\n",
       " 'worry',\n",
       " 'worry/anxiety',\n",
       " 'worry/scared']"
      ]
     },
     "execution_count": 35,
     "metadata": {},
     "output_type": "execute_result"
    }
   ],
   "source": [
    "emotions = set([m._emotion for m in hht.matches()])\n",
    "sorted(emotions)"
   ]
  },
  {
   "cell_type": "markdown",
   "id": "absent-reliance",
   "metadata": {},
   "source": [
    "***\n",
    "\n",
    "# load human-computer pilot data"
   ]
  },
  {
   "cell_type": "code",
   "execution_count": 25,
   "id": "regular-sociology",
   "metadata": {},
   "outputs": [],
   "source": [
    "from emo20q.gamedata import HumanComputerTournament\n",
    "hcp = HumanComputerTournament()"
   ]
  },
  {
   "cell_type": "code",
   "execution_count": 31,
   "id": "charming-angel",
   "metadata": {},
   "outputs": [
    {
     "data": {
      "text/plain": [
       "110"
      ]
     },
     "execution_count": 31,
     "metadata": {},
     "output_type": "execute_result"
    }
   ],
   "source": [
    "# how many human matches/games are there?\n",
    "len(hcp.matches())"
   ]
  },
  {
   "cell_type": "markdown",
   "id": "convertible-collectible",
   "metadata": {},
   "source": [
    "kind of odd that it's the same number of turns as before, but the data is different..."
   ]
  },
  {
   "cell_type": "code",
   "execution_count": 50,
   "id": "embedded-spice",
   "metadata": {},
   "outputs": [
    {
     "name": "stdout",
     "output_type": "stream",
     "text": [
      "Questioner: e.valence==positive\n",
      "Answerer:   No.\n",
      "\n"
     ]
    }
   ],
   "source": [
    "# examine match n\n",
    "n = 10\n",
    "match = hcp.matches()[n]\n",
    "for t in match.turns():\n",
    "    print(f\"Questioner: {t.qgloss}\")\n",
    "    print(f\"Answerer:   {t.a}\")\n",
    "    print()"
   ]
  },
  {
   "cell_type": "markdown",
   "id": "damaged-northwest",
   "metadata": {},
   "source": [
    "Note: the actual question text was not recorded in the pilot, just the underlying semantic gloss"
   ]
  },
  {
   "cell_type": "code",
   "execution_count": 44,
   "id": "innovative-badge",
   "metadata": {},
   "outputs": [
    {
     "name": "stdout",
     "output_type": "stream",
     "text": [
      "the emotion of this match was: anger\n"
     ]
    },
    {
     "data": {
      "text/plain": [
       "['__class__',\n",
       " '__delattr__',\n",
       " '__dict__',\n",
       " '__dir__',\n",
       " '__doc__',\n",
       " '__eq__',\n",
       " '__format__',\n",
       " '__ge__',\n",
       " '__getattribute__',\n",
       " '__gt__',\n",
       " '__hash__',\n",
       " '__init__',\n",
       " '__init_subclass__',\n",
       " '__le__',\n",
       " '__lt__',\n",
       " '__module__',\n",
       " '__ne__',\n",
       " '__new__',\n",
       " '__reduce__',\n",
       " '__reduce_ex__',\n",
       " '__repr__',\n",
       " '__setattr__',\n",
       " '__sizeof__',\n",
       " '__str__',\n",
       " '__subclasshook__',\n",
       " '__weakref__',\n",
       " '_emotion',\n",
       " '_turns',\n",
       " 'emotion',\n",
       " 'readTurns',\n",
       " 'turns']"
      ]
     },
     "execution_count": 44,
     "metadata": {},
     "output_type": "execute_result"
    }
   ],
   "source": [
    "# examine match-level info\n",
    "n = 10\n",
    "match = hcp.matches()[n]\n",
    "print(f\"the emotion of this match was: {match._emotion}\")\n",
    "#print(f\"this match had {match._questions} questions\")\n",
    "#print(f\"the outcome was: {match._outcome}\")\n",
    "# doesn't have questions or outcome\n",
    "dir(match)"
   ]
  },
  {
   "cell_type": "code",
   "execution_count": 37,
   "id": "collective-surname",
   "metadata": {},
   "outputs": [
    {
     "data": {
      "text/plain": [
       "['acting',\n",
       " 'agitation',\n",
       " 'anger',\n",
       " 'annoyed',\n",
       " 'apathy',\n",
       " 'cheerfulness',\n",
       " 'confusion',\n",
       " 'depression',\n",
       " 'disappointment',\n",
       " 'disgust',\n",
       " 'dissatisfied',\n",
       " 'dumbfounded',\n",
       " 'elation',\n",
       " 'embarrassment',\n",
       " 'envy',\n",
       " 'euphoria',\n",
       " 'excited',\n",
       " 'excitement',\n",
       " 'fear',\n",
       " 'frustration',\n",
       " 'fury',\n",
       " 'happiness',\n",
       " 'hatred',\n",
       " 'hope',\n",
       " 'hostility',\n",
       " 'jealousy',\n",
       " 'jilted',\n",
       " 'let down',\n",
       " 'love',\n",
       " 'lust',\n",
       " 'nervousness',\n",
       " 'nostalgia',\n",
       " 'nothing',\n",
       " 'obsession',\n",
       " 'pride',\n",
       " 'proud',\n",
       " 'regret',\n",
       " 'relaxation',\n",
       " 'remorse',\n",
       " 'resentment',\n",
       " 'sadness',\n",
       " 'sarcasm',\n",
       " 'sorrow',\n",
       " 'surprise',\n",
       " 'suspicion',\n",
       " 'thankfulness/gratefulness',\n",
       " 'tiredness']"
      ]
     },
     "execution_count": 37,
     "metadata": {},
     "output_type": "execute_result"
    }
   ],
   "source": [
    "emotions = set([m._emotion for m in hcp.matches()])\n",
    "sorted(emotions)"
   ]
  },
  {
   "cell_type": "markdown",
   "id": "theoretical-competition",
   "metadata": {},
   "source": [
    "***\n",
    "# load human-computer mturk data"
   ]
  },
  {
   "cell_type": "code",
   "execution_count": 2,
   "id": "color-management",
   "metadata": {},
   "outputs": [
    {
     "data": {
      "text/plain": [
       "349"
      ]
     },
     "execution_count": 2,
     "metadata": {},
     "output_type": "execute_result"
    }
   ],
   "source": [
    "from emo20q.gamedata import HumanComputerCouchJsonTournament\n",
    "hcmt = HumanComputerCouchJsonTournament()\n",
    "len(hcmt.matches())"
   ]
  },
  {
   "cell_type": "code",
   "execution_count": 3,
   "id": "broke-massage",
   "metadata": {},
   "outputs": [
    {
     "name": "stdout",
     "output_type": "stream",
     "text": [
      "melancholy\n",
      "\n",
      "Questioner: Ok, let me see here... \n",
      "ok, is it a positive emotion?\n",
      "  qgloss:e.valence==positive\n",
      "Answerer:   no\n",
      "  agloss:None\n",
      "\n",
      "Questioner: ok is it a negative emotion?\n",
      "  qgloss:e.valence==negative\n",
      "Answerer:   yes\n",
      "  agloss:None\n",
      "\n",
      "Questioner: is it active?\n",
      "  qgloss:e.activation==high\n",
      "Answerer:   no\n",
      "  agloss:None\n",
      "\n",
      "Questioner: can you also feel the emotion about yourself?\n",
      "  qgloss:directed(e,self)\n",
      "Answerer:   yes\n",
      "  agloss:None\n",
      "\n",
      "Questioner: is it an emotion that lasts a long time, generally? 4\n",
      "  qgloss:e.duration==long\n",
      "Answerer:   yes\n",
      "  agloss:None\n",
      "\n",
      "Questioner: is it depression?\n",
      "  qgloss:e==depression\n",
      "Answerer:   no\n",
      "  agloss:None\n",
      "\n",
      "Questioner: is it frustrated?\n",
      "  qgloss:e==frustration\n",
      "Answerer:   no\n",
      "  agloss:None\n",
      "\n",
      "Questioner: is it sadness?\n",
      "  qgloss:e==sadness\n",
      "Answerer:   yes\n",
      "  agloss:None\n",
      "\n",
      "Questioner: hmm, is it confused?\n",
      "  qgloss:e==confusion\n",
      "Answerer:   no\n",
      "  agloss:None\n",
      "\n",
      "Questioner: is it obsession?\n",
      "  qgloss:e==obsession\n",
      "Answerer:   no\n",
      "  agloss:None\n",
      "\n",
      "Questioner: is it disgust?\n",
      "  qgloss:e==disgust\n",
      "Answerer:   no\n",
      "  agloss:None\n",
      "\n",
      "Questioner: is it apathy?\n",
      "  qgloss:e==apathy\n",
      "Answerer:   no\n",
      "  agloss:None\n",
      "\n",
      "Questioner: is it dissappointment?\n",
      "  qgloss:e==disappointment\n",
      "Answerer:   no\n",
      "  agloss:None\n",
      "\n",
      "Questioner: is it similar to anger?\n",
      "  qgloss:similar(e,anger)\n",
      "Answerer:   no\n",
      "  agloss:None\n",
      "\n",
      "Questioner: does it happen after nasty surprise?\n",
      "  qgloss:situation(e,afterNastySurprise)\n",
      "Answerer:   no\n",
      "  agloss:None\n",
      "\n",
      "Questioner: is it caused by something in particular (as opposed to just popping up)?\n",
      "  qgloss:cause(something,e)\n",
      "Answerer:   no\n",
      "  agloss:None\n",
      "\n",
      "Questioner: lets see... is it similar to happiness?\n",
      "  qgloss:similar(e,happiness)\n",
      "Answerer:   no\n",
      "  agloss:None\n",
      "\n",
      "Questioner: can it be associated with happiness?\n",
      "  qgloss:associated(e,happiness)\n",
      "Answerer:   no\n",
      "  agloss:None\n",
      "\n",
      "Questioner: fear?\n",
      "  qgloss:e==fear\n",
      "Answerer:   no\n",
      "  agloss:None\n",
      "\n",
      "Questioner: anger?\n",
      "  qgloss:e==anger\n",
      "Answerer:   no\n",
      "  agloss:None\n",
      "\n"
     ]
    }
   ],
   "source": [
    "# check out semantic annotations/glosses\n",
    "n = 10\n",
    "match = hcmt.matches()[n]\n",
    "print(match.emotion())\n",
    "print()\n",
    "emptystr = ''\n",
    "for t in match.turns():\n",
    "    print(f\"Questioner: {getattr(t, 'q', '')}\")\n",
    "    print(f\"  qgloss:{t.qgloss}\")\n",
    "    print(f\"Answerer:   {t.a}\")\n",
    "    print(f\"  agloss:{getattr(t, 'agloss', '')}\")\n",
    "    print()\n",
    "    \n",
    "# note, the a gloss is not included, it's actually in the json data as \"null\""
   ]
  },
  {
   "cell_type": "code",
   "execution_count": 9,
   "id": "celtic-pipeline",
   "metadata": {},
   "outputs": [
    {
     "data": {
      "text/plain": [
       "['__class__',\n",
       " '__delattr__',\n",
       " '__dict__',\n",
       " '__dir__',\n",
       " '__doc__',\n",
       " '__eq__',\n",
       " '__format__',\n",
       " '__ge__',\n",
       " '__getattribute__',\n",
       " '__gt__',\n",
       " '__hash__',\n",
       " '__init__',\n",
       " '__init_subclass__',\n",
       " '__le__',\n",
       " '__lt__',\n",
       " '__module__',\n",
       " '__ne__',\n",
       " '__new__',\n",
       " '__reduce__',\n",
       " '__reduce_ex__',\n",
       " '__repr__',\n",
       " '__setattr__',\n",
       " '__sizeof__',\n",
       " '__str__',\n",
       " '__subclasshook__',\n",
       " '__weakref__',\n",
       " '_emotion',\n",
       " '_turns',\n",
       " 'emotion',\n",
       " 'readTurns',\n",
       " 'turns']"
      ]
     },
     "execution_count": 9,
     "metadata": {},
     "output_type": "execute_result"
    }
   ],
   "source": [
    "# examine match-level info\n",
    "n = 10\n",
    "match = hcmt.matches()[n]\n",
    "# print(f\"the emotion of this match was: {match._emotion}\")\n",
    "#print(f\"this match had {match._questions} questions\")\n",
    "#print(f\"the outcome was: {match._outcome}\")\n",
    "# doesn't have questions or outcome: outcome was checked manually in the data collection in mturk interface \n",
    "# and by experimenters\n",
    "dir(match)"
   ]
  },
  {
   "cell_type": "code",
   "execution_count": 10,
   "id": "hollow-version",
   "metadata": {},
   "outputs": [
    {
     "data": {
      "text/plain": [
       "['accepting',\n",
       " 'aggravation',\n",
       " 'agitation',\n",
       " 'alienation',\n",
       " 'ambiguity',\n",
       " 'ambivalence',\n",
       " 'anger',\n",
       " 'angry',\n",
       " 'annoyance',\n",
       " 'anxiety',\n",
       " 'apathy',\n",
       " 'astounded',\n",
       " 'avarice',\n",
       " 'aversion',\n",
       " 'being appalled',\n",
       " 'boredom',\n",
       " 'bravery',\n",
       " 'caring',\n",
       " 'coldness',\n",
       " 'concern',\n",
       " 'conflicted',\n",
       " 'confusion',\n",
       " 'content',\n",
       " 'contentment',\n",
       " 'courage',\n",
       " 'curiosity',\n",
       " 'delight',\n",
       " 'delirium',\n",
       " 'depression',\n",
       " 'despise',\n",
       " 'disappointment',\n",
       " 'discontentment',\n",
       " 'disgust',\n",
       " 'disillusionment',\n",
       " 'dissatisfied',\n",
       " 'distress',\n",
       " 'downcast',\n",
       " 'downtrodden',\n",
       " 'ecstasy',\n",
       " 'educated',\n",
       " 'elation',\n",
       " 'embarrassment',\n",
       " 'empathy',\n",
       " 'enamored',\n",
       " 'energetic',\n",
       " 'enjoyment',\n",
       " 'envy',\n",
       " 'euphoria',\n",
       " 'excitement',\n",
       " 'exhaustion',\n",
       " 'exotic',\n",
       " 'exuberance',\n",
       " 'failure',\n",
       " 'fear',\n",
       " 'frustration',\n",
       " 'fury',\n",
       " 'happiness',\n",
       " 'hate',\n",
       " 'hatred',\n",
       " 'hope',\n",
       " 'hostility',\n",
       " 'hunger',\n",
       " 'indifference',\n",
       " 'infuriation',\n",
       " 'inquisitiveness',\n",
       " 'inspiration',\n",
       " 'introspection',\n",
       " 'irritation',\n",
       " 'jealousy',\n",
       " 'joy',\n",
       " 'joyfulness',\n",
       " 'jubilance',\n",
       " 'loneliness',\n",
       " 'love',\n",
       " 'loved',\n",
       " 'lust',\n",
       " 'mad',\n",
       " 'mania',\n",
       " 'maniacal',\n",
       " 'maudlin',\n",
       " 'melancholy',\n",
       " 'mischievous',\n",
       " 'misery',\n",
       " 'morose',\n",
       " 'nervousness',\n",
       " 'nostalgia',\n",
       " 'outrage',\n",
       " 'overwhelmed',\n",
       " 'patience',\n",
       " 'perplexity',\n",
       " 'pessimism',\n",
       " 'pity',\n",
       " 'playfulness',\n",
       " 'pleasure',\n",
       " 'quixotic',\n",
       " 'relaxation',\n",
       " 'remorse',\n",
       " 'resentment',\n",
       " 'respect',\n",
       " 'sadness',\n",
       " 'satisfaction',\n",
       " 'serenity',\n",
       " 'shame',\n",
       " 'sleepiness',\n",
       " 'stress',\n",
       " 'stupor',\n",
       " 'suffering',\n",
       " 'suicidal',\n",
       " 'surprise',\n",
       " 'thrill',\n",
       " 'tiredness',\n",
       " 'unsure',\n",
       " 'upset',\n",
       " 'worry']"
      ]
     },
     "execution_count": 10,
     "metadata": {},
     "output_type": "execute_result"
    }
   ],
   "source": [
    "emotions = set([m._emotion for m in hcmt.matches()])\n",
    "sorted(emotions)"
   ]
  }
 ],
 "metadata": {
  "kernelspec": {
   "display_name": "Python 3",
   "language": "python",
   "name": "python3"
  },
  "language_info": {
   "codemirror_mode": {
    "name": "ipython",
    "version": 3
   },
   "file_extension": ".py",
   "mimetype": "text/x-python",
   "name": "python",
   "nbconvert_exporter": "python",
   "pygments_lexer": "ipython3",
   "version": "3.7.9"
  }
 },
 "nbformat": 4,
 "nbformat_minor": 5
}
