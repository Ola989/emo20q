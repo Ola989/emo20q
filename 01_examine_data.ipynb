{
 "cells": [
  {
   "cell_type": "code",
   "execution_count": null,
   "id": "lesbian-finger",
   "metadata": {},
   "outputs": [],
   "source": [
    "%load_ext autoreload\n",
    "%autoreload 2\n",
    "# uncomment the following lines to run the notebook on colab\n",
    "# !git clone https://github.com/abecode/emo20q\n",
    "# import sys\n",
    "# sys.path.append(\"emo20q\")"
   ]
  },
  {
   "cell_type": "markdown",
   "id": "similar-integration",
   "metadata": {},
   "source": [
    "# load human-human data"
   ]
  },
  {
   "cell_type": "code",
   "execution_count": null,
   "id": "intended-sperm",
   "metadata": {},
   "outputs": [],
   "source": [
    "from emo20q.gamedata import HumanHumanTournament\n",
    "hht = HumanHumanTournament()"
   ]
  },
  {
   "cell_type": "code",
   "execution_count": null,
   "id": "pregnant-association",
   "metadata": {},
   "outputs": [
    {
     "data": {
      "text/plain": [
       "110"
      ]
     },
     "execution_count": null,
     "metadata": {},
     "output_type": "execute_result"
    }
   ],
   "source": [
    "# how many human matches/games are there?\n",
    "len(hht.matches)"
   ]
  },
  {
   "cell_type": "code",
   "execution_count": null,
   "id": "german-trade",
   "metadata": {},
   "outputs": [
    {
     "name": "stdout",
     "output_type": "stream",
     "text": [
      "Questioner: is it humorous one?\n",
      "Answerer:   no, serious.\n",
      "\n",
      "Questioner: kind of a nightmare?\n",
      "Answerer:   no, not at all\n",
      "\n",
      "Questioner: is it associated with sadness\n",
      "Answerer:   no\n",
      "\n",
      "Questioner: would you feel this in a helpless situation?\n",
      "Answerer:   no... that's number 4.\n",
      "\n",
      "Questioner: desperate\n",
      "Answerer:   no\n",
      "\n",
      "Questioner: devotion kind?\n",
      "Answerer:   no.  It can be, but not necessarily\n",
      "\n",
      "Questioner: I have to get out. what is it?\n",
      "Answerer:   okay... it's \"thankful\"\n",
      "\n"
     ]
    }
   ],
   "source": [
    "# examine match n\n",
    "n = 10\n",
    "match = hht.matches[n]\n",
    "for t in match.turns:\n",
    "    print(f\"Questioner: {t.q}\")\n",
    "    print(f\"Answerer:   {t.a}\")\n",
    "    print()\n",
    "          "
   ]
  },
  {
   "cell_type": "code",
   "execution_count": null,
   "id": "quantitative-heath",
   "metadata": {},
   "outputs": [
    {
     "name": "stdout",
     "output_type": "stream",
     "text": [
      "Questioner: is it humorous one?\n",
      "  qgloss:subset(e,humorous)\n",
      "Answerer:   no, serious.\n",
      "  agloss:no\n",
      "\n",
      "Questioner: kind of a nightmare?\n",
      "  qgloss:subset(e,nightmare)\n",
      "Answerer:   no, not at all\n",
      "  agloss:no\n",
      "\n",
      "Questioner: is it associated with sadness\n",
      "  qgloss:associated(e,sadness)\n",
      "Answerer:   no\n",
      "  agloss:no\n",
      "\n",
      "Questioner: would you feel this in a helpless situation?\n",
      "  qgloss:situation(e,helpless)\n",
      "Answerer:   no... that's number 4.\n",
      "  agloss:no,status\n",
      "\n",
      "Questioner: desperate\n",
      "  qgloss:e==despair\n",
      "Answerer:   no\n",
      "  agloss:no\n",
      "\n",
      "Questioner: devotion kind?\n",
      "  qgloss:subset(e,devotion)\n",
      "Answerer:   no.  It can be, but not necessarily\n",
      "  agloss:possible:yes,necessary:no\n",
      "\n",
      "Questioner: I have to get out. what is it?\n",
      "  qgloss:giveup\n",
      "Answerer:   okay... it's \"thankful\"\n",
      "  agloss:answer,done\n",
      "\n"
     ]
    }
   ],
   "source": [
    "# check out semantic annotations/glosses\n",
    "n = 10\n",
    "match = hht.matches[n]\n",
    "for t in match.turns:\n",
    "    print(f\"Questioner: {t.q}\")\n",
    "    print(f\"  qgloss:{t.qgloss}\")\n",
    "    print(f\"Answerer:   {t.a}\")\n",
    "    print(f\"  agloss:{t.agloss}\")\n",
    "    print()\n",
    "    "
   ]
  },
  {
   "cell_type": "code",
   "execution_count": null,
   "id": "clinical-witch",
   "metadata": {},
   "outputs": [
    {
     "name": "stdout",
     "output_type": "stream",
     "text": [
      "the emotion of this match was: thankfulness\n",
      "it started at 2011-02-14 16:04:52\n",
      "this match had 9 questions\n",
      "the outcome was: failure/giveup\n"
     ]
    }
   ],
   "source": [
    "# examine match-level info\n",
    "n = 10\n",
    "match = hht.matches[n]\n",
    "print(f\"the emotion of this match was: {match.emotion}\")\n",
    "print(f\"it started at {match.start}\")\n",
    "print(f\"this match had {match.numquestions} questions\")\n",
    "print(f\"the outcome was: {match.outcome}\")\n",
    "#dir(match)"
   ]
  },
  {
   "cell_type": "code",
   "execution_count": null,
   "id": "planned-exclusion",
   "metadata": {},
   "outputs": [
    {
     "data": {
      "text/plain": [
       "['admiration',\n",
       " 'adoration',\n",
       " 'affection',\n",
       " 'affection/love',\n",
       " 'amusement',\n",
       " 'anger',\n",
       " 'annoyance',\n",
       " 'annoyance/irritated',\n",
       " 'anxiety',\n",
       " 'apathy/uninterested',\n",
       " 'awe',\n",
       " 'boredom',\n",
       " 'bravery',\n",
       " 'calm',\n",
       " 'cheerfulness',\n",
       " 'confidence',\n",
       " 'confusion',\n",
       " 'contempt',\n",
       " 'contentment',\n",
       " 'contentment/calm',\n",
       " 'depression',\n",
       " 'depression/misery',\n",
       " 'devastation',\n",
       " 'disappointment',\n",
       " 'disgust',\n",
       " 'dread/hopelessness',\n",
       " 'eagerness/determination',\n",
       " 'embarrassment',\n",
       " 'enthusiasm',\n",
       " 'enthusiasm/eagerness',\n",
       " 'envy',\n",
       " 'envy/jealousy',\n",
       " 'exasperation',\n",
       " 'excitement',\n",
       " 'exhaustion',\n",
       " 'exhilaration/thrill',\n",
       " 'fear/distress',\n",
       " 'fear/scared',\n",
       " 'frustration',\n",
       " 'fury',\n",
       " 'glee',\n",
       " 'gratefulness',\n",
       " 'grumpiness',\n",
       " 'guilt',\n",
       " 'guilt/regret',\n",
       " 'happiness',\n",
       " 'helpless',\n",
       " 'hope',\n",
       " 'hope/feelingLucky',\n",
       " 'insecurity/shyness',\n",
       " 'jealousy',\n",
       " 'jealousy/envy',\n",
       " 'joy',\n",
       " 'loneliness',\n",
       " 'love',\n",
       " 'mad/anger',\n",
       " 'melancholy',\n",
       " 'pity/sympathy',\n",
       " 'pride',\n",
       " 'proud',\n",
       " 'regret',\n",
       " 'relief',\n",
       " 'sadness',\n",
       " 'satisfaction',\n",
       " 'serenity',\n",
       " 'shame',\n",
       " 'shock',\n",
       " 'shyness',\n",
       " 'silly',\n",
       " 'soberness',\n",
       " 'sorrow/sadness',\n",
       " 'stress',\n",
       " 'suffering',\n",
       " 'surprise',\n",
       " 'tense/uncomfortable',\n",
       " 'terror',\n",
       " 'thankfulness',\n",
       " 'thrill',\n",
       " 'thrill/entrancement',\n",
       " 'tiredness',\n",
       " 'wariness',\n",
       " 'worry',\n",
       " 'worry/anxiety',\n",
       " 'worry/scared']"
      ]
     },
     "execution_count": null,
     "metadata": {},
     "output_type": "execute_result"
    }
   ],
   "source": [
    "emotions = set([m.emotion for m in hht.matches])\n",
    "sorted(emotions)\n",
    "# slashes denote when an answerer settled for a synonym\n"
   ]
  },
  {
   "cell_type": "markdown",
   "id": "absent-reliance",
   "metadata": {},
   "source": [
    "***\n",
    "\n",
    "# load human-computer pilot data"
   ]
  },
  {
   "cell_type": "code",
   "execution_count": null,
   "id": "regular-sociology",
   "metadata": {},
   "outputs": [],
   "source": [
    "from emo20q.gamedata import HumanComputerTournament\n",
    "hct = HumanComputerTournament()"
   ]
  },
  {
   "cell_type": "code",
   "execution_count": null,
   "id": "charming-angel",
   "metadata": {},
   "outputs": [
    {
     "data": {
      "text/plain": [
       "110"
      ]
     },
     "execution_count": null,
     "metadata": {},
     "output_type": "execute_result"
    }
   ],
   "source": [
    "# how many human matches/games are there?\n",
    "len(hct.matches)"
   ]
  },
  {
   "cell_type": "markdown",
   "id": "convertible-collectible",
   "metadata": {},
   "source": [
    "kind of odd that it's the same number of turns as before, but the data is different..."
   ]
  },
  {
   "cell_type": "code",
   "execution_count": null,
   "id": "embedded-spice",
   "metadata": {},
   "outputs": [
    {
     "name": "stdout",
     "output_type": "stream",
     "text": [
      "Questioner: e.valence==positive\n",
      "Answerer:   No.\n",
      "\n"
     ]
    }
   ],
   "source": [
    "# examine match n\n",
    "n = 10\n",
    "match = hct.matches[n]\n",
    "for t in match.turns:\n",
    "    print(f\"Questioner: {t.qgloss}\")\n",
    "    print(f\"Answerer:   {t.a}\")\n",
    "    print()"
   ]
  },
  {
   "cell_type": "markdown",
   "id": "damaged-northwest",
   "metadata": {},
   "source": [
    "Note: the actual question text was not recorded in the pilot, just the underlying semantic gloss\n",
    "\n",
    "Also, for some reason, this just had one turn (maybe a lucky guess or bad data)"
   ]
  },
  {
   "cell_type": "code",
   "execution_count": null,
   "id": "floral-saudi",
   "metadata": {},
   "outputs": [
    {
     "name": "stdout",
     "output_type": "stream",
     "text": [
      "0 60\n",
      "\n",
      "1 21\n",
      "\n",
      "2 11\n",
      "\n",
      "3 21\n",
      "\n",
      "4 21\n",
      "\n",
      "5 21\n",
      "\n",
      "6 22\n",
      "\n",
      "7 5\n",
      "\n",
      "8 1\n",
      "\n",
      "9 1\n",
      "\n",
      "10 1\n",
      "\n",
      "11 1\n",
      "\n",
      "12 1\n",
      "\n",
      "13 2\n",
      "\n",
      "14 1\n",
      "\n",
      "15 2\n",
      "\n",
      "16 1\n",
      "\n",
      "17 4\n",
      "\n",
      "18 1\n",
      "\n",
      "19 3\n",
      "\n",
      "20 1\n",
      "\n",
      "21 2\n",
      "\n",
      "22 1\n",
      "\n",
      "23 1\n",
      "\n",
      "24 13\n",
      "\n",
      "25 20\n",
      "\n",
      "26 20\n",
      "\n",
      "27 21\n",
      "\n",
      "28 22\n",
      "\n",
      "29 21\n",
      "\n",
      "30 21\n",
      "\n",
      "31 11\n",
      "\n",
      "32 13\n",
      "\n",
      "33 11\n",
      "\n",
      "34 21\n",
      "\n",
      "35 18\n",
      "\n",
      "36 10\n",
      "\n",
      "37 21\n",
      "\n",
      "38 21\n",
      "\n",
      "39 14\n",
      "\n",
      "40 21\n",
      "\n",
      "41 12\n",
      "\n",
      "42 15\n",
      "\n",
      "43 21\n",
      "\n",
      "44 18\n",
      "\n",
      "45 16\n",
      "\n",
      "46 21\n",
      "\n",
      "47 21\n",
      "\n",
      "48 12\n",
      "\n",
      "49 12\n",
      "\n",
      "50 21\n",
      "\n",
      "51 21\n",
      "\n",
      "52 21\n",
      "\n",
      "53 21\n",
      "\n",
      "54 21\n",
      "\n",
      "55 21\n",
      "\n",
      "56 12\n",
      "\n",
      "57 14\n",
      "\n",
      "58 18\n",
      "\n",
      "59 42\n",
      "\n",
      "60 21\n",
      "\n",
      "61 21\n",
      "\n",
      "62 21\n",
      "\n",
      "63 21\n",
      "\n",
      "64 21\n",
      "\n",
      "65 15\n",
      "\n",
      "66 21\n",
      "\n",
      "67 16\n",
      "\n",
      "68 21\n",
      "\n",
      "69 21\n",
      "\n",
      "70 11\n",
      "\n",
      "71 12\n",
      "\n",
      "72 21\n",
      "\n",
      "73 21\n",
      "\n",
      "74 21\n",
      "\n",
      "75 11\n",
      "\n",
      "76 13\n",
      "\n",
      "77 15\n",
      "\n",
      "78 17\n",
      "\n",
      "79 21\n",
      "\n",
      "80 16\n",
      "\n",
      "81 14\n",
      "\n",
      "82 40\n",
      "\n",
      "83 16\n",
      "\n",
      "84 21\n",
      "\n",
      "85 34\n",
      "\n",
      "86 1\n",
      "\n",
      "87 4\n",
      "\n",
      "88 30\n",
      "\n",
      "89 21\n",
      "\n",
      "90 21\n",
      "\n",
      "91 21\n",
      "\n",
      "92 20\n",
      "\n",
      "93 21\n",
      "\n",
      "94 21\n",
      "\n",
      "95 21\n",
      "\n",
      "96 21\n",
      "\n",
      "97 21\n",
      "\n",
      "98 19\n",
      "\n",
      "99 21\n",
      "\n",
      "100 21\n",
      "\n",
      "101 11\n",
      "\n",
      "102 21\n",
      "\n",
      "103 22\n",
      "\n",
      "104 19\n",
      "\n",
      "105 16\n",
      "\n",
      "106 21\n",
      "\n",
      "107 44\n",
      "\n",
      "108 16\n",
      "\n",
      "109 1\n",
      "\n"
     ]
    }
   ],
   "source": [
    "# some of the matches have too many turns\n",
    "for i, m in enumerate(hct.matches):\n",
    "    print(i, len(m.turns))\n",
    "    print()"
   ]
  },
  {
   "cell_type": "code",
   "execution_count": null,
   "id": "disturbed-imaging",
   "metadata": {},
   "outputs": [],
   "source": []
  },
  {
   "cell_type": "code",
   "execution_count": null,
   "id": "motivated-helicopter",
   "metadata": {},
   "outputs": [],
   "source": []
  },
  {
   "cell_type": "code",
   "execution_count": null,
   "id": "innovative-badge",
   "metadata": {},
   "outputs": [
    {
     "name": "stdout",
     "output_type": "stream",
     "text": [
      "the emotion of this match was: anger\n"
     ]
    },
    {
     "data": {
      "text/plain": [
       "['__class__',\n",
       " '__delattr__',\n",
       " '__dict__',\n",
       " '__dir__',\n",
       " '__doc__',\n",
       " '__eq__',\n",
       " '__format__',\n",
       " '__ge__',\n",
       " '__getattribute__',\n",
       " '__gt__',\n",
       " '__hash__',\n",
       " '__init__',\n",
       " '__init_subclass__',\n",
       " '__le__',\n",
       " '__lt__',\n",
       " '__module__',\n",
       " '__ne__',\n",
       " '__new__',\n",
       " '__reduce__',\n",
       " '__reduce_ex__',\n",
       " '__repr__',\n",
       " '__setattr__',\n",
       " '__sizeof__',\n",
       " '__str__',\n",
       " '__subclasshook__',\n",
       " '__weakref__',\n",
       " 'emotion',\n",
       " 'readTurns',\n",
       " 'turns']"
      ]
     },
     "execution_count": null,
     "metadata": {},
     "output_type": "execute_result"
    }
   ],
   "source": [
    "# examine match-level info\n",
    "n = 10\n",
    "match = hct.matches[n]\n",
    "print(f\"the emotion of this match was: {match.emotion}\")\n",
    "#print(f\"this match had {match.numquestions} questions\")\n",
    "#print(f\"the outcome was: {match._outcome}\")\n",
    "# doesn't have questions or outcome\n",
    "dir(match)"
   ]
  },
  {
   "cell_type": "code",
   "execution_count": null,
   "id": "collective-surname",
   "metadata": {},
   "outputs": [
    {
     "ename": "TypeError",
     "evalue": "'list' object is not callable",
     "output_type": "error",
     "traceback": [
      "\u001b[0;31m---------------------------------------------------------------------------\u001b[0m",
      "\u001b[0;31mTypeError\u001b[0m                                 Traceback (most recent call last)",
      "\u001b[0;32m<ipython-input-13-f71b50eb704d>\u001b[0m in \u001b[0;36m<module>\u001b[0;34m\u001b[0m\n\u001b[0;32m----> 1\u001b[0;31m \u001b[0memotions\u001b[0m \u001b[0;34m=\u001b[0m \u001b[0mset\u001b[0m\u001b[0;34m(\u001b[0m\u001b[0;34m[\u001b[0m\u001b[0mm\u001b[0m\u001b[0;34m.\u001b[0m\u001b[0memotion\u001b[0m \u001b[0;32mfor\u001b[0m \u001b[0mm\u001b[0m \u001b[0;32min\u001b[0m \u001b[0mhct\u001b[0m\u001b[0;34m.\u001b[0m\u001b[0mmatches\u001b[0m\u001b[0;34m(\u001b[0m\u001b[0;34m)\u001b[0m\u001b[0;34m]\u001b[0m\u001b[0;34m)\u001b[0m\u001b[0;34m\u001b[0m\u001b[0;34m\u001b[0m\u001b[0m\n\u001b[0m\u001b[1;32m      2\u001b[0m \u001b[0msorted\u001b[0m\u001b[0;34m(\u001b[0m\u001b[0memotions\u001b[0m\u001b[0;34m)\u001b[0m\u001b[0;34m\u001b[0m\u001b[0;34m\u001b[0m\u001b[0m\n",
      "\u001b[0;31mTypeError\u001b[0m: 'list' object is not callable"
     ]
    }
   ],
   "source": [
    "emotions = set([m.emotion for m in hct.matches()])\n",
    "sorted(emotions)"
   ]
  },
  {
   "cell_type": "markdown",
   "id": "theoretical-competition",
   "metadata": {},
   "source": [
    "***\n",
    "# load human-computer mturk data"
   ]
  },
  {
   "cell_type": "code",
   "execution_count": null,
   "id": "color-management",
   "metadata": {},
   "outputs": [],
   "source": [
    "from emo20q.gamedata import HumanComputerCouchJsonTournament\n",
    "hcmt = HumanComputerCouchJsonTournament()\n",
    "len(hcmt.matches())"
   ]
  },
  {
   "cell_type": "code",
   "execution_count": null,
   "id": "broke-massage",
   "metadata": {},
   "outputs": [],
   "source": [
    "# check out semantic annotations/glosses\n",
    "n = 10\n",
    "match = hcmt.matches()[n]\n",
    "print(match.emotion())\n",
    "print()\n",
    "emptystr = ''\n",
    "for t in match.turns():\n",
    "    print(f\"Questioner: {getattr(t, 'q', '')}\")\n",
    "    print(f\"  qgloss:{t.qgloss}\")\n",
    "    print(f\"Answerer:   {t.a}\")\n",
    "    print(f\"  agloss:{getattr(t, 'agloss', '')}\")\n",
    "    print()\n",
    "    \n",
    "# note, the a gloss is not included, it's actually in the json data as \"null\""
   ]
  },
  {
   "cell_type": "code",
   "execution_count": null,
   "id": "celtic-pipeline",
   "metadata": {},
   "outputs": [],
   "source": [
    "# examine match-level info\n",
    "n = 10\n",
    "match = hcmt.matches()[n]\n",
    "# print(f\"the emotion of this match was: {match._emotion}\")\n",
    "#print(f\"this match had {match._questions} questions\")\n",
    "#print(f\"the outcome was: {match._outcome}\")\n",
    "# doesn't have questions or outcome: outcome was checked manually in the data collection in mturk interface \n",
    "# and by experimenters\n",
    "dir(match)"
   ]
  },
  {
   "cell_type": "code",
   "execution_count": null,
   "id": "hollow-version",
   "metadata": {},
   "outputs": [],
   "source": [
    "emotions = set([m._emotion for m in hcmt.matches()])\n",
    "sorted(emotions)"
   ]
  }
 ],
 "metadata": {
  "kernelspec": {
   "display_name": "Python 3",
   "language": "python",
   "name": "python3"
  },
  "language_info": {
   "codemirror_mode": {
    "name": "ipython",
    "version": 3
   },
   "file_extension": ".py",
   "mimetype": "text/x-python",
   "name": "python",
   "nbconvert_exporter": "python",
   "pygments_lexer": "ipython3",
   "version": "3.7.9"
  }
 },
 "nbformat": 4,
 "nbformat_minor": 5
}
